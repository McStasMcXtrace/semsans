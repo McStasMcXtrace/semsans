{
 "cells": [
  {
   "cell_type": "markdown",
   "metadata": {},
   "source": [
    "# Another look at small-angle corrections\n",
    "In the elastic regime, the initial and final wave vectors $k_i$, $k_f$ are related through wave vector transfer $Q = |k_f - k_i| = k_i 2\\sin\\theta$ with $2\\theta$ being the angle between $k_i, k_f$.\n",
    "\n",
    "Why is this true? Due to the elastic assumption $|k_i| = |k_f|$ so that whatever the angle between, these will form an isosceles triangle. This can be cut in two to yield two opposite sides of triangles with hypotenuse $k_i$ and angle $\\theta$. In small-angle approximation, $Q = k_i2\\theta$. In other words, $Q$ is $k_i$ times the angle between $k_i$, $k_f$. \n",
    "\n",
    "Back to SEMSANS. For small angles mapping to small $\\frac{y}{L_s}$, the total angle is approximately $\\frac{y}{L_s}$ and $Q = k_i \\frac{y}{L_s}$ must hold.\n",
    "\n",
    "What about slightly bigger angles? Then the true angle changes and is related to $y$ in a more complicated way. The relation si\n",
    "$\\frac{y}{L_s} = \\tan\\theta_s$\n",
    "with $\\theta_s$ being the total scattering angle.\n",
    "\n",
    "So $\\theta_s = \\arctan\\frac{y}{L_s}$ gives the total scattering angle. This gives as new correct formula\n",
    "\n",
    "$$Q = 2k_i\\sin(\\frac{\\arctan\\frac{y}{L_s}}{2})$$\n",
    "\n",
    "This can be rewritten to\n",
    "\n",
    "$$Q = 2k_i \\frac{\\frac{y}{L_s}}{\\sqrt{2}\\sqrt{\\frac{y^2}{L_s^2} + 1 }\\sqrt{\\frac{1}{\\sqrt{\\frac{y^2}{L_s^2} + 1}}+1}}$$\n",
    "\n",
    "Consider the limit $y \\ll L_s$: Then\n",
    "\n",
    "$$Q \\approx 2k_i \\frac{\\frac{y}{L_s}}{\\sqrt{2}\\sqrt{\\frac{y^2}{L_s^2} + 1 }\\sqrt{2 + \\frac{y^2}{2L_s^2}}} = k_i \\frac{\\frac{y}{L_s}}{\\sqrt{\\frac{y^2}{L_s^2} + 1 }\\sqrt{1 + \\frac{y^2}{4L_s^2}}} \\approx  k_i \\frac{\\frac{y}{L_s}}{\\sqrt{1 + \\frac{3y^2}{4L_s^2}}} \\approx  k_i(\\frac{y}{L_s} - \\frac{3y^3}{8L_s^3})$$\n",
    "\n"
   ]
  },
  {
   "cell_type": "markdown",
   "metadata": {
    "vscode": {
     "languageId": "plaintext"
    }
   },
   "source": [
    "# About $\\sin\\arctan x$\n",
    "Why can this be rewritten as it is? $\\theta = \\arctan x$ is an angle with the property that opposite over adjacent gives $x$. So this could correspond to a triangle with opposite side $x$, adjacent side $1$. Correspondingly, $\\sin\\theta$ must be the opposite side of such a triangle divided by the hypotenuse $\\sqrt{1 + x^2}$ giving\n",
    "$$\\sin\\arctan x = \\frac{x}{\\sqrt{1 + x^2}}$$\n",
    "\n",
    "What about $\\sin(\\frac{\\arctan x}{2})$? This gives a similar puzzle. Now again $\\arctan x$ suggests such a triangle but the $\\sin$ is of a triangle with half that angle!\n",
    "\n",
    "Here a half-argument formula can be used:\n",
    "$$\\sin^2(\\arctan x/2) = \\frac{1 - \\cos(\\arctan x)}{2} = \\frac{1 - \\frac{1}{\\sqrt{1 + x^2}}}{2}$$\n",
    "$$\\sin(\\arctan x/2) = \\sqrt{\\frac{\\sqrt{1 + x^2} - 1}{2\\sqrt{1 + x^2}}}$$"
   ]
  },
  {
   "cell_type": "markdown",
   "metadata": {},
   "source": []
  }
 ],
 "metadata": {
  "language_info": {
   "name": "python"
  }
 },
 "nbformat": 4,
 "nbformat_minor": 2
}

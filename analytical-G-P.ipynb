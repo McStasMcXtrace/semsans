{
 "cells": [
  {
   "cell_type": "code",
   "execution_count": null,
   "metadata": {},
   "outputs": [],
   "source": [
    "import numpy as np\n",
    "import matplotlib.pyplot as plt\n",
    "from definitions import *"
   ]
  },
  {
   "cell_type": "code",
   "execution_count": null,
   "metadata": {},
   "outputs": [],
   "source": [
    "R = 10000e-10 # m\n",
    "z = np.linspace(0,7e-6,1000)\n",
    "xi = z / R\n",
    "G_xi = G(z, R)\n",
    "G_xi_2 = G(z, 2 * R)\n",
    "\n",
    "plt.plot(z*1e6,G_xi)\n",
    "plt.plot(z*1e6,G_xi_2)\n",
    "plt.xlabel('z [um]')\n",
    "plt.ylabel('G(z)')\n",
    "plt.grid()"
   ]
  },
  {
   "cell_type": "code",
   "execution_count": null,
   "metadata": {},
   "outputs": [],
   "source": [
    "R = 10000e-10 # m\n",
    "z = np.linspace(0,7e-6,1000)\n",
    "G_xi = G_norm(z, R)\n",
    "G_xi_2 = G_norm(z, 2 * R)\n",
    "\n",
    "plt.plot(z*1e6,G_xi)\n",
    "plt.plot(z*1e6,G_xi_2)\n",
    "plt.xlabel('z [um]')\n",
    "plt.ylabel('G(z)')\n",
    "plt.grid()"
   ]
  },
  {
   "cell_type": "code",
   "execution_count": null,
   "metadata": {},
   "outputs": [],
   "source": [
    "P = np.exp(G_xi - s_t())\n",
    "plt.plot(z*1e6,P)\n",
    "plt.xlabel('z [um]')\n",
    "plt.ylabel('P(z)')\n",
    "plt.grid()"
   ]
  },
  {
   "cell_type": "code",
   "execution_count": null,
   "metadata": {},
   "outputs": [],
   "source": [
    "z_sim, P_sim = np.genfromtxt(f'simulation-fit.txt', delimiter=',',usecols=(0,1),unpack=True)\n",
    "\n",
    "plt.plot(z*1e6,P, label='Analytical')\n",
    "plt.plot(z_sim*1e6,P_sim,'.', label='Fitted to simulation')\n",
    "plt.xlabel('z [um]')\n",
    "plt.ylabel('P(z)')\n",
    "plt.legend()\n",
    "plt.grid()"
   ]
  }
 ],
 "metadata": {
  "kernelspec": {
   "display_name": "bep",
   "language": "python",
   "name": "python3"
  },
  "language_info": {
   "codemirror_mode": {
    "name": "ipython",
    "version": 3
   },
   "file_extension": ".py",
   "mimetype": "text/x-python",
   "name": "python",
   "nbconvert_exporter": "python",
   "pygments_lexer": "ipython3",
   "version": "3.12.3"
  }
 },
 "nbformat": 4,
 "nbformat_minor": 2
}

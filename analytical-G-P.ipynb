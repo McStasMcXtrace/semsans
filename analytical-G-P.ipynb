{
 "cells": [
  {
   "cell_type": "code",
   "execution_count": null,
   "metadata": {},
   "outputs": [],
   "source": [
    "import numpy as np\n",
    "import matplotlib.pyplot as plt\n",
    "from definitions import *"
   ]
  },
  {
   "cell_type": "code",
   "execution_count": null,
   "metadata": {},
   "outputs": [],
   "source": [
    "R = 10000e-10 # m\n",
    "z = np.linspace(0,7e-6,1000)\n",
    "xi = z / R\n",
    "G_xi = G(z, R)\n",
    "G_xi_2 = G(z, 2 * R)\n",
    "\n",
    "plt.plot(z*1e6,G_xi)\n",
    "plt.plot(z*1e6,G_xi_2)\n",
    "plt.xlabel('z [um]')\n",
    "plt.ylabel('G(z)')\n",
    "plt.grid()"
   ]
  },
  {
   "cell_type": "code",
   "execution_count": null,
   "metadata": {},
   "outputs": [],
   "source": [
    "R = 10000e-10 # m\n",
    "Rs = [50e-9, 100e-9, 200e-9]\n",
    "for R in Rs:\n",
    "    z = np.linspace(0,500e-9,1000)\n",
    "    G_xi = G_norm(z, R)\n",
    "    # G_xi_2 = G_norm(z, 2 * R)\n",
    "\n",
    "    plt.plot(z*1e9,G_xi, label=rf'$R = {round(R * 1e9)}$ nm')\n",
    "    # plt.plot(z*1e6,G_xi_2)\n",
    "plt.xlabel(r'$\\delta$ [nm]')\n",
    "plt.ylabel(r'$G_0(\\delta)$')\n",
    "plt.xlim((0,500))\n",
    "plt.grid()\n",
    "plt.legend()\n",
    "plt.savefig(\"docs/analytical-G0.eps\",bbox_inches=\"tight\", pad_inches=0, format='eps')"
   ]
  },
  {
   "cell_type": "code",
   "execution_count": null,
   "metadata": {},
   "outputs": [],
   "source": [
    "P = P_analytical(z, R, t=1e-3, wavelength=2.165e-10)\n",
    "plt.plot(z*1e6,P)\n",
    "plt.xlabel('z [um]')\n",
    "plt.ylabel('P(z)')\n",
    "plt.grid()"
   ]
  },
  {
   "cell_type": "code",
   "execution_count": null,
   "metadata": {},
   "outputs": [],
   "source": [
    "z_sim, P_sim = np.genfromtxt(f'simulation-fit.txt', delimiter=',',usecols=(0,1),unpack=True)\n",
    "\n",
    "plt.plot(z*1e6,P, label='Analytical')\n",
    "plt.plot(z_sim*1e6,P_sim,'.', label='Fitted to simulation')\n",
    "plt.xlabel('z [um]')\n",
    "plt.ylabel('P(z)')\n",
    "plt.legend()\n",
    "plt.grid()"
   ]
  },
  {
   "cell_type": "markdown",
   "metadata": {},
   "source": [
    "# Analytical form factor\n",
    "Dilute SANS samples have $Q$-ranges corresponding to their form factor"
   ]
  },
  {
   "cell_type": "code",
   "execution_count": null,
   "metadata": {},
   "outputs": [],
   "source": [
    "def form_factor(Q, R):\n",
    "    return (3 * (np.sin(Q * R) - Q * R * np.cos(Q * R))/ (Q * R) ** 3)**2\n",
    "\n",
    "Rs = [50e-9, 300e-9, 2000e-9]\n",
    "Q = np.linspace(0, 0.015e10,100000)\n",
    "# for R in Rs:\n",
    "R = 100e-9\n",
    "ff = form_factor(Q,R)\n",
    "plt.plot(Q * 1e-10,ff)\n",
    "# plt.xscale('log')\n",
    "plt.yscale('log')\n",
    "plt.xlabel(r'$Q$ [Å$^{-1}$]')\n",
    "plt.ylabel(r'$P(Q)$')\n",
    "plt.xlim((0.0,0.015))\n",
    "\n",
    "plt.ylim((1e-7,1.1))\n",
    "plt.axvline(0.1 / R * 1e-10, linestyle='--', color='red', label=r'$Q_\\text{min} = 0.0001$ Å$^{-1}$')\n",
    "plt.axvline(10 / R * 1e-10, linestyle='--', color='green', label=r'$Q_\\text{max} = 0.01$ Å$^{-1}$')\n",
    "plt.legend()\n",
    "plt.grid()\n",
    "plt.savefig(\"docs/analytical-P-log.eps\",bbox_inches=\"tight\", pad_inches=0, format='eps')"
   ]
  },
  {
   "cell_type": "code",
   "execution_count": null,
   "metadata": {},
   "outputs": [],
   "source": [
    "from definitions import *\n",
    "from scipy import integrate\n",
    "\n",
    "def form_factor(Q, R):\n",
    "    Q = np.abs(Q)\n",
    "    return (3 * (np.sin(Q * R) - Q * R * np.cos(Q * R))/ (Q * R) ** 3)**2\n",
    "def Qy_to_y(Q_y, s_y, k):\n",
    "    y = L_s * np.tan(2 * np.arcsin(Q_y / (2 * k)))\n",
    "    return y + s_y\n",
    "\n",
    "def y_to_Qy(y, s_y, k):\n",
    "    Qy = 2 * k * np.sin(np.arctan((y - s_y) / L_s)/2)\n",
    "    return Qy\n",
    "\n",
    "def form_factor_y(y,s_y, k, R):\n",
    "    Qy = y_to_Qy(y,s_y, k)\n",
    "    return form_factor(Qy,R)\n",
    "    \n",
    "def ff_area(R, k):\n",
    "    y_lim = 0.025e-7 / R\n",
    "    y_oversized = np.linspace(-y_lim,y_lim, 100000)\n",
    "    dy = y_oversized[1] - y_oversized[0]\n",
    "    Q = y_to_Qy(y_oversized,0,k)\n",
    "    ff = form_factor(Q,R)\n",
    "    ff_area = integrate.trapezoid(ff) * dy\n",
    "    # print(ff_area)\n",
    "    return ff_area\n",
    "\n",
    "R = 50e-9\n",
    "Q_max = 0.015e10\n",
    "y_lim = 0.025e-7 / R\n",
    "y_oversized = np.linspace(-y_lim,y_lim, 100000)\n",
    "# dQ = Q[1] - Q[0]\n",
    "norm_map = {}\n",
    "for lambda_0 in [4.321e-10, 8e-10]:\n",
    "    k = 2 * np.pi / lambda_0\n",
    "    L_s = 1.8\n",
    "    Q = y_to_Qy(y_oversized,0,k)\n",
    "    ff = form_factor(Q,R)\n",
    "    # plt.plot(Q * 1e-10,ff)\n",
    "    ff_norm_factor = ff_area(R, k)\n",
    "    ff_norm = ff / ff_norm_factor\n",
    "    # norm_map[lambda_0] = ff_area\n",
    "    # print(ff_area)\n",
    "    # ff_norm = ff / ff_area\n",
    "    y = Qy_to_y(Q, 0, k=k)\n",
    "    plt.plot(y * 1e3,ff_norm, label=rf'$\\lambda_0 = {lambda_0 * 1e10}Å$')\n",
    "    # plt.yscale('log')\n",
    "    plt.legend()\n",
    "    plt.xlabel(r'$y$ [mm]')\n",
    "    plt.ylabel(r'$P(y)$')"
   ]
  },
  {
   "cell_type": "code",
   "execution_count": null,
   "metadata": {},
   "outputs": [],
   "source": [
    "from definitions import *\n",
    "from scipy import integrate\n",
    "\n",
    "def form_factor(Q, R):\n",
    "    Q = np.abs(Q)\n",
    "    return (3 * (np.sin(Q * R) - Q * R * np.cos(Q * R))/ (Q * R) ** 3)**2\n",
    "# Q_max = 0.015e10\n",
    "# Q = np.linspace(-Q_max, Q_max,100000)\n",
    "h_d = detector_size\n",
    "y = np.linspace(-h_d / 2, h_d/2, 10000)\n",
    "# dQ = Q[1] - Q[0]\n",
    "dy = y[1] - y[0]\n",
    "print(R)\n",
    "for (lambda_0, delta_limit) in [(4.321e-10, 70.71e-9), (8e-10,130.91)]:\n",
    "    for R in [50e-9, 100e-9, 200e-9, 2000e-9]:\n",
    "        # R = 300e-9\n",
    "        k = 2 * np.pi / lambda_0\n",
    "        L_s = 1.8\n",
    "        N_sample_points = 10000\n",
    "        s_y_range = np.linspace(-0.005,0.005,N_sample_points)\n",
    "        I_t = np.zeros_like(y)\n",
    "        norm_factor = ff_area(R, k)\n",
    "        for s_y in s_y_range:\n",
    "            ff = form_factor_y(y, s_y, k, R) / (N_sample_points * norm_factor)\n",
    "            # plt.plot(y, ff)\n",
    "            # plt.plot(y[indices] * 1e3,ff[indices])\n",
    "            I_t += ff * 0.01\n",
    "            # plt.yscale('log')\n",
    "        # plt.plot(y)\n",
    "        plt.plot(y * 1e3, I_t, label=rf'$R = {round(R * 1e9)}$nm')\n",
    "        plt.xlabel(r'$y$ [mm]')\n",
    "        plt.ylabel(r'$I(y)$')\n",
    "    plt.legend()\n",
    "    plt.xlim((-h_d/2 * 1e3,h_d/2 * 1e3))\n",
    "    plt.grid()\n",
    "    plt.savefig(f\"docs/simplified-I-scattering-{lambda_0 * 1e10}.eps\",bbox_inches=\"tight\", pad_inches=0, format='eps')\n",
    "\n",
    "    plt.show()\n",
    "# y  = np.linspace(-10e-3, 10e-3)\n"
   ]
  },
  {
   "cell_type": "code",
   "execution_count": null,
   "metadata": {},
   "outputs": [],
   "source": [
    "h_d / (L_s *2)"
   ]
  },
  {
   "cell_type": "code",
   "execution_count": null,
   "metadata": {},
   "outputs": [],
   "source": []
  }
 ],
 "metadata": {
  "kernelspec": {
   "display_name": "bep",
   "language": "python",
   "name": "python3"
  },
  "language_info": {
   "codemirror_mode": {
    "name": "ipython",
    "version": 3
   },
   "file_extension": ".py",
   "mimetype": "text/x-python",
   "name": "python",
   "nbconvert_exporter": "python",
   "pygments_lexer": "ipython3",
   "version": "3.12.3"
  }
 },
 "nbformat": 4,
 "nbformat_minor": 2
}

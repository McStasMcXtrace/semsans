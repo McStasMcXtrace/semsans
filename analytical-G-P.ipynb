{
 "cells": [
  {
   "cell_type": "code",
   "execution_count": null,
   "metadata": {},
   "outputs": [],
   "source": [
    "import numpy as np\n",
    "import matplotlib.pyplot as plt\n",
    "from definitions import *"
   ]
  },
  {
   "cell_type": "code",
   "execution_count": null,
   "metadata": {},
   "outputs": [],
   "source": [
    "R = 10000e-10 # m\n",
    "z = np.linspace(0,7e-6,1000)\n",
    "xi = z / R\n",
    "G_xi = G(z, R)\n",
    "G_xi_2 = G(z, 2 * R)\n",
    "\n",
    "plt.plot(z*1e6,G_xi)\n",
    "plt.plot(z*1e6,G_xi_2)\n",
    "plt.xlabel('z [um]')\n",
    "plt.ylabel('G(z)')\n",
    "plt.grid()"
   ]
  },
  {
   "cell_type": "code",
   "execution_count": null,
   "metadata": {},
   "outputs": [],
   "source": [
    "R = 10000e-10 # m\n",
    "Rs = [50e-9, 100e-9, 200e-9]\n",
    "for R in Rs:\n",
    "    z = np.linspace(0,500e-9,1000)\n",
    "    G_xi = G_norm(z, R)\n",
    "    # G_xi_2 = G_norm(z, 2 * R)\n",
    "\n",
    "    plt.plot(z*1e9,G_xi, label=rf'$R = {round(R * 1e9)}$ nm')\n",
    "    # plt.plot(z*1e6,G_xi_2)\n",
    "plt.xlabel(r'$\\delta$ [nm]')\n",
    "plt.ylabel(r'$G_0(\\delta)$')\n",
    "plt.xlim((0,500))\n",
    "plt.grid()\n",
    "plt.legend()\n",
    "plt.savefig(\"docs/analytical-G0.eps\",bbox_inches=\"tight\", pad_inches=0, format='eps')"
   ]
  },
  {
   "cell_type": "code",
   "execution_count": null,
   "metadata": {},
   "outputs": [],
   "source": [
    "P = P_analytical(z, R, t=1e-3, wavelength=2.165e-10)\n",
    "plt.plot(z*1e6,P)\n",
    "plt.xlabel('z [um]')\n",
    "plt.ylabel('P(z)')\n",
    "plt.grid()"
   ]
  },
  {
   "cell_type": "code",
   "execution_count": null,
   "metadata": {},
   "outputs": [],
   "source": [
    "z_sim, P_sim = np.genfromtxt(f'simulation-fit.txt', delimiter=',',usecols=(0,1),unpack=True)\n",
    "\n",
    "plt.plot(z*1e6,P, label='Analytical')\n",
    "plt.plot(z_sim*1e6,P_sim,'.', label='Fitted to simulation')\n",
    "plt.xlabel('z [um]')\n",
    "plt.ylabel('P(z)')\n",
    "plt.legend()\n",
    "plt.grid()"
   ]
  },
  {
   "cell_type": "markdown",
   "metadata": {},
   "source": [
    "# Analytical form factor\n",
    "Dilute SANS samples have $Q$-ranges corresponding to their form factor"
   ]
  },
  {
   "cell_type": "code",
   "execution_count": null,
   "metadata": {},
   "outputs": [],
   "source": [
    "def form_factor(Q, R):\n",
    "    return (3 * (np.sin(Q * R) - Q * R * np.cos(Q * R))/ (Q * R) ** 3)**2\n",
    "\n",
    "Rs = [50e-9, 300e-9, 2000e-9]\n",
    "Q = np.linspace(0, 0.005e10,1000000)\n",
    "# for R in Rs:\n",
    "R = 300e-9\n",
    "ff = form_factor(Q,R)\n",
    "plt.plot(Q * 1e-10,ff)\n",
    "# plt.xscale('log')\n",
    "# plt.yscale('log')\n",
    "plt.xlabel(r'$Q$ [Å$^{-1}$]')\n",
    "plt.ylabel(r'$P(Q)$')\n",
    "plt.xlim((0.0,0.005))\n",
    "plt.ylim((1e-8,1.1))\n",
    "plt.axvline(0.3 / R * 1e-10, linestyle='--', color='red', label=r'$Q = \\frac{0.3}{R}$')\n",
    "plt.axvline(10 / R * 1e-10, linestyle='--', color='red', label=r'$Q = \\frac{10}{R}$')\n",
    "plt.legend()\n",
    "plt.grid()"
   ]
  },
  {
   "cell_type": "code",
   "execution_count": null,
   "metadata": {},
   "outputs": [],
   "source": []
  }
 ],
 "metadata": {
  "kernelspec": {
   "display_name": "bep",
   "language": "python",
   "name": "python3"
  },
  "language_info": {
   "codemirror_mode": {
    "name": "ipython",
    "version": 3
   },
   "file_extension": ".py",
   "mimetype": "text/x-python",
   "name": "python",
   "nbconvert_exporter": "python",
   "pygments_lexer": "ipython3",
   "version": "3.1.undefined"
  }
 },
 "nbformat": 4,
 "nbformat_minor": 2
}

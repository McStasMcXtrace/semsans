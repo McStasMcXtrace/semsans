{
 "cells": [
  {
   "cell_type": "code",
   "execution_count": null,
   "metadata": {},
   "outputs": [],
   "source": [
    "import numpy as np\n",
    "import matplotlib.pyplot as plt"
   ]
  },
  {
   "cell_type": "code",
   "execution_count": null,
   "metadata": {},
   "outputs": [],
   "source": [
    "# Sample volume thickness\n",
    "t = 0.001 # m\n",
    "# Radius of sphere, equal to 1 um but expressed in AA\n",
    "R = 10000e-10 # m\n",
    "# Volume ratio\n",
    "phi = 0.015\n",
    "delta_rho = 6e10 * (1e2) ** 2 # 1/m^2 (?)"
   ]
  },
  {
   "cell_type": "code",
   "execution_count": null,
   "metadata": {},
   "outputs": [],
   "source": [
    "wavelength = 2.165e-10 # m\n",
    "s_t = 3/2 * phi * (1 - phi) * delta_rho**2 * wavelength**2 * t * R\n",
    "s_t"
   ]
  },
  {
   "cell_type": "code",
   "execution_count": null,
   "metadata": {},
   "outputs": [],
   "source": [
    "# Value from the paper, which differs\n",
    "# s_t = 0.38"
   ]
  },
  {
   "cell_type": "code",
   "execution_count": null,
   "metadata": {},
   "outputs": [],
   "source": [
    "def G_0(xi):\n",
    "    res = np.zeros_like(xi)\n",
    "    res[xi>=2.0] = 0\n",
    "    valid_xi = xi[xi<2.0]\n",
    "    res[xi<2.0] = np.sqrt(1 - (valid_xi / 2) ** 2) * (1 + valid_xi ** 2 / 8)\\\n",
    "         + 1 / 2 * valid_xi ** 2 * (1 - (valid_xi / 4 ) ** 2) * np.log(valid_xi / (2 + np.sqrt(4 - valid_xi ** 2)))\n",
    "    return res\n",
    "\n",
    "def G(xi):\n",
    "    return s_t * G_0(xi)"
   ]
  },
  {
   "cell_type": "code",
   "execution_count": null,
   "metadata": {},
   "outputs": [],
   "source": [
    "z = np.linspace(0,7 * R,1000)\n",
    "xi = z / R\n",
    "G_xi = G(xi)\n",
    "\n",
    "plt.plot(z*1e6,G_xi)\n",
    "plt.xlabel('z [um]')\n",
    "plt.ylabel('G(z)')"
   ]
  },
  {
   "cell_type": "code",
   "execution_count": null,
   "metadata": {},
   "outputs": [],
   "source": [
    "R = np.exp(G_xi - s_t)\n",
    "plt.plot(z*1e6,R)\n",
    "plt.xlabel('z [um]')\n",
    "plt.ylabel('R(z)')"
   ]
  },
  {
   "cell_type": "code",
   "execution_count": null,
   "metadata": {},
   "outputs": [],
   "source": [
    "z_sim, R_sim = np.genfromtxt(f'simulation-fit.txt', delimiter=',',usecols=(0,1),unpack=True)\n",
    "\n",
    "plt.plot(z*1e6,R, label='Analytical')\n",
    "plt.plot(z_sim*1e6,R_sim,'.', label='Fitted to simulation')\n",
    "plt.xlabel('z [um]')\n",
    "plt.ylabel('R(z)')\n",
    "plt.legend()\n",
    "plt.grid()"
   ]
  }
 ],
 "metadata": {
  "kernelspec": {
   "display_name": "bep",
   "language": "python",
   "name": "python3"
  },
  "language_info": {
   "codemirror_mode": {
    "name": "ipython",
    "version": 3
   },
   "file_extension": ".py",
   "mimetype": "text/x-python",
   "name": "python",
   "nbconvert_exporter": "python",
   "pygments_lexer": "ipython3",
   "version": "3.12.3"
  }
 },
 "nbformat": 4,
 "nbformat_minor": 2
}

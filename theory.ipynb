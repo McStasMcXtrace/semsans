{
 "cells": [
  {
   "cell_type": "markdown",
   "metadata": {},
   "source": [
    "# 1. Fundamentals\n",
    "A neutron with a spin $S$ in the $xz$ plane passing through a uniform $B$-field in the $y$ direction will have its spin orientation rotated by a certain precession $\\phi$ in the $xz$ plane. $\\phi$ depends on the time travelled through the field, which can be derived from the length of field $L$ passed through and velocity $v$ (which is related to wavelength $\\lambda$)."
   ]
  },
  {
   "cell_type": "markdown",
   "metadata": {},
   "source": [
    "## 1.1 Larmor precession \n",
    "A neutron with spin $S$ will precess about the external field axis (in this case $y$-axis) with angular frequency\n",
    "$$\\omega = -\\gamma B$$\n",
    "called the **Larmor frequency**, with $\\gamma$ being the gyromagnetic ratio of the neutron.\n",
    "\n",
    "### Derivation of Larmor precession formula\n",
    "This follows from the expression of the torque acting on the neutron spin\n",
    "$$\\dfrac{dS}{dt} = \\tau = \\mu \\times B$$\n",
    "\n",
    "$\\dfrac{dS}{dt}$ is the linear velocity of the 'peak' of $S$ along a radius $S \\sin\\phi$ with angle $\\theta$ between $S$ and $B$ and $\\mu  = \\gamma S$ is the magnetic moment. Simplifying using $\\phi = \\pi/2$ gives radius $S$ and $|\\mu\\times B| = \\mu B$\n",
    "\n",
    "From this it follows that $\\omega = \\frac{1}{S}|\\dfrac{dS}{dt}| = \\frac{\\mu}{S}B = \\gamma B$ in absolute value. What about the sign? It can be seen that the rotation is clock-wise around the B-field axis, meaning that with $\\omega > 0$ signifying counter-clockwise angular frequency the final expression should be\n",
    "$$\\omega = -\\gamma B$$\n",
    "\n",
    "## 1.2 Application to derive $\\phi$\n",
    "A neutron with wavelength $\\lambda$ will move at a speed given by $v = \\frac{h}{m_n\\lambda}$. It will pass through a field of length $L$ in time $t = \\frac{L}{v} = \\frac{Lm_n\\lambda}{h}$. From this it follows that the total incurred phase shift will be $\\phi' = \\omega t = -\\frac{\\gamma B Lm_n\\lambda}{h} = -c\\lambda B L$, with $c$ being the Larmor constant derived via $c = \\gamma m_n/h$, $m_n$ being the neutron mass. Often the minus sign is ignored, yielding final expression\n",
    "$$\\phi = c\\lambda B L$$\n",
    "This expression is key to understanding precession devices."
   ]
  },
  {
   "cell_type": "markdown",
   "metadata": {},
   "source": [
    "# 2. Precession devices, modulation and focussing\n",
    "Given an incoming neutron with spin direction fully in the $xz$ plane so that $S = (S_x, 0, S_z)$. Assuming it travels parallel to the optical axis and it enters a wollaston prism with a plane having an angle $\\theta_0$ with $xz$ and $z$-dimension $d_z$. This means that the neutron will travel length $L_+ = d_z/2 + \\frac{y}{\\tan\\theta_0}$ through the positive field and length $L_- = d_z/2 - \\frac{y}{\\tan\\theta_0}$ through the negative field. So the precessions in these fields will be \n",
    "$$\\phi_+ = c\\lambda B (d_z/2 + \\frac{y}{\\tan\\theta_0})$$\n",
    "$$\\phi_- = c\\lambda (-B) (d_z/2 - \\frac{y}{\\tan\\theta_0})$$\n",
    "This can be derived by considering $y$ as the opposite side of a triangle with hypotenuse $d$ and adjacent side $\\Delta z$. Using $y = d\\sin\\theta_0, \\Delta z = d\\cos\\theta_0$, $\\Delta z = \\frac{y}{\\tan\\theta_0}$.\n",
    "So the total precession inside a prism with field strength $B$ is\n",
    "$$\\phi = \\phi_+ + \\phi_- = \\frac{2c\\lambda B y}{\\tan{\\theta_0}}$$\n",
    "\n",
    "**Note: the analysis of foils is effectively the same, the foil causing the uniform field inside the magnet to act inversely on the precessing neutron spin after the foil. However, a TODO is adding a derivation of the exact $\\pi$-flip mechanism of the foil that makes this work!**"
   ]
  },
  {
   "cell_type": "markdown",
   "metadata": {},
   "source": [
    "## 2.1 From precession to modulation\n",
    "Putting to Wollaston prisms as above together with fields $B_1, B_2$ gives total precession\n",
    "$$\\phi_t = \\frac{2c\\lambda (B_1 + B_2) y}{\\tan{\\theta_0}} = k_my$$\n",
    "\n",
    "\n",
    "Applying an analyzer in the $xz$ plane then gives sinusoidal modulation with y-period $p$ given by\n",
    "$$p_0 = \\frac{2\\pi}{k_m} = \\frac{\\pi \\tan\\theta_0}{c\\lambda(B_1 + B_2)}$$\n",
    "In the idealized monochromatic case with perfect polarization (empty instrument), this will give an intensity pattern on the detector of the form\n",
    "$$I(y) = I_0(1 + \\cos(2\\pi y/p_0)) = 2I_0\\cos^2(\\pi y/p_0)$$"
   ]
  },
  {
   "cell_type": "markdown",
   "metadata": {},
   "source": [
    "## 2.2 Focussing condition for two precession devices\n",
    "The above analysis works well for paths parallel to the optical axis. When particles travel at an angle $\\theta$ through the prisms, their acquired precession will be slightly higher. Given height $y$ on the detector, assuming an angle of $\\theta$ with horizontal, the (mean) height in prism $i$ with field strength $B_i$ at distance $L_i$ from the detector will be \n",
    "$$y_i = y + x_i\\tan\\theta \\approx y + x_i\\theta$$\n",
    "\n",
    "This means that the total precession now will be \n",
    "$$\\phi_t = \\sum_i\\frac{2c\\lambda B_i y_i}{\\tan{\\theta_0}} = \\frac{2c\\lambda B_1 (y + L_1\\theta)}{\\tan{\\theta_0}} + \\frac{2c\\lambda B_1 (y + L_2\\theta)}{\\tan{\\theta_0}}$$\n",
    "\n",
    "To get rid of the $\\theta$ dependence and achieve constructive interference for all $\\theta$'s at a certain detector $y$, the focussing condition must hold (assuming the same $\\theta_0$ in the prisms)\n",
    "$$B_1L_1 = -B_2L_2$$"
   ]
  },
  {
   "cell_type": "markdown",
   "metadata": {},
   "source": [
    "## 2.3 Focussing with more precession devices\n",
    "In principle it is possible to add more precession devices, 2 is just the minimum in which the $\\theta$ dependency can be solved by tuning distances $L_i$ and field strengths $B_i$. The general focussing condition is with equal $\\theta_0$ everywhere\n",
    "$$\\sum_i B_iL_i = 0$$\n",
    "With variable $\\theta_{0,i}$ this becomes\n",
    "$$\\sum_i \\frac{B_iL_i}{\\tan\\theta_{0,i}} = 0$$\n",
    "\n"
   ]
  },
  {
   "cell_type": "markdown",
   "metadata": {},
   "source": [
    "## 2.4 Non-monochromatic modulation patterns\n",
    "In practice, there is not only a divergence $\\theta$ but also a (slight) spread in $\\lambda$ around a central $\\lambda_0$. This means that the actually observed intensity pattern $I_0(y)$ will be quite different. Assuming some probability density function $f(\\lambda)$, the true pattern will be \n",
    "$$I(y) = \\int_0^\\infty f(\\lambda)I_0(1 + \\cos(2\\pi y/p_0(\\lambda)))d\\lambda$$\n",
    "In practice this leads to visibility loss of the intensity pattern due to interference and this effect becomes most visible for greater fields, limiting the number of periods that can be measured on the detector. The $\\lambda$ spectrum can be indirectly derived using a Fourier transform using frequency $\\xi$, which will be nonzero if $\\xi = \\frac{1}{p_0(\\lambda)}$ for some $\\lambda$. \n",
    "$$I(\\xi) = \\int_{-\\infty}^\\infty I(y)e^{-i2\\pi\\xi y}dy$$"
   ]
  },
  {
   "cell_type": "markdown",
   "metadata": {},
   "source": [
    "# 3. Probing characteristic lengths $z$ in a sample\n",
    "In the above, modulation in an empty instrument is considered. What happens when a sample is added? Assuming small angle scattering, the wave vector transfer in the $y$ direction is\n",
    "$$Q_y = \\frac{2\\pi}{\\lambda}\\frac{y}{L_s}$$\n",
    "with $L_s$ as distance from sample to detector. \n",
    "This can be rewritten to\n",
    "$$y = \\frac{\\lambda L_s Q_y}{2\\pi}$$\n",
    "Filling this in $\\phi_t$ gives (using $Q \\equiv Q_y$ )\n",
    "$$\\phi_t = \\frac{c\\lambda^2L_s (B_1 + B_2)Q_y}{\\pi\\tan{\\theta_0}} = z Q$$\n",
    "Here $z$ is the spin-echo length, given by \n",
    "$$z = \\frac{c\\lambda^2L_s (B_1 + B_2)}{\\pi\\tan{\\theta_0}}$$\n",
    "So in short, there is a relation between the characteristic length probed "
   ]
  },
  {
   "cell_type": "markdown",
   "metadata": {},
   "source": [
    "## A. Instrument math\n",
    "At which $z$ will a neutron with velocity $v_x, v_y$ coming in at height $y$, $z=0$ hit a line from $(-d_y/2,0)$ to $(d_y/2, d_z)$? This is nothing but a line intersection problem!  "
   ]
  },
  {
   "cell_type": "markdown",
   "metadata": {},
   "source": []
  }
 ],
 "metadata": {
  "kernelspec": {
   "display_name": "bep",
   "language": "python",
   "name": "python3"
  },
  "language_info": {
   "codemirror_mode": {
    "name": "ipython",
    "version": 3
   },
   "file_extension": ".py",
   "mimetype": "text/x-python",
   "name": "python",
   "nbconvert_exporter": "python",
   "pygments_lexer": "ipython3",
   "version": "3.12.3"
  }
 },
 "nbformat": 4,
 "nbformat_minor": 2
}

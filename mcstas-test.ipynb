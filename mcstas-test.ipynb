{
 "cells": [
  {
   "cell_type": "code",
   "execution_count": 1,
   "id": "b45e5af8-21f0-437f-84e2-ca097727db80",
   "metadata": {},
   "outputs": [],
   "source": [
    "import mcstasscript as ms\n",
    "my_configurator = ms.Configurator()\n",
    "my_configurator.set_mcrun_path(\"/usr/bin/\")\n",
    "my_configurator.set_mcstas_path(\"/usr/share/mcstas/3.4/\")"
   ]
  },
  {
   "cell_type": "code",
   "execution_count": 2,
   "id": "e13007c6-85f5-43c8-b2dd-ea482d67e331",
   "metadata": {},
   "outputs": [],
   "source": [
    "instrument = ms.McStas_instr(\"my_instrument\")"
   ]
  },
  {
   "cell_type": "code",
   "execution_count": 3,
   "id": "52125956-e804-4b13-a342-8c238f418f5d",
   "metadata": {},
   "outputs": [
    {
     "name": "stdout",
     "output_type": "stream",
     "text": [
      "Here are the available component categories:\n",
      " contrib\n",
      " misc\n",
      " monitors\n",
      " obsolete\n",
      " optics\n",
      " samples\n",
      " sources\n",
      " union\n",
      "Call available_components(category_name) to display\n"
     ]
    }
   ],
   "source": [
    "instrument.available_components()"
   ]
  },
  {
   "cell_type": "code",
   "execution_count": 4,
   "id": "627465a5-84c0-447a-a3ae-dfa47621dadd",
   "metadata": {},
   "outputs": [
    {
     "name": "stdout",
     "output_type": "stream",
     "text": [
      " ___ Help Source_simple _____________________________________________________________\n",
      "|\u001b[1moptional parameter\u001b[0m|\u001b[1m\u001b[4mrequired parameter\u001b[0m\u001b[0m|\u001b[1m\u001b[94mdefault value\u001b[0m\u001b[0m|\u001b[1m\u001b[92muser specified value\u001b[0m\u001b[0m|\n",
      "\u001b[1mradius\u001b[0m = \u001b[1m\u001b[94m0.1\u001b[0m\u001b[0m [m] // Radius of circle in (x,y,0) plane where neutrons are \n",
      "                    generated. \n",
      "\u001b[1myheight\u001b[0m = \u001b[1m\u001b[94m0.0\u001b[0m\u001b[0m [m] // Height of rectangle in (x,y,0) plane where neutrons are \n",
      "                     generated. \n",
      "\u001b[1mxwidth\u001b[0m = \u001b[1m\u001b[94m0.0\u001b[0m\u001b[0m [m] // Width of rectangle in (x,y,0) plane where neutrons are \n",
      "                    generated. \n",
      "\u001b[1mdist\u001b[0m = \u001b[1m\u001b[94m0.0\u001b[0m\u001b[0m [m] // Distance to target along z axis.\n",
      "\u001b[1mfocus_xw\u001b[0m = \u001b[1m\u001b[94m0.045\u001b[0m\u001b[0m [m] // Width of target\n",
      "\u001b[1mfocus_yh\u001b[0m = \u001b[1m\u001b[94m0.12\u001b[0m\u001b[0m [m] // Height of target\n",
      "\u001b[1mE0\u001b[0m = \u001b[1m\u001b[94m0.0\u001b[0m\u001b[0m [meV] // Mean energy of neutrons.\n",
      "\u001b[1mdE\u001b[0m = \u001b[1m\u001b[94m0.0\u001b[0m\u001b[0m [meV] // Energy half spread of neutrons (flat or gaussian sigma).\n",
      "\u001b[1mlambda0\u001b[0m = \u001b[1m\u001b[94m0.0\u001b[0m\u001b[0m [AA] // Mean wavelength of neutrons.\n",
      "\u001b[1mdlambda\u001b[0m = \u001b[1m\u001b[94m0.0\u001b[0m\u001b[0m [AA] // Wavelength half spread of neutrons.\n",
      "\u001b[1mflux\u001b[0m = \u001b[1m\u001b[94m1.0\u001b[0m\u001b[0m [1/(s*cm**2*st*energy unit)] // flux per energy unit, Angs or meV if \n",
      "                                           flux=0, the source emits 1 in 4*PI whole \n",
      "                                           space. \n",
      "\u001b[1mgauss\u001b[0m = \u001b[1m\u001b[94m0.0\u001b[0m\u001b[0m [1] // Gaussian (1) or Flat (0) energy/wavelength distribution\n",
      "\u001b[1mtarget_index\u001b[0m = \u001b[1m\u001b[94m1\u001b[0m\u001b[0m [1] // relative index of component to focus at, e.g. next is \n",
      "                        +1 this is used to compute 'dist' automatically. \n",
      "-------------------------------------------------------------------------------------\n"
     ]
    }
   ],
   "source": [
    "source = instrument.add_component(\"source\", \"Source_simple\")\n",
    "source.show_parameters()"
   ]
  },
  {
   "cell_type": "code",
   "execution_count": 5,
   "id": "8e922c42-cb8f-4316-9614-66d211290cb1",
   "metadata": {},
   "outputs": [
    {
     "name": "stdout",
     "output_type": "stream",
     "text": [
      "COMPONENT source = Source_simple(\n",
      "  \u001b[1myheight\u001b[0m = \u001b[1m\u001b[92m0.03\u001b[0m\u001b[0m, // [m]\n",
      "  \u001b[1mxwidth\u001b[0m = \u001b[1m\u001b[92m0.03\u001b[0m\u001b[0m, // [m]\n",
      "  \u001b[1mdist\u001b[0m = \u001b[1m\u001b[92m5\u001b[0m\u001b[0m, // [m]\n",
      "  \u001b[1mfocus_xw\u001b[0m = \u001b[1m\u001b[92m0.01\u001b[0m\u001b[0m, // [m]\n",
      "  \u001b[1mfocus_yh\u001b[0m = \u001b[1m\u001b[92m0.01\u001b[0m\u001b[0m, // [m]\n",
      "  \u001b[1mlambda0\u001b[0m = \u001b[1m\u001b[92m3\u001b[0m\u001b[0m, // [AA]\n",
      "  \u001b[1mdlambda\u001b[0m = \u001b[1m\u001b[92m2.2\u001b[0m\u001b[0m // [AA]\n",
      ")\n",
      "AT (0, 0, 0) ABSOLUTE\n"
     ]
    }
   ],
   "source": [
    "source.xwidth = 0.03\n",
    "source.yheight = 0.03\n",
    "source.lambda0 = 3\n",
    "source.dlambda = 2.2\n",
    "source.dist = 5\n",
    "source.focus_xw = 0.01\n",
    "source.focus_yh = 0.01\n",
    "print(source)"
   ]
  },
  {
   "cell_type": "code",
   "execution_count": 6,
   "id": "c7c7bdfa-61e0-4c99-9ddc-edea85a741cd",
   "metadata": {},
   "outputs": [
    {
     "name": "stdout",
     "output_type": "stream",
     "text": [
      "COMPONENT source = Source_simple(\n",
      "  \u001b[1myheight\u001b[0m = \u001b[1m\u001b[92m0.03\u001b[0m\u001b[0m, // [m]\n",
      "  \u001b[1mxwidth\u001b[0m = \u001b[1m\u001b[92m0.03\u001b[0m\u001b[0m, // [m]\n",
      "  \u001b[1mdist\u001b[0m = \u001b[1m\u001b[92m5\u001b[0m\u001b[0m, // [m]\n",
      "  \u001b[1mfocus_xw\u001b[0m = \u001b[1m\u001b[92m0.01\u001b[0m\u001b[0m, // [m]\n",
      "  \u001b[1mfocus_yh\u001b[0m = \u001b[1m\u001b[92m0.01\u001b[0m\u001b[0m, // [m]\n",
      "  \u001b[1mlambda0\u001b[0m = \u001b[1m\u001b[92mwavelength\u001b[0m\u001b[0m, // [AA]\n",
      "  \u001b[1mdlambda\u001b[0m = \u001b[1m\u001b[92m0.1*wavelength\u001b[0m\u001b[0m // [AA]\n",
      ")\n",
      "AT (0, 0, 0) ABSOLUTE\n"
     ]
    }
   ],
   "source": [
    "wavelength = instrument.add_parameter(\"wavelength\", value=3, comment=\"Wavelength in AA\")\n",
    "source.lambda0 = wavelength\n",
    "source.dlambda = \"0.1*wavelength\"\n",
    "print(source)"
   ]
  },
  {
   "cell_type": "code",
   "execution_count": 7,
   "id": "c876b952-52ed-438c-88cc-e6490bdc357d",
   "metadata": {},
   "outputs": [],
   "source": [
    "sample = instrument.add_component(\"sans_sample\", \"Sans_spheres\")"
   ]
  },
  {
   "cell_type": "code",
   "execution_count": 8,
   "id": "15f87c09-67d8-4874-a8b3-19e3a2db5668",
   "metadata": {},
   "outputs": [
    {
     "name": "stdout",
     "output_type": "stream",
     "text": [
      "COMPONENT sans_sample = Sans_spheres(\n",
      "  \u001b[1mR\u001b[0m = \u001b[1m\u001b[92m200\u001b[0m\u001b[0m, // [AA]\n",
      "  \u001b[1mxwidth\u001b[0m = \u001b[1m\u001b[92m0.01\u001b[0m\u001b[0m, // [m]\n",
      "  \u001b[1myheight\u001b[0m = \u001b[1m\u001b[92m0.01\u001b[0m\u001b[0m, // [m]\n",
      "  \u001b[1mzdepth\u001b[0m = \u001b[1m\u001b[92m0.01\u001b[0m\u001b[0m, // [m]\n",
      "  \u001b[1mtarget_index\u001b[0m = \u001b[1m\u001b[92m1\u001b[0m\u001b[0m, // [1]\n",
      "  \u001b[1mfocus_xw\u001b[0m = \u001b[1m\u001b[92m0.5\u001b[0m\u001b[0m, // [m]\n",
      "  \u001b[1mfocus_yh\u001b[0m = \u001b[1m\u001b[92m0.5\u001b[0m\u001b[0m // [m]\n",
      ")\n",
      "AT (0, 0, 5) RELATIVE source\n"
     ]
    }
   ],
   "source": [
    "sample.set_AT(5, RELATIVE=source)\n",
    "sample.set_parameters(R=200, xwidth=0.01, yheight=0.01, zdepth=0.01,\n",
    "                      target_index=1, focus_xw=0.5, focus_yh=0.5)\n",
    "print(sample)\n"
   ]
  },
  {
   "cell_type": "code",
   "execution_count": 9,
   "id": "27457b9b-4d8e-42c4-af0f-6dfcc5f57a61",
   "metadata": {},
   "outputs": [],
   "source": [
    "PSD = instrument.add_component(\"PSD\", \"PSD_monitor\")\n",
    "PSD.set_AT([0, 0, 5], RELATIVE=sample)\n",
    "PSD.set_parameters(xwidth=sample.focus_xw, yheight=sample.focus_yh, filename='\"PSD.dat\"')"
   ]
  },
  {
   "cell_type": "code",
   "execution_count": 10,
   "id": "36a54436-b093-48c8-bc2a-011232e06b1a",
   "metadata": {},
   "outputs": [],
   "source": [
    "# PSD_rad = instrument.add_component(\"PSD_rad\", \"PSD_monitor_rad\")\n",
    "# PSD_rad.set_AT([0, 0, 5], RELATIVE=sample)\n",
    "# PSD_rad.set_parameters(rmax=sample.focus_xw, filename='\"PSD_rad.dat\"')"
   ]
  },
  {
   "cell_type": "code",
   "execution_count": 11,
   "id": "3854f085-38bd-486c-ac70-9fb782ceea0d",
   "metadata": {},
   "outputs": [
    {
     "name": "stdout",
     "output_type": "stream",
     "text": [
      " wavelength  = 3  // Wavelength in AA\n"
     ]
    }
   ],
   "source": [
    "instrument.show_parameters()"
   ]
  },
  {
   "cell_type": "code",
   "execution_count": 12,
   "id": "34cabc36-8fa0-4ee3-b3f6-b1d6ea3a399c",
   "metadata": {},
   "outputs": [],
   "source": [
    "instrument.set_parameters(wavelength=5)\n",
    "instrument.settings(ncount=2E6)"
   ]
  },
  {
   "cell_type": "code",
   "execution_count": 13,
   "id": "bdcd7384-a74f-4980-85bf-c02aa838f2b8",
   "metadata": {},
   "outputs": [
    {
     "name": "stdout",
     "output_type": "stream",
     "text": [
      "---- Found 5 places in McStas output with keyword 'error'. \n",
      "\n",
      "\u001b[91mERROR\u001b[0m: syntax error at line 28.\n",
      "----------------------------------------------------------------------\n",
      "McStas: 1 \u001b[91mError\u001b[0ms encountered during parse of instrument.instr.\n",
      "INFO: call to /usr/share/mcstas/3.4/bin/mcstas failed with Command '/usr/share/mcstas/3.4/bin/mcstas -t -o ./instrument.c instrument.instr' returned non-zero exit status 1.\n",
      "Traceback (most recent call last):\n",
      "  File \"/usr/share/mcstas/3.4/tools/Python/mcrun/mcrun.py\", line 562, in <module>\n",
      "    main()\n",
      "  File \"/usr/share/mcstas/3.4/tools/Python/mcrun/mcrun.py\", line 476, in main\n",
      "    mcstas.prepare(options)\n",
      "  File \"/usr/share/mcstas/3.4/tools/Python/mcrun/mccode.py\", line 143, in prepare\n",
      "    Process(mccode_bin_abspath).run(['-t', '-o', self.cpath, self.path])\n",
      "  File \"/usr/share/mcstas/3.4/tools/Python/mcrun/mccode.py\", line 71, in run\n",
      "----------------------------------------------------------------------\n",
      "    raise CalledProcess\u001b[91mError\u001b[0m(retcode, process.args,\n",
      "----------------------------------------------------------------------\n",
      "subprocess.CalledProcess\u001b[91mError\u001b[0m: Command '/usr/share/mcstas/3.4/bin/mcstas -t -o ./instrument.c instrument.instr' returned non-zero exit status 1.\n",
      "\n",
      "----------------------------------------------------------------------\n",
      "\n",
      "/usr/share/mcstas/3.4/tools/Python/mcrun/mcrun.py:450: SyntaxWarning: invalid escape sequence '\\w'\n",
      "  params = re.findall('[\\w0-9]+=[^=\\s]+', text)\n",
      "/usr/share/mcstas/3.4/tools/Python/mcrun/mccode.py:328: SyntaxWarning: invalid escape sequence '\\ '\n",
      "  ''' Escape \\ and \" '''\n",
      "INFO: Using directory: \"/home/tbvanderwoude/repos/bep/instrument\"\n",
      "INFO: Regenerating c-file: instrument.c\n",
      "\u001b[91mERROR\u001b[0m: syntax error at line 28.\n",
      "McStas: 1 \u001b[91mError\u001b[0ms encountered during parse of instrument.instr.\n",
      "INFO: call to /usr/share/mcstas/3.4/bin/mcstas failed with Command '/usr/share/mcstas/3.4/bin/mcstas -t -o ./instrument.c instrument.instr' returned non-zero exit status 1.\n",
      "Traceback (most recent call last):\n",
      "  File \"/usr/share/mcstas/3.4/tools/Python/mcrun/mcrun.py\", line 562, in <module>\n",
      "    main()\n",
      "  File \"/usr/share/mcstas/3.4/tools/Python/mcrun/mcrun.py\", line 476, in main\n",
      "    mcstas.prepare(options)\n",
      "  File \"/usr/share/mcstas/3.4/tools/Python/mcrun/mccode.py\", line 143, in prepare\n",
      "    Process(mccode_bin_abspath).run(['-t', '-o', self.cpath, self.path])\n",
      "  File \"/usr/share/mcstas/3.4/tools/Python/mcrun/mccode.py\", line 71, in run\n",
      "    raise err\n",
      "  File \"/usr/share/mcstas/3.4/tools/Python/mcrun/mccode.py\", line 67, in run\n",
      "    proc = run(command, shell=True, check=True, text=True, capture_output=pipe)\n",
      "           ^^^^^^^^^^^^^^^^^^^^^^^^^^^^^^^^^^^^^^^^^^^^^^^^^^^^^^^^^^^^^^^^^^^^\n",
      "  File \"/home/tbvanderwoude/anaconda3/envs/bep/lib/python3.12/subprocess.py\", line 571, in run\n",
      "    raise CalledProcess\u001b[91mError\u001b[0m(retcode, process.args,\n",
      "subprocess.CalledProcess\u001b[91mError\u001b[0m: Command '/usr/share/mcstas/3.4/bin/mcstas -t -o ./instrument.c instrument.instr' returned non-zero exit status 1.\n",
      "\n",
      "\n"
     ]
    },
    {
     "name": "stderr",
     "output_type": "stream",
     "text": [
      "/home/tbvanderwoude/anaconda3/envs/bep/lib/python3.12/site-packages/mcstasscript/helper/managed_mcrun.py:299: UserWarning: Simulation did not create data folder, most likely failed.\n",
      "  warnings.warn(\"Simulation did not create data folder, most likely failed.\")\n",
      "/home/tbvanderwoude/anaconda3/envs/bep/lib/python3.12/site-packages/mcstasscript/helper/managed_mcrun.py:327: UserWarning: No data available to load.\n",
      "  warnings.warn(\"No data available to load.\")\n"
     ]
    }
   ],
   "source": [
    "data = instrument.backengine()"
   ]
  },
  {
   "cell_type": "code",
   "execution_count": 14,
   "id": "866bc275-2e7f-48f4-b8d8-7f0e76c46589",
   "metadata": {},
   "outputs": [
    {
     "ename": "TypeError",
     "evalue": "'NoneType' object is not iterable",
     "output_type": "error",
     "traceback": [
      "\u001b[0;31m---------------------------------------------------------------------------\u001b[0m",
      "\u001b[0;31mTypeError\u001b[0m                                 Traceback (most recent call last)",
      "Cell \u001b[0;32mIn[14], line 1\u001b[0m\n\u001b[0;32m----> 1\u001b[0m \u001b[43mms\u001b[49m\u001b[38;5;241;43m.\u001b[39;49m\u001b[43mmake_sub_plot\u001b[49m\u001b[43m(\u001b[49m\u001b[43mdata\u001b[49m\u001b[43m,\u001b[49m\u001b[43m \u001b[49m\u001b[43mlog\u001b[49m\u001b[38;5;241;43m=\u001b[39;49m\u001b[38;5;28;43;01mTrue\u001b[39;49;00m\u001b[43m)\u001b[49m\n",
      "File \u001b[0;32m~/anaconda3/envs/bep/lib/python3.12/site-packages/mcstasscript/interface/plotter.py:55\u001b[0m, in \u001b[0;36mmake_sub_plot\u001b[0;34m(data_list, **kwargs)\u001b[0m\n\u001b[1;32m     44\u001b[0m \u001b[38;5;28;01mdef\u001b[39;00m \u001b[38;5;21mmake_sub_plot\u001b[39m(data_list, \u001b[38;5;241m*\u001b[39m\u001b[38;5;241m*\u001b[39mkwargs):\n\u001b[1;32m     45\u001b[0m \u001b[38;5;250m    \u001b[39m\u001b[38;5;124;03m\"\"\"\u001b[39;00m\n\u001b[1;32m     46\u001b[0m \u001b[38;5;124;03m    make_sub_plot plots contents of McStasData objects given in list\u001b[39;00m\n\u001b[1;32m     47\u001b[0m \n\u001b[0;32m   (...)\u001b[0m\n\u001b[1;32m     52\u001b[0m \u001b[38;5;124;03m    subplot.\u001b[39;00m\n\u001b[1;32m     53\u001b[0m \u001b[38;5;124;03m    \"\"\"\u001b[39;00m\n\u001b[0;32m---> 55\u001b[0m     data_list \u001b[38;5;241m=\u001b[39m \u001b[43m_handle_kwargs\u001b[49m\u001b[43m(\u001b[49m\u001b[43mdata_list\u001b[49m\u001b[43m,\u001b[49m\u001b[43m \u001b[49m\u001b[38;5;241;43m*\u001b[39;49m\u001b[38;5;241;43m*\u001b[39;49m\u001b[43mkwargs\u001b[49m\u001b[43m)\u001b[49m\n\u001b[1;32m     57\u001b[0m     number_of_plots \u001b[38;5;241m=\u001b[39m \u001b[38;5;28mlen\u001b[39m(data_list)\n\u001b[1;32m     58\u001b[0m     \u001b[38;5;28;01mif\u001b[39;00m number_of_plots \u001b[38;5;241m==\u001b[39m \u001b[38;5;241m0\u001b[39m:\n",
      "File \u001b[0;32m~/anaconda3/envs/bep/lib/python3.12/site-packages/mcstasscript/helper/plot_helper.py:269\u001b[0m, in \u001b[0;36m_handle_kwargs\u001b[0;34m(data_list, **kwargs)\u001b[0m\n\u001b[1;32m    266\u001b[0m     data_list \u001b[38;5;241m=\u001b[39m [data_list]\n\u001b[1;32m    268\u001b[0m \u001b[38;5;66;03m# Remove event data that can't be plotted in meaningful way\u001b[39;00m\n\u001b[0;32m--> 269\u001b[0m data_list \u001b[38;5;241m=\u001b[39m \u001b[43mremove_eventdata\u001b[49m\u001b[43m(\u001b[49m\u001b[43mdata_list\u001b[49m\u001b[43m)\u001b[49m\n\u001b[1;32m    271\u001b[0m known_plotting_kwargs \u001b[38;5;241m=\u001b[39m [\u001b[38;5;124m\"\u001b[39m\u001b[38;5;124mlog\u001b[39m\u001b[38;5;124m\"\u001b[39m, \u001b[38;5;124m\"\u001b[39m\u001b[38;5;124morders_of_mag\u001b[39m\u001b[38;5;124m\"\u001b[39m,\n\u001b[1;32m    272\u001b[0m                          \u001b[38;5;124m\"\u001b[39m\u001b[38;5;124mtop_lim\u001b[39m\u001b[38;5;124m\"\u001b[39m, \u001b[38;5;124m\"\u001b[39m\u001b[38;5;124mbottom_lim\u001b[39m\u001b[38;5;124m\"\u001b[39m,\n\u001b[1;32m    273\u001b[0m                          \u001b[38;5;124m\"\u001b[39m\u001b[38;5;124mleft_lim\u001b[39m\u001b[38;5;124m\"\u001b[39m, \u001b[38;5;124m\"\u001b[39m\u001b[38;5;124mright_lim\u001b[39m\u001b[38;5;124m\"\u001b[39m,\n\u001b[0;32m   (...)\u001b[0m\n\u001b[1;32m    276\u001b[0m                          \u001b[38;5;124m\"\u001b[39m\u001b[38;5;124mx_axis_multiplier\u001b[39m\u001b[38;5;124m\"\u001b[39m,\n\u001b[1;32m    277\u001b[0m                          \u001b[38;5;124m\"\u001b[39m\u001b[38;5;124my_axis_multiplier\u001b[39m\u001b[38;5;124m\"\u001b[39m]\n\u001b[1;32m    279\u001b[0m \u001b[38;5;28;01mfor\u001b[39;00m option \u001b[38;5;129;01min\u001b[39;00m known_plotting_kwargs:\n",
      "File \u001b[0;32m~/anaconda3/envs/bep/lib/python3.12/site-packages/mcstasscript/helper/plot_helper.py:20\u001b[0m, in \u001b[0;36mremove_eventdata\u001b[0;34m(data_list, verbose)\u001b[0m\n\u001b[1;32m     18\u001b[0m reduced_data_list \u001b[38;5;241m=\u001b[39m []\n\u001b[1;32m     19\u001b[0m skipped_names \u001b[38;5;241m=\u001b[39m []\n\u001b[0;32m---> 20\u001b[0m \u001b[43m\u001b[49m\u001b[38;5;28;43;01mfor\u001b[39;49;00m\u001b[43m \u001b[49m\u001b[43melement\u001b[49m\u001b[43m \u001b[49m\u001b[38;5;129;43;01min\u001b[39;49;00m\u001b[43m \u001b[49m\u001b[43mdata_list\u001b[49m\u001b[43m:\u001b[49m\n\u001b[1;32m     21\u001b[0m \u001b[43m    \u001b[49m\u001b[38;5;28;43;01mif\u001b[39;49;00m\u001b[43m \u001b[49m\u001b[38;5;129;43;01mnot\u001b[39;49;00m\u001b[43m \u001b[49m\u001b[38;5;28;43misinstance\u001b[39;49m\u001b[43m(\u001b[49m\u001b[43melement\u001b[49m\u001b[43m,\u001b[49m\u001b[43m \u001b[49m\u001b[43mMcStasDataEvent\u001b[49m\u001b[43m)\u001b[49m\u001b[43m:\u001b[49m\n\u001b[1;32m     22\u001b[0m \u001b[43m        \u001b[49m\u001b[43mreduced_data_list\u001b[49m\u001b[38;5;241;43m.\u001b[39;49m\u001b[43mappend\u001b[49m\u001b[43m(\u001b[49m\u001b[43melement\u001b[49m\u001b[43m)\u001b[49m\n",
      "\u001b[0;31mTypeError\u001b[0m: 'NoneType' object is not iterable"
     ]
    }
   ],
   "source": [
    "ms.make_sub_plot(data, log=True)\n"
   ]
  },
  {
   "cell_type": "code",
   "execution_count": 15,
   "id": "60d830f5-4e41-4ddb-8f68-8263b365f53c",
   "metadata": {},
   "outputs": [
    {
     "name": "stdout",
     "output_type": "stream",
     "text": [
      "None\n"
     ]
    }
   ],
   "source": [
    "print(data)"
   ]
  },
  {
   "cell_type": "code",
   "execution_count": 16,
   "id": "95ad9300-867f-4378-aeeb-3a0b566abe0b",
   "metadata": {},
   "outputs": [],
   "source": [
    "PSD_data = ms.name_search(\"PSD\", data)"
   ]
  },
  {
   "cell_type": "code",
   "execution_count": 17,
   "id": "f930fc45-07bb-40da-9c27-64b18a88bbc9",
   "metadata": {},
   "outputs": [
    {
     "data": {
      "text/plain": [
       "array([[8.11969647e-43, 8.21882907e-43, 8.48179631e-43, ...,\n",
       "        9.53070180e-43, 8.24189591e-43, 8.93108899e-43],\n",
       "       [8.81641215e-43, 9.25223839e-43, 9.43909990e-43, ...,\n",
       "        1.08742963e-42, 8.77122699e-43, 1.10987005e-42],\n",
       "       [1.00882523e-42, 7.56418002e-43, 1.03399732e-42, ...,\n",
       "        7.41707628e-43, 7.83116667e-43, 1.11819159e-42],\n",
       "       ...,\n",
       "       [8.17395623e-43, 1.18103175e-42, 7.73142658e-43, ...,\n",
       "        6.48236756e-43, 9.59918198e-43, 1.16455872e-42],\n",
       "       [9.18100097e-43, 8.90268958e-43, 5.75340327e-43, ...,\n",
       "        8.89081706e-43, 1.25598338e-42, 7.92465345e-43],\n",
       "       [1.08105059e-42, 5.54921414e-43, 8.25151272e-43, ...,\n",
       "        8.90904808e-43, 8.19936571e-43, 9.17335588e-43]])"
      ]
     },
     "execution_count": 17,
     "metadata": {},
     "output_type": "execute_result"
    }
   ],
   "source": [
    "PSD_data.Intensity"
   ]
  },
  {
   "cell_type": "code",
   "execution_count": 18,
   "id": "db0bcb88-a4ef-413f-9fa9-0b6d19e92275",
   "metadata": {},
   "outputs": [],
   "source": [
    "intensity_xy = PSD_data.Intensity"
   ]
  },
  {
   "cell_type": "code",
   "execution_count": 19,
   "id": "24f5a957-b1b9-4013-8913-13e797c14bc5",
   "metadata": {},
   "outputs": [
    {
     "name": "stdout",
     "output_type": "stream",
     "text": [
      "Date : Tue Apr 23 18:54:39 2024 (1713891279)\n",
      "type : array_2d(90, 90)\n",
      "Source : first_instrument (first_instrument.instr)\n",
      "component : PSD\n",
      "position : 0 0 10\n",
      "title : PSD monitor\n",
      "Ncount : 2000000\n",
      "filename : PSD.dat\n",
      "statistics : X0=-0.00924956; dX=3.31325; Y0=0.0393382; dY=3.32335;\n",
      "signal : Min=3.02054e-43; Max=1.92843e-38; Mean=3.40062e-40;\n",
      "values : 2.7545e-36 2.69379e-38 1.99994e+06\n",
      "xvar : X\n",
      "yvar : Y\n",
      "xlabel : X position [cm]\n",
      "ylabel : Y position [cm]\n",
      "zvar : I\n",
      "zlabel : Signal per bin\n",
      "xylimits : -25 25 -25 25\n",
      "variables : I I_err N\n",
      "Parameters : {'wavelength': 5.0}\n"
     ]
    }
   ],
   "source": [
    "info_dict = PSD_data.metadata.info\n",
    "for field, info in info_dict.items():\n",
    "    print(field, \":\", info)"
   ]
  }
 ],
 "metadata": {
  "kernelspec": {
   "display_name": "Python 3 (ipykernel)",
   "language": "python",
   "name": "python3"
  },
  "language_info": {
   "codemirror_mode": {
    "name": "ipython",
    "version": 3
   },
   "file_extension": ".py",
   "mimetype": "text/x-python",
   "name": "python",
   "nbconvert_exporter": "python",
   "pygments_lexer": "ipython3",
   "version": "3.12.3"
  }
 },
 "nbformat": 4,
 "nbformat_minor": 5
}

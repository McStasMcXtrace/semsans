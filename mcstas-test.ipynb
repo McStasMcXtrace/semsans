{
 "cells": [
  {
   "cell_type": "code",
   "execution_count": 2,
   "id": "b45e5af8-21f0-437f-84e2-ca097727db80",
   "metadata": {},
   "outputs": [
    {
     "ename": "ModuleNotFoundError",
     "evalue": "No module named 'mcstasscript'",
     "output_type": "error",
     "traceback": [
      "\u001b[0;31m---------------------------------------------------------------------------\u001b[0m",
      "\u001b[0;31mModuleNotFoundError\u001b[0m                       Traceback (most recent call last)",
      "Cell \u001b[0;32mIn[2], line 1\u001b[0m\n\u001b[0;32m----> 1\u001b[0m \u001b[38;5;28;01mimport\u001b[39;00m \u001b[38;5;21;01mmcstasscript\u001b[39;00m \u001b[38;5;28;01mas\u001b[39;00m \u001b[38;5;21;01mms\u001b[39;00m\n\u001b[1;32m      2\u001b[0m my_configurator \u001b[38;5;241m=\u001b[39m ms\u001b[38;5;241m.\u001b[39mConfigurator()\n\u001b[1;32m      3\u001b[0m my_configurator\u001b[38;5;241m.\u001b[39mset_mcrun_path(\u001b[38;5;124m\"\u001b[39m\u001b[38;5;124m/usr/bin/\u001b[39m\u001b[38;5;124m\"\u001b[39m)\n",
      "\u001b[0;31mModuleNotFoundError\u001b[0m: No module named 'mcstasscript'"
     ]
    }
   ],
   "source": [
    "import mcstasscript as ms\n",
    "my_configurator = ms.Configurator()\n",
    "my_configurator.set_mcrun_path(\"/usr/bin/\")\n",
    "my_configurator.set_mcstas_path(\"/usr/share/mcstas/3.4/\")"
   ]
  },
  {
   "cell_type": "code",
   "execution_count": 17,
   "id": "e13007c6-85f5-43c8-b2dd-ea482d67e331",
   "metadata": {},
   "outputs": [],
   "source": [
    "instrument = ms.McStas_instr(\"my_instrument\")"
   ]
  },
  {
   "cell_type": "code",
   "execution_count": 18,
   "id": "52125956-e804-4b13-a342-8c238f418f5d",
   "metadata": {},
   "outputs": [
    {
     "name": "stdout",
     "output_type": "stream",
     "text": [
      "Here are the available component categories:\n",
      " contrib\n",
      " misc\n",
      " monitors\n",
      " obsolete\n",
      " optics\n",
      " samples\n",
      " sources\n",
      " union\n",
      "Call available_components(category_name) to display\n"
     ]
    }
   ],
   "source": [
    "instrument.available_components()"
   ]
  },
  {
   "cell_type": "code",
   "execution_count": 19,
   "id": "627465a5-84c0-447a-a3ae-dfa47621dadd",
   "metadata": {},
   "outputs": [
    {
     "name": "stdout",
     "output_type": "stream",
     "text": [
      " ___ Help Source_simple _____________________________________________________________\n",
      "|\u001b[1moptional parameter\u001b[0m|\u001b[1m\u001b[4mrequired parameter\u001b[0m\u001b[0m|\u001b[1m\u001b[94mdefault value\u001b[0m\u001b[0m|\u001b[1m\u001b[92muser specified value\u001b[0m\u001b[0m|\n",
      "\u001b[1mradius\u001b[0m = \u001b[1m\u001b[94m0.1\u001b[0m\u001b[0m [m] // Radius of circle in (x,y,0) plane where neutrons are \n",
      "                    generated. \n",
      "\u001b[1myheight\u001b[0m = \u001b[1m\u001b[94m0.0\u001b[0m\u001b[0m [m] // Height of rectangle in (x,y,0) plane where neutrons are \n",
      "                     generated. \n",
      "\u001b[1mxwidth\u001b[0m = \u001b[1m\u001b[94m0.0\u001b[0m\u001b[0m [m] // Width of rectangle in (x,y,0) plane where neutrons are \n",
      "                    generated. \n",
      "\u001b[1mdist\u001b[0m = \u001b[1m\u001b[94m0.0\u001b[0m\u001b[0m [m] // Distance to target along z axis.\n",
      "\u001b[1mfocus_xw\u001b[0m = \u001b[1m\u001b[94m0.045\u001b[0m\u001b[0m [m] // Width of target\n",
      "\u001b[1mfocus_yh\u001b[0m = \u001b[1m\u001b[94m0.12\u001b[0m\u001b[0m [m] // Height of target\n",
      "\u001b[1mE0\u001b[0m = \u001b[1m\u001b[94m0.0\u001b[0m\u001b[0m [meV] // Mean energy of neutrons.\n",
      "\u001b[1mdE\u001b[0m = \u001b[1m\u001b[94m0.0\u001b[0m\u001b[0m [meV] // Energy half spread of neutrons (flat or gaussian sigma).\n",
      "\u001b[1mlambda0\u001b[0m = \u001b[1m\u001b[94m0.0\u001b[0m\u001b[0m [AA] // Mean wavelength of neutrons.\n",
      "\u001b[1mdlambda\u001b[0m = \u001b[1m\u001b[94m0.0\u001b[0m\u001b[0m [AA] // Wavelength half spread of neutrons.\n",
      "\u001b[1mflux\u001b[0m = \u001b[1m\u001b[94m1.0\u001b[0m\u001b[0m [1/(s*cm**2*st*energy unit)] // flux per energy unit, Angs or meV if \n",
      "                                           flux=0, the source emits 1 in 4*PI whole \n",
      "                                           space. \n",
      "\u001b[1mgauss\u001b[0m = \u001b[1m\u001b[94m0.0\u001b[0m\u001b[0m [1] // Gaussian (1) or Flat (0) energy/wavelength distribution\n",
      "\u001b[1mtarget_index\u001b[0m = \u001b[1m\u001b[94m1\u001b[0m\u001b[0m [1] // relative index of component to focus at, e.g. next is \n",
      "                        +1 this is used to compute 'dist' automatically. \n",
      "-------------------------------------------------------------------------------------\n"
     ]
    }
   ],
   "source": [
    "source = instrument.add_component(\"source\", \"Source_simple\")\n",
    "source.show_parameters()"
   ]
  },
  {
   "cell_type": "code",
   "execution_count": 20,
   "id": "8e922c42-cb8f-4316-9614-66d211290cb1",
   "metadata": {},
   "outputs": [
    {
     "name": "stdout",
     "output_type": "stream",
     "text": [
      "COMPONENT source = Source_simple(\n",
      "  \u001b[1myheight\u001b[0m = \u001b[1m\u001b[92m0.03\u001b[0m\u001b[0m, // [m]\n",
      "  \u001b[1mxwidth\u001b[0m = \u001b[1m\u001b[92m0.03\u001b[0m\u001b[0m, // [m]\n",
      "  \u001b[1mdist\u001b[0m = \u001b[1m\u001b[92m5\u001b[0m\u001b[0m, // [m]\n",
      "  \u001b[1mfocus_xw\u001b[0m = \u001b[1m\u001b[92m0.01\u001b[0m\u001b[0m, // [m]\n",
      "  \u001b[1mfocus_yh\u001b[0m = \u001b[1m\u001b[92m0.01\u001b[0m\u001b[0m, // [m]\n",
      "  \u001b[1mlambda0\u001b[0m = \u001b[1m\u001b[92m3\u001b[0m\u001b[0m, // [AA]\n",
      "  \u001b[1mdlambda\u001b[0m = \u001b[1m\u001b[92m2.2\u001b[0m\u001b[0m // [AA]\n",
      ")\n",
      "AT (0, 0, 0) ABSOLUTE\n"
     ]
    }
   ],
   "source": [
    "source.xwidth = 0.03\n",
    "source.yheight = 0.03\n",
    "source.lambda0 = 3\n",
    "source.dlambda = 2.2\n",
    "source.dist = 5\n",
    "source.focus_xw = 0.01\n",
    "source.focus_yh = 0.01\n",
    "print(source)"
   ]
  },
  {
   "cell_type": "code",
   "execution_count": 21,
   "id": "c7c7bdfa-61e0-4c99-9ddc-edea85a741cd",
   "metadata": {},
   "outputs": [
    {
     "name": "stdout",
     "output_type": "stream",
     "text": [
      "COMPONENT source = Source_simple(\n",
      "  \u001b[1myheight\u001b[0m = \u001b[1m\u001b[92m0.03\u001b[0m\u001b[0m, // [m]\n",
      "  \u001b[1mxwidth\u001b[0m = \u001b[1m\u001b[92m0.03\u001b[0m\u001b[0m, // [m]\n",
      "  \u001b[1mdist\u001b[0m = \u001b[1m\u001b[92m5\u001b[0m\u001b[0m, // [m]\n",
      "  \u001b[1mfocus_xw\u001b[0m = \u001b[1m\u001b[92m0.01\u001b[0m\u001b[0m, // [m]\n",
      "  \u001b[1mfocus_yh\u001b[0m = \u001b[1m\u001b[92m0.01\u001b[0m\u001b[0m, // [m]\n",
      "  \u001b[1mlambda0\u001b[0m = \u001b[1m\u001b[92mwavelength\u001b[0m\u001b[0m, // [AA]\n",
      "  \u001b[1mdlambda\u001b[0m = \u001b[1m\u001b[92m0.1*wavelength\u001b[0m\u001b[0m // [AA]\n",
      ")\n",
      "AT (0, 0, 0) ABSOLUTE\n"
     ]
    }
   ],
   "source": [
    "wavelength = instrument.add_parameter(\"wavelength\", value=3, comment=\"Wavelength in AA\")\n",
    "source.lambda0 = wavelength\n",
    "source.dlambda = \"0.1*wavelength\"\n",
    "print(source)"
   ]
  },
  {
   "cell_type": "code",
   "execution_count": 22,
   "id": "c876b952-52ed-438c-88cc-e6490bdc357d",
   "metadata": {},
   "outputs": [],
   "source": [
    "sample = instrument.add_component(\"sans_sample\", \"Sans_spheres\")"
   ]
  },
  {
   "cell_type": "code",
   "execution_count": 23,
   "id": "15f87c09-67d8-4874-a8b3-19e3a2db5668",
   "metadata": {},
   "outputs": [
    {
     "name": "stdout",
     "output_type": "stream",
     "text": [
      "COMPONENT sans_sample = Sans_spheres(\n",
      "  \u001b[1mR\u001b[0m = \u001b[1m\u001b[92m200\u001b[0m\u001b[0m, // [AA]\n",
      "  \u001b[1mxwidth\u001b[0m = \u001b[1m\u001b[92m0.01\u001b[0m\u001b[0m, // [m]\n",
      "  \u001b[1myheight\u001b[0m = \u001b[1m\u001b[92m0.01\u001b[0m\u001b[0m, // [m]\n",
      "  \u001b[1mzdepth\u001b[0m = \u001b[1m\u001b[92m0.01\u001b[0m\u001b[0m, // [m]\n",
      "  \u001b[1mtarget_index\u001b[0m = \u001b[1m\u001b[92m1\u001b[0m\u001b[0m, // [1]\n",
      "  \u001b[1mfocus_xw\u001b[0m = \u001b[1m\u001b[92m0.5\u001b[0m\u001b[0m, // [m]\n",
      "  \u001b[1mfocus_yh\u001b[0m = \u001b[1m\u001b[92m0.5\u001b[0m\u001b[0m // [m]\n",
      ")\n",
      "AT (0, 0, 5) RELATIVE source\n"
     ]
    }
   ],
   "source": [
    "sample.set_AT(5, RELATIVE=source)\n",
    "sample.set_parameters(R=200, xwidth=0.01, yheight=0.01, zdepth=0.01,\n",
    "                      target_index=1, focus_xw=0.5, focus_yh=0.5)\n",
    "print(sample)\n"
   ]
  },
  {
   "cell_type": "code",
   "execution_count": 24,
   "id": "27457b9b-4d8e-42c4-af0f-6dfcc5f57a61",
   "metadata": {},
   "outputs": [],
   "source": [
    "PSD = instrument.add_component(\"PSD\", \"PSD_monitor\")\n",
    "PSD.set_AT([0, 0, 5], RELATIVE=sample)\n",
    "PSD.set_parameters(xwidth=sample.focus_xw, yheight=sample.focus_yh, filename='\"PSD.dat\"')"
   ]
  },
  {
   "cell_type": "code",
   "execution_count": 25,
   "id": "36a54436-b093-48c8-bc2a-011232e06b1a",
   "metadata": {},
   "outputs": [],
   "source": [
    "# PSD_rad = instrument.add_component(\"PSD_rad\", \"PSD_monitor_rad\")\n",
    "# PSD_rad.set_AT([0, 0, 5], RELATIVE=sample)\n",
    "# PSD_rad.set_parameters(rmax=sample.focus_xw, filename='\"PSD_rad.dat\"')"
   ]
  },
  {
   "cell_type": "code",
   "execution_count": 26,
   "id": "3854f085-38bd-486c-ac70-9fb782ceea0d",
   "metadata": {},
   "outputs": [
    {
     "name": "stdout",
     "output_type": "stream",
     "text": [
      " wavelength  = 3  // Wavelength in AA\n"
     ]
    }
   ],
   "source": [
    "instrument.show_parameters()"
   ]
  },
  {
   "cell_type": "code",
   "execution_count": 27,
   "id": "34cabc36-8fa0-4ee3-b3f6-b1d6ea3a399c",
   "metadata": {},
   "outputs": [],
   "source": [
    "instrument.set_parameters(wavelength=5)\n",
    "instrument.settings(ncount=2E6)"
   ]
  },
  {
   "cell_type": "code",
   "execution_count": 28,
   "id": "bdcd7384-a74f-4980-85bf-c02aa838f2b8",
   "metadata": {},
   "outputs": [
    {
     "name": "stdout",
     "output_type": "stream",
     "text": [
      "\n",
      "/usr/share/mcstas/3.4/tools/Python/mcrun/mcrun.py:450: SyntaxWarning: invalid escape sequence '\\w'\n",
      "  params = re.findall('[\\w0-9]+=[^=\\s]+', text)\n",
      "/usr/share/mcstas/3.4/tools/Python/mcrun/mccode.py:328: SyntaxWarning: invalid escape sequence '\\ '\n",
      "  ''' Escape \\ and \" '''\n",
      "INFO: Using directory: \"/home/tbvanderwoude/repos/bep/my_instrument\"\n",
      "INFO: Regenerating c-file: my_instrument.c\n",
      "CFLAGS=\n",
      "\n",
      "-----------------------------------------------------------\n",
      "\n",
      "Generating single GPU kernel or single CPU section layout: \n",
      "\n",
      "-----------------------------------------------------------\n",
      "\n",
      "Generating GPU/CPU -DFUNNEL layout:\n",
      "\n",
      "-----------------------------------------------------------\n",
      "INFO: Recompiling: ./my_instrument.out\n",
      "./my_instrument.c: In function ‘class_PSD_monitor_init’:\n",
      "./my_instrument.c:664:33: warning: format not a string literal and no format arguments [-Wformat-security]\n",
      "  664 | #define NAME_CURRENT_COMP (_comp->_name)\n",
      "      |                           ~~~~~~^~~~~~~~\n",
      "./my_instrument.c:6816:48: note: in expansion of macro ‘NAME_CURRENT_COMP’\n",
      " 6816 |   if (!strcmp(filename,\"\\0\")) sprintf(filename,NAME_CURRENT_COMP);\n",
      "      |                                                ^~~~~~~~~~~~~~~~~\n",
      "./my_instrument.c: In function ‘detector_import’:\n",
      "./my_instrument.c:2342:57: warning: ‘ ’ directive output may be truncated writing 1 byte into a region of size between 0 and 1023 [-Wformat-truncation=]\n",
      " 2342 |     snprintf(detector.variables, CHAR_BUF_LENGTH, \"%s %s %s_err N\", detector.xvar, c, c);\n",
      "      |                                                         ^\n",
      "In file included from /usr/include/stdio.h:894,\n",
      "                 from ./my_instrument.c:243:\n",
      "/usr/include/x86_64-linux-gnu/bits/stdio2.h:71:10: note: ‘__builtin___snprintf_chk’ output 9 or more bytes (assuming 1032) into a destination of size 1024\n",
      "   71 |   return __builtin___snprintf_chk (__s, __n, __USE_FORTIFY_LEVEL - 1,\n",
      "      |          ^~~~~~~~~~~~~~~~~~~~~~~~~~~~~~~~~~~~~~~~~~~~~~~~~~~~~~~~~~~~\n",
      "   72 |                                    __glibc_objsize (__s), __fmt,\n",
      "      |                                    ~~~~~~~~~~~~~~~~~~~~~~~~~~~~~\n",
      "   73 |                                    __va_arg_pack ());\n",
      "      |                                    ~~~~~~~~~~~~~~~~~\n",
      "INFO: ===\n",
      "*** TRACE end *** \n",
      "Detector: PSD_I=2.76677e-36 PSD_ERR=2.70998e-38 PSD_N=1.99994e+06 \"PSD.dat\"\n",
      "INFO: Placing instr file copy my_instrument.instr in dataset /home/tbvanderwoude/repos/bep/my_instrument\n",
      "\n"
     ]
    }
   ],
   "source": [
    "data = instrument.backengine()"
   ]
  },
  {
   "cell_type": "code",
   "execution_count": 29,
   "id": "866bc275-2e7f-48f4-b8d8-7f0e76c46589",
   "metadata": {},
   "outputs": [
    {
     "data": {
      "image/png": "[encoded data removed]",
      "text/plain": [
       "<Figure size 700x500 with 2 Axes>"
      ]
     },
     "metadata": {},
     "output_type": "display_data"
    }
   ],
   "source": [
    "ms.make_sub_plot(data, log=True)\n"
   ]
  },
  {
   "cell_type": "code",
   "execution_count": 30,
   "id": "60d830f5-4e41-4ddb-8f68-8263b365f53c",
   "metadata": {},
   "outputs": [
    {
     "name": "stdout",
     "output_type": "stream",
     "text": [
      "[\n",
      "McStasData: PSD type: 2D  I:2.76677e-36 E:2.70998e-38 N:1999940.0]\n"
     ]
    }
   ],
   "source": [
    "print(data)"
   ]
  },
  {
   "cell_type": "code",
   "execution_count": 31,
   "id": "95ad9300-867f-4378-aeeb-3a0b566abe0b",
   "metadata": {},
   "outputs": [],
   "source": [
    "PSD_data = ms.name_search(\"PSD\", data)"
   ]
  },
  {
   "cell_type": "code",
   "execution_count": 32,
   "id": "f930fc45-07bb-40da-9c27-64b18a88bbc9",
   "metadata": {},
   "outputs": [
    {
     "data": {
      "text/plain": [
       "array([[8.24031023e-43, 9.55107263e-43, 8.96586842e-43, ...,\n",
       "        1.15163750e-42, 1.47709812e-42, 6.38765976e-43],\n",
       "       [8.81059450e-43, 1.14340048e-42, 8.39223325e-43, ...,\n",
       "        9.51651298e-43, 9.65473734e-43, 7.53787517e-43],\n",
       "       [1.24517632e-42, 9.03328544e-43, 9.37139255e-43, ...,\n",
       "        8.63080008e-43, 1.02602922e-42, 1.10239845e-42],\n",
       "       ...,\n",
       "       [8.54777449e-43, 1.09052100e-42, 8.70407920e-43, ...,\n",
       "        8.61587507e-43, 7.42977993e-43, 9.17870959e-43],\n",
       "       [1.01105921e-42, 1.00901286e-42, 1.15417028e-42, ...,\n",
       "        6.01233282e-43, 8.81178713e-43, 1.04161289e-42],\n",
       "       [6.88299171e-43, 8.89765108e-43, 6.61399703e-43, ...,\n",
       "        7.62941960e-43, 6.73800810e-43, 8.15094312e-43]])"
      ]
     },
     "execution_count": 32,
     "metadata": {},
     "output_type": "execute_result"
    }
   ],
   "source": [
    "PSD_data.Intensity"
   ]
  },
  {
   "cell_type": "code",
   "execution_count": 33,
   "id": "db0bcb88-a4ef-413f-9fa9-0b6d19e92275",
   "metadata": {},
   "outputs": [],
   "source": [
    "intensity_xy = PSD_data.Intensity"
   ]
  },
  {
   "cell_type": "code",
   "execution_count": 34,
   "id": "24f5a957-b1b9-4013-8913-13e797c14bc5",
   "metadata": {},
   "outputs": [
    {
     "name": "stdout",
     "output_type": "stream",
     "text": [
      "Date : Tue Apr 23 18:58:51 2024 (1713891531)\n",
      "type : array_2d(90, 90)\n",
      "Source : my_instrument (my_instrument.instr)\n",
      "component : PSD\n",
      "position : 0 0 10\n",
      "title : PSD monitor\n",
      "Ncount : 2000000\n",
      "filename : PSD.dat\n",
      "statistics : X0=0.00867843; dX=3.30687; Y0=0.00348771; dY=3.32049;\n",
      "signal : Min=2.78862e-43; Max=2.1392e-38; Mean=3.41576e-40;\n",
      "values : 2.76677e-36 2.70998e-38 1.99994e+06\n",
      "xvar : X\n",
      "yvar : Y\n",
      "xlabel : X position [cm]\n",
      "ylabel : Y position [cm]\n",
      "zvar : I\n",
      "zlabel : Signal per bin\n",
      "xylimits : -25 25 -25 25\n",
      "variables : I I_err N\n",
      "Parameters : {'wavelength': 5.0}\n"
     ]
    }
   ],
   "source": [
    "info_dict = PSD_data.metadata.info\n",
    "for field, info in info_dict.items():\n",
    "    print(field, \":\", info)"
   ]
  }
 ],
 "metadata": {
  "kernelspec": {
   "display_name": "Python 3 (ipykernel)",
   "language": "python",
   "name": "python3"
  },
  "language_info": {
   "codemirror_mode": {
    "name": "ipython",
    "version": 3
   },
   "file_extension": ".py",
   "mimetype": "text/x-python",
   "name": "python",
   "nbconvert_exporter": "python",
   "pygments_lexer": "ipython3",
   "version": "3.10.12"
  }
 },
 "nbformat": 4,
 "nbformat_minor": 5
}

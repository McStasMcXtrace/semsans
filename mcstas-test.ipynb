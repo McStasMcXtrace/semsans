{
 "cells": [
  {
   "cell_type": "code",
   "execution_count": null,
   "id": "b45e5af8-21f0-437f-84e2-ca097727db80",
   "metadata": {},
   "outputs": [],
   "source": [
    "import mcstasscript as ms\n",
    "my_configurator = ms.Configurator()\n",
    "my_configurator.set_mcrun_path(\"/usr/bin/\")\n",
    "my_configurator.set_mcstas_path(\"/usr/share/mcstas/3.4/\")"
   ]
  },
  {
   "cell_type": "code",
   "execution_count": null,
   "id": "e13007c6-85f5-43c8-b2dd-ea482d67e331",
   "metadata": {},
   "outputs": [],
   "source": [
    "instrument = ms.McStas_instr(\"my_instrument\")"
   ]
  },
  {
   "cell_type": "code",
   "execution_count": null,
   "id": "52125956-e804-4b13-a342-8c238f418f5d",
   "metadata": {},
   "outputs": [],
   "source": [
    "instrument.available_components()"
   ]
  },
  {
   "cell_type": "code",
   "execution_count": null,
   "id": "627465a5-84c0-447a-a3ae-dfa47621dadd",
   "metadata": {},
   "outputs": [],
   "source": [
    "source = instrument.add_component(\"source\", \"Source_simple\")\n",
    "source.show_parameters()"
   ]
  },
  {
   "cell_type": "code",
   "execution_count": null,
   "id": "8e922c42-cb8f-4316-9614-66d211290cb1",
   "metadata": {},
   "outputs": [],
   "source": [
    "source.xwidth = 0.03\n",
    "source.yheight = 0.03\n",
    "source.lambda0 = 3\n",
    "source.dlambda = 2.2\n",
    "source.dist = 5\n",
    "source.focus_xw = 0.01\n",
    "source.focus_yh = 0.01\n",
    "print(source)"
   ]
  },
  {
   "cell_type": "code",
   "execution_count": null,
   "id": "c7c7bdfa-61e0-4c99-9ddc-edea85a741cd",
   "metadata": {},
   "outputs": [],
   "source": [
    "wavelength = instrument.add_parameter(\"wavelength\", value=3, comment=\"Wavelength in AA\")\n",
    "source.lambda0 = wavelength\n",
    "source.dlambda = \"0.1*wavelength\"\n",
    "print(source)"
   ]
  },
  {
   "cell_type": "code",
   "execution_count": null,
   "id": "c876b952-52ed-438c-88cc-e6490bdc357d",
   "metadata": {},
   "outputs": [],
   "source": [
    "sample = instrument.add_component(\"sans_sample\", \"Sans_spheres\")"
   ]
  },
  {
   "cell_type": "code",
   "execution_count": null,
   "id": "15f87c09-67d8-4874-a8b3-19e3a2db5668",
   "metadata": {},
   "outputs": [],
   "source": [
    "sample.set_AT(5, RELATIVE=source)\n",
    "sample.set_parameters(R=200, xwidth=0.01, yheight=0.01, zdepth=0.01,\n",
    "                      target_index=1, focus_xw=0.5, focus_yh=0.5)\n",
    "print(sample)\n"
   ]
  },
  {
   "cell_type": "code",
   "execution_count": null,
   "id": "27457b9b-4d8e-42c4-af0f-6dfcc5f57a61",
   "metadata": {},
   "outputs": [],
   "source": [
    "PSD = instrument.add_component(\"PSD\", \"PSD_monitor\")\n",
    "PSD.set_AT([0, 0, 5], RELATIVE=sample)\n",
    "PSD.set_parameters(xwidth=sample.focus_xw, yheight=sample.focus_yh, filename='\"PSD.dat\"')"
   ]
  },
  {
   "cell_type": "code",
   "execution_count": null,
   "id": "36a54436-b093-48c8-bc2a-011232e06b1a",
   "metadata": {},
   "outputs": [],
   "source": [
    "# PSD_rad = instrument.add_component(\"PSD_rad\", \"PSD_monitor_rad\")\n",
    "# PSD_rad.set_AT([0, 0, 5], RELATIVE=sample)\n",
    "# PSD_rad.set_parameters(rmax=sample.focus_xw, filename='\"PSD_rad.dat\"')"
   ]
  },
  {
   "cell_type": "code",
   "execution_count": null,
   "id": "3854f085-38bd-486c-ac70-9fb782ceea0d",
   "metadata": {},
   "outputs": [],
   "source": [
    "instrument.show_parameters()"
   ]
  },
  {
   "cell_type": "code",
   "execution_count": null,
   "id": "34cabc36-8fa0-4ee3-b3f6-b1d6ea3a399c",
   "metadata": {},
   "outputs": [],
   "source": [
    "instrument.set_parameters(wavelength=5)\n",
    "instrument.settings(ncount=2E6)"
   ]
  },
  {
   "cell_type": "code",
   "execution_count": null,
   "id": "bdcd7384-a74f-4980-85bf-c02aa838f2b8",
   "metadata": {},
   "outputs": [],
   "source": [
    "data = instrument.backengine()"
   ]
  },
  {
   "cell_type": "code",
   "execution_count": null,
   "id": "866bc275-2e7f-48f4-b8d8-7f0e76c46589",
   "metadata": {},
   "outputs": [],
   "source": [
    "ms.make_sub_plot(data, log=True)\n"
   ]
  },
  {
   "cell_type": "code",
   "execution_count": null,
   "id": "60d830f5-4e41-4ddb-8f68-8263b365f53c",
   "metadata": {},
   "outputs": [],
   "source": [
    "print(data)"
   ]
  },
  {
   "cell_type": "code",
   "execution_count": null,
   "id": "95ad9300-867f-4378-aeeb-3a0b566abe0b",
   "metadata": {},
   "outputs": [],
   "source": [
    "PSD_data = ms.name_search(\"PSD\", data)"
   ]
  },
  {
   "cell_type": "code",
   "execution_count": null,
   "id": "f930fc45-07bb-40da-9c27-64b18a88bbc9",
   "metadata": {},
   "outputs": [],
   "source": [
    "PSD_data.Intensity"
   ]
  },
  {
   "cell_type": "code",
   "execution_count": null,
   "id": "db0bcb88-a4ef-413f-9fa9-0b6d19e92275",
   "metadata": {},
   "outputs": [],
   "source": [
    "intensity_xy = PSD_data.Intensity"
   ]
  },
  {
   "cell_type": "code",
   "execution_count": null,
   "id": "24f5a957-b1b9-4013-8913-13e797c14bc5",
   "metadata": {},
   "outputs": [],
   "source": [
    "info_dict = PSD_data.metadata.info\n",
    "for field, info in info_dict.items():\n",
    "    print(field, \":\", info)"
   ]
  }
 ],
 "metadata": {
  "kernelspec": {
   "display_name": "Python 3 (ipykernel)",
   "language": "python",
   "name": "python3"
  },
  "language_info": {
   "codemirror_mode": {
    "name": "ipython",
    "version": 3
   },
   "file_extension": ".py",
   "mimetype": "text/x-python",
   "name": "python",
   "nbconvert_exporter": "python",
   "pygments_lexer": "ipython3",
   "version": "3.12.3"
  }
 },
 "nbformat": 4,
 "nbformat_minor": 5
}

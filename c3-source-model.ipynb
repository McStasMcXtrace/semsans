{
 "cells": [
  {
   "cell_type": "code",
   "execution_count": null,
   "metadata": {},
   "outputs": [],
   "source": [
    "import numpy as np\n",
    "from scipy.stats import maxwell\n",
    "import matplotlib.pyplot as plt\n",
    "from scipy import stats "
   ]
  },
  {
   "cell_type": "markdown",
   "metadata": {},
   "source": [
    "$$E_{peak} = k_bT$$\n",
    "$$v_{max} = \\sqrt{E_{peak} / m}$$"
   ]
  },
  {
   "cell_type": "code",
   "execution_count": null,
   "metadata": {},
   "outputs": [],
   "source": [
    "k_b = 1.380649e-23 # J/K\n",
    "T = 20 # K \n",
    "m_n = 1.67492749804e-27 # kg\n",
    "h = 6.62607015e-34 # J / Hz\n",
    "a = np.sqrt(k_b * T / m_n)\n",
    "a"
   ]
  },
  {
   "cell_type": "code",
   "execution_count": null,
   "metadata": {},
   "outputs": [],
   "source": [
    "max_v = np.sqrt(2) * a\n",
    "max_v"
   ]
  },
  {
   "cell_type": "code",
   "execution_count": null,
   "metadata": {},
   "outputs": [],
   "source": [
    "v = np.linspace(300,6000,10000)\n",
    "pdf_v = maxwell.pdf(v, scale=a)\n",
    "min_y = np.min(pdf_v)\n",
    "max_y = np.max(pdf_v)\n",
    "plt.plot(v, pdf_v, 'r-',alpha=0.6,label='maxwell pdf')\n",
    "plt.ylim(min_y,max_y)\n",
    "plt.xlabel('v [m/s]')\n",
    "plt.ylabel('pdf')\n",
    "plt.axvline(max_v, linestyle='--')\n",
    "plt.grid()"
   ]
  },
  {
   "cell_type": "markdown",
   "metadata": {},
   "source": [
    "$$\\lambda = \\frac{h}{mv}$$"
   ]
  },
  {
   "cell_type": "code",
   "execution_count": null,
   "metadata": {},
   "outputs": [],
   "source": [
    "wavelength = h / (m_n *v)\n",
    "plt.plot(v, wavelength)"
   ]
  },
  {
   "cell_type": "markdown",
   "metadata": {},
   "source": [
    "Original pdf\n",
    "$$\\int f_v dv = 1$$\n",
    "Todo: find $f_\\lambda$ such that\n",
    "$$\\int f_\\lambda d\\lambda = 1$$\n",
    "With $\\lambda = \\frac{h}{m_n v}$\n",
    "$$\\implies d\\lambda = \\frac{-h}{m_n v ^ 2}dv$$\n",
    "$$\\implies dv = \\frac{-m_n v ^ 2}{h}d\\lambda$$\n",
    "\n",
    "In practice, reordering the bounds of the integral will cancel the $-1$ factor.\n"
   ]
  },
  {
   "cell_type": "code",
   "execution_count": null,
   "metadata": {},
   "outputs": [],
   "source": [
    "print(wavelength)\n",
    "f_v_to_f_wave = m_n * v**2 / h \n",
    "f_v_to_f_wave = h / (m_n * wavelength ** 2)\n",
    "pdf_wave = pdf_v * f_v_to_f_wave\n",
    "plt.plot(wavelength * 1e10, pdf_wave, 'r',alpha=0.6,label='maxwell pdf')\n",
    "# plt.ylim(0,0.0004)\n",
    "plt.xlabel(r'$\\lambda$ [Å]')\n",
    "plt.ylabel('pdf')\n",
    "plt.grid()"
   ]
  },
  {
   "cell_type": "code",
   "execution_count": null,
   "metadata": {},
   "outputs": [],
   "source": [
    "np.sum(pdf_wave * 1e-10)"
   ]
  },
  {
   "cell_type": "markdown",
   "metadata": {},
   "source": [
    "# Direct computation using transformed Maxwell-Boltzmann"
   ]
  },
  {
   "cell_type": "code",
   "execution_count": null,
   "metadata": {},
   "outputs": [],
   "source": [
    "def comp_pdf_wave(wavelength, T):\n",
    "    a = np.sqrt(k_b * T / m_n)\n",
    "    return maxwell.pdf(h / (m_n * wavelength), scale=a) * h / (m_n * wavelength ** 2)\n",
    "\n",
    "w_0 = 2.165e-10\n",
    "w_1 = 4.321e-10\n",
    "w_2 = 8e-10\n",
    "T = 20\n",
    "center_1 = comp_pdf_wave(w_1,T)\n",
    "center_2 = comp_pdf_wave(w_2,T)\n",
    "center_1/center_2\n",
    "\n",
    "wavelength = np.linspace(0.01e-10, 12e-10, 100000) # m\n",
    "d_wavelength = wavelength[1] - wavelength[0]\n",
    "v = h / (m_n * wavelength)\n",
    "# T is in Kelvin\n",
    "for T in [20,290]:\n",
    "    a = np.sqrt(k_b * T / m_n)\n",
    "    pdf_wave = comp_pdf_wave(wavelength, T)\n",
    "    plt.plot(wavelength * 1e10, pdf_wave * 1e-10,label=r'$T=' +str(T)+r'$K')\n",
    "    # plt.ylim(0,0.0004)\n",
    "    plt.xlabel(r'$\\lambda$ [Å]')\n",
    "    plt.ylabel(r'$f_\\lambda$ [Å$^{-1}$]')\n",
    "# for w in [w_0, w_1, w_2]:\n",
    "#     plt.axvline(w * 1e10, linestyle='--')\n",
    "plt.grid()\n",
    "plt.legend()\n",
    "plt.savefig(\"docs/source-spectrum.eps\",bbox_inches=\"tight\", pad_inches=0, format='eps')"
   ]
  },
  {
   "cell_type": "markdown",
   "metadata": {},
   "source": [
    "# Monochromators\n",
    "$\\lambda = 8 Å$ means a helical slot velocity selector rotating at a set velocity.\n",
    "$\\lambda = 4 Å$ means a pyroletic graphite crystal rotated to the correct angle.\n",
    "\n",
    "[FWHM](https://en.wikipedia.org/wiki/Full_width_at_half_maximum) is a common term when expressing $\\Delta\\lambda/\\lambda$, and the relation to a Gauss is through $\\Delta\\lambda = 2 \\sqrt{2\\ln2} \\sigma$\n",
    "\n",
    "For the helical slot velocity selector  $\\Delta\\lambda \\approx 0.1\\lambda$, for the PG crystal $\\Delta\\lambda \\approx 0.01\\lambda$ "
   ]
  },
  {
   "cell_type": "code",
   "execution_count": null,
   "metadata": {},
   "outputs": [],
   "source": [
    "def filter(wavelengths, center_wavelength, delta_wavelength):\n",
    "    sigma = delta_wavelength / (2 * np.sqrt(2 * np.log(2)))\n",
    "    return np.exp(-(wavelengths - center_wavelength) ** 2 / (2 * sigma**2))\n",
    "monochrom_options = [(w_1,0.01), (w_2, 0.05), (w_2, 0.1), (w_2, 0.2)]\n",
    "monochrom_transfer = np.zeros((4, len(wavelength)))\n",
    "\n",
    "for (i,(w_0, f)) in enumerate(monochrom_options):\n",
    "    monochrom_transfer[i] = filter(wavelength, w_0, f * w_0)\n",
    "\n",
    "for transfer in monochrom_transfer:\n",
    "    plt.plot(wavelength * 1e10, transfer)  \n",
    "plt.xlabel(r'$\\lambda$ [Å]')\n",
    "plt.ylabel(r'$f_\\lambda$')\n",
    "plt.grid()"
   ]
  },
  {
   "cell_type": "code",
   "execution_count": null,
   "metadata": {},
   "outputs": [],
   "source": [
    "T = 20\n",
    "pdf_wave = comp_pdf_wave(wavelength, T)\n",
    "selected = pdf_wave * monochrom_transfer\n",
    "for selected_i in selected:\n",
    "    plt.plot(wavelength * 1e10, selected_i)\n",
    "plt.xlabel(r'$\\lambda$ [Å]')\n",
    "plt.ylabel(r'$f_\\lambda$')\n",
    "plt.grid()"
   ]
  },
  {
   "cell_type": "code",
   "execution_count": null,
   "metadata": {},
   "outputs": [],
   "source": [
    "from scipy import integrate\n",
    "flux_fraction = integrate.trapezoid(selected, axis=1) * d_wavelength\n",
    "print(flux_fraction)\n",
    "flux_fraction[2]/flux_fraction[0]"
   ]
  },
  {
   "cell_type": "code",
   "execution_count": null,
   "metadata": {},
   "outputs": [],
   "source": [
    "C_mc_4321 = flux_fraction[0]\n",
    "C_mc_8 = flux_fraction[2]\n",
    "C_pol_ana = 1/4\n",
    "\n",
    "R = 0.1\n",
    "d = 6\n",
    "psi_0 = np.deg2rad(2)\n",
    "div_factor = (R**2) / ((R + psi_0 * d)**2)\n",
    "\n",
    "phi_0 = 1000e6 * 0.5\n",
    "print(phi_0)\n",
    "\n",
    "for C_mc in [C_mc_4321, C_mc_8]:\n",
    "    print(div_factor, C_mc, C_pol_ana)\n",
    "    print(div_factor * C_mc * C_pol_ana)\n",
    "    est_phi_0 = phi_0 * div_factor * C_mc * C_pol_ana\n",
    "    print(f\"{est_phi_0}/cm^2/s, 10^{round(np.log10(est_phi_0),2)}\")\n",
    "    # print(est_phi_0)\n",
    "    # print(np.log10(est_phi_0))\n",
    "    # print(phi_0 * div_factor * C_mc * C_pol_ana)\n",
    "\n"
   ]
  },
  {
   "cell_type": "markdown",
   "metadata": {},
   "source": [
    "# Divergence\n",
    "First, a maximum value is calculated. Next, an approximate divergence distribution is computed"
   ]
  },
  {
   "cell_type": "code",
   "execution_count": null,
   "metadata": {},
   "outputs": [],
   "source": [
    "h_d = 10e-3\n",
    "b_d = 10e-3\n",
    "\n",
    "h_b_dist = 5\n",
    "\n",
    "psi_0 = np.arctan((h_d + b_d)/5)\n",
    "psi_0 * 1e3"
   ]
  },
  {
   "cell_type": "code",
   "execution_count": null,
   "metadata": {},
   "outputs": [],
   "source": [
    "N = 100000\n",
    "\n",
    "h_d = 10e-3\n",
    "b_d = 10e-3\n",
    "d = 5\n",
    "\n",
    "def sum_of_two_uniform(s):\n",
    "    size = b_d + h_d\n",
    "\n",
    "param_space = [{'low': -b_d/2, 'high': b_d/2}, {'low': -h_d/2, 'high': h_d/2}]\n",
    "\n",
    "# Generate the random array\n",
    "combinations = np.zeros((N, 2))\n",
    "\n",
    "for i, param in enumerate(param_space):\n",
    "    combinations[:, i] = np.random.uniform(low=param['low'], high=param['high'], size=N)\n",
    "psi_0 = np.arctan((h_d/2 + b_d/2)/d)\n",
    "psi_2d = np.arctan(np.sqrt(2) * (h_d/2 + b_d/2)/d)\n",
    "psi_0, psi_2d"
   ]
  },
  {
   "cell_type": "code",
   "execution_count": null,
   "metadata": {},
   "outputs": [],
   "source": [
    "def trapezoid_pdf(x, a1, b1, a2, b2):\n",
    "    result = np.zeros_like(x)\n",
    "    # Rising linear section (triangle)\n",
    "    mask1 = (x >= (a1 + a2)) & (x < (b1 + a2))\n",
    "    result[mask1] = (x[mask1] - (a1 + a2)) / ((b1 - a1) * (b2 - a2))\n",
    "    # Flat section (square)\n",
    "    mask2 = (x >= (b1 + a2)) & (x < (a1 + b2))\n",
    "    result[mask2] = 1 / (b1 - a1)\n",
    "    # Falling linear section (triangle)\n",
    "    mask3 = (x >= (a1 + b2)) & (x < (b1 + b2))\n",
    "    result[mask3] = ((b1 + b2) - x[mask3]) / ((b1 - a1) * (b2 - a2))\n",
    "    return result\n",
    "\n",
    "# Parameters\n",
    "a1, b1 = -b_d/2, b_d/2\n",
    "a2, b2 = -h_d/2, h_d/2\n",
    "\n",
    "# Range for x values\n",
    "x = np.linspace(a1 + a2, b1 + b2, 4000)\n",
    "pdf_values = trapezoid_pdf(x, a1, b1, a2, b2)\n",
    "\n",
    "# Plot the PDF\n",
    "# plt.figure(figsize=(12, 6))\n",
    "plt.plot(x, pdf_values, label='PDF')\n",
    "# plt.fill_between(x, pdf_values, alpha=0.2)\n",
    "plt.title('Probability Density Function')\n",
    "plt.xlabel('x')\n",
    "plt.ylabel('Density')\n",
    "plt.legend()\n",
    "plt.show()"
   ]
  },
  {
   "cell_type": "code",
   "execution_count": null,
   "metadata": {},
   "outputs": [],
   "source": []
  },
  {
   "cell_type": "code",
   "execution_count": null,
   "metadata": {},
   "outputs": [],
   "source": [
    "# x = np.linspace(a1 + a2, b1 + b2, 1000)\n",
    "X, Y = np.meshgrid(x, x, indexing='ij')\n",
    "\n",
    "div = np.arctan(np.sqrt(X ** 2 + Y ** 2)/d)\n",
    "fig = plt.figure()\n",
    "ax = fig.add_subplot(111, projection='3d')\n",
    "surf = ax.plot_surface(X * 1e3, Y * 1e3, div, cmap='viridis', edgecolor='none')\n",
    "cbar = fig.colorbar(surf, ax=ax, shrink=0.5, aspect=10, pad=0.1)\n",
    "cbar.set_label(r'$I$ [a.u.]', fontsize=12)\n",
    "ax.set_xlabel(r'$x$ [mm]')\n",
    "ax.set_ylabel(r'$y$ [mm]')\n",
    "plt.show()\n",
    "\n",
    "# plt.plot(x,div * 1e3)\n",
    "# plt.show()"
   ]
  },
  {
   "cell_type": "code",
   "execution_count": null,
   "metadata": {},
   "outputs": [],
   "source": [
    "# Range for x values\n",
    "x = np.linspace(a1 + a2, b1 + b2, 4000)\n",
    "pdf_values = trapezoid_pdf(x, a1, b1, a2, b2)\n",
    "\n",
    "# x = np.linspace(a1 + a2, b1 + b2, 4000)\n",
    "X, Y = np.meshgrid(x, x, indexing='ij')\n",
    "joint_pdf = trapezoid_pdf(X, a1, b1, a2, b2) * trapezoid_pdf(Y, a1, b1, a2, b2)\n",
    "\n",
    "# cum_pdf = trapezoid_pdf(X, a1, b1, a2, b2) * trapezoid_pdf(Y, a1, b1, a2, b2)\n",
    "fig = plt.figure()\n",
    "ax = fig.add_subplot(111, projection='3d')\n",
    "surf = ax.plot_surface(X * 1e3, Y * 1e3, joint_pdf, cmap='viridis', edgecolor='none')\n",
    "cbar = fig.colorbar(surf, ax=ax, shrink=0.5, aspect=10, pad=0.1)\n",
    "cbar.set_label(r'$I$ [a.u.]', fontsize=12)\n",
    "ax.set_xlabel(r'$x$ [mm]')\n",
    "ax.set_ylabel(r'$y$ [mm]')\n",
    "plt.show()\n",
    "\n",
    "# plt.plot(x,div * 1e3)\n",
    "# plt.show()"
   ]
  },
  {
   "cell_type": "code",
   "execution_count": null,
   "metadata": {},
   "outputs": [],
   "source": [
    "\n",
    "# cum_pdf = trapezoid_pdf(X, a1, b1, a2, b2) * trapezoid_pdf(Y, a1, b1, a2, b2)\n",
    "fig = plt.figure()\n",
    "ax = fig.add_subplot(111, projection='3d')\n",
    "surf = ax.plot_surface(X * 1e3, Y * 1e3, joint_pdf * div, cmap='viridis', edgecolor='none')\n",
    "cbar = fig.colorbar(surf, ax=ax, shrink=0.5, aspect=10, pad=0.1)\n",
    "cbar.set_label(r'$I$ [a.u.]', fontsize=12)\n",
    "ax.set_xlabel(r'$x$ [mm]')\n",
    "ax.set_ylabel(r'$y$ [mm]')\n",
    "plt.show()\n",
    "\n",
    "# plt.plot(x,div * 1e3)\n",
    "# plt.show()"
   ]
  },
  {
   "cell_type": "code",
   "execution_count": null,
   "metadata": {},
   "outputs": [],
   "source": [
    "dx = x[1] - x[0]\n",
    "values = (joint_pdf * div).flatten()\n",
    "mean_div = np.mean(values) / 160000\n",
    "print(mean_div)\n",
    "# # Create the histogram\n",
    "# plt.figure(figsize=(10, 6))\n",
    "# plt.hist(values * 1e3, bins=1000, density=True, alpha=0.75, color='blue', edgecolor='black')\n",
    "# # plt.title('Histogram of Z = f(X, Y)')\n",
    "# plt.xlabel('Z')\n",
    "# plt.ylabel('Density')\n",
    "# plt.show()"
   ]
  },
  {
   "cell_type": "code",
   "execution_count": null,
   "metadata": {},
   "outputs": [],
   "source": []
  }
 ],
 "metadata": {
  "kernelspec": {
   "display_name": "bep",
   "language": "python",
   "name": "python3"
  },
  "language_info": {
   "codemirror_mode": {
    "name": "ipython",
    "version": 3
   },
   "file_extension": ".py",
   "mimetype": "text/x-python",
   "name": "python",
   "nbconvert_exporter": "python",
   "pygments_lexer": "ipython3",
   "version": "3.12.3"
  }
 },
 "nbformat": 4,
 "nbformat_minor": 2
}

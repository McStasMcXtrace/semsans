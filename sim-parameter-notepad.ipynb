{
 "cells": [
  {
   "cell_type": "code",
   "execution_count": null,
   "metadata": {},
   "outputs": [],
   "source": [
    "import numpy as np\n",
    "import matplotlib.pyplot as plt"
   ]
  },
  {
   "cell_type": "markdown",
   "metadata": {},
   "source": [
    "# $\\theta_0$ for different components\n",
    "For foils, $\\theta_0$ is fixed by the need for the foil to rotate the given $\\lambda_0$ by $\\pi$. \n",
    "\n",
    "In wollaston prisms and isosceles triangles $\\theta_0$ is just a function of the geometry.\n",
    "\n",
    "For a triangle with base 0.6, height 0.15, the angle is $\\arctan(0.15/(0.6/2)) = 0.4636476090008061$. The WSP has the same angle, having just one inclined plane and a base twice as great as the height. "
   ]
  },
  {
   "cell_type": "code",
   "execution_count": null,
   "metadata": {},
   "outputs": [],
   "source": [
    "from definitions import c\n",
    "\n",
    "def tune_foil(lambda_0, B_s, d, c, n = 0):\n",
    "    return np.arcsin(c * d * B_s * lambda_0 / ((2 * n + 1) * np.pi))\n",
    "\n",
    "B_s = 1\n",
    "d = 3e-6\n",
    "# theta_0 = 0.0960\n",
    "for lambda_0 in [2.165e-10, 3e-10, 4.321e-10, 8e-10, 10e-10]:\n",
    "    theta_0 = tune_foil(lambda_0, B_s, d, c, n = 0)\n",
    "    theta_0_deg = np.rad2deg(theta_0)\n",
    "    phi_foil = c * d * B_s * lambda_0 / np.sin(theta_0)\n",
    "    print(theta_0, theta_0_deg, phi_foil)"
   ]
  },
  {
   "cell_type": "code",
   "execution_count": null,
   "metadata": {},
   "outputs": [],
   "source": [
    "np.arctan(0.15/0.3)"
   ]
  },
  {
   "cell_type": "markdown",
   "metadata": {},
   "source": [
    "# $\\delta_y$ range for foils\n",
    "Foils have a set $\\theta_0$ as well as a minimal field strength of 0.3mT, giving a natural floor to $\\delta_y$ given the other parameters $L_s, \\lambda_0$."
   ]
  },
  {
   "cell_type": "code",
   "execution_count": null,
   "metadata": {},
   "outputs": [],
   "source": [
    "for lambda_0 in [2.165e-10, 4.321e-10, 8e-10]:\n",
    "    theta_0 = tune_foil(lambda_0, B_s, d, c)\n",
    "    theta_0_deg = np.rad2deg(theta_0)\n",
    "    phi_foil = c * d * B_s * lambda_0 / np.sin(theta_0)\n",
    "    print(theta_0, theta_0_deg, phi_foil)\n",
    "    L_s = 1.8\n",
    "    delta_y_min = c * lambda_0 ** 2 * L_s * (0.3e-3) / (np.pi * np.tan(theta_0)) \n",
    "    print(delta_y_min)"
   ]
  },
  {
   "cell_type": "markdown",
   "metadata": {},
   "source": [
    "# Small-angle error correction factor\n"
   ]
  },
  {
   "cell_type": "markdown",
   "metadata": {},
   "source": [
    "$\\delta = f_0 L_s \\lambda_0$\n",
    "In small-angle approximation\n",
    "$$\\phi_t = \\delta Q$$\n",
    "With error, an additional factor is incurred\n",
    "$$\\phi_t = \\delta \\frac{1}{1 - \\frac{y^2}{2L_s^2}}Q = f_0 L_s \\lambda_0 \\frac{1}{1 - \\frac{y^2}{2L_s^2}}Q$$\n",
    "This means that the direct correspondence between the modulation phase $\\phi_t$ and scattering at characteristic length $\\delta$ breaks down. In practice this correction can be used to bound $y$ for which the approximation is valid."
   ]
  },
  {
   "cell_type": "code",
   "execution_count": null,
   "metadata": {},
   "outputs": [],
   "source": [
    "from definitions import *\n",
    "\n",
    "h_d = detector_size\n",
    "y = np.linspace(-h_d/2, h_d/2, 100000)\n",
    "L_s = 1.5\n",
    "f_0 = 1e5\n",
    "f = 1 / (1 - y ** 2 / (2 * L_s ** 2))\n",
    "I_base = np.cos(2 * np.pi * f_0 * y)\n",
    "I_corrected = np.cos(2 * np.pi * f_0 * y * f)\n",
    "# plt.plot(y, f)\n",
    "plt.plot(y, I_base, '.')\n",
    "plt.plot(y, I_corrected, '.')\n",
    "plt.xlim((-detector_size/2, -detector_size/2 +1e-5))"
   ]
  },
  {
   "cell_type": "code",
   "execution_count": null,
   "metadata": {},
   "outputs": [],
   "source": [
    "from scipy.signal import hilbert\n",
    "\n",
    "f_s = 1/detector_pixel_size\n",
    "f_super_sampled = f_s / 2\n",
    "\n",
    "for f_0 in [1e2, 1e3, 1e4, f_super_sampled]:\n",
    "    for L_s in [0.5, 0.75, 1.0, 1, 1.5, 2.0]:\n",
    "        # L_s = 1.5\n",
    "        # f_0 = 1e5\n",
    "        f = 1 / (1 - y ** 2 / (2 * L_s ** 2))\n",
    "        I_base = np.cos(2 * np.pi * f_0 * y)\n",
    "        I_corrected = np.cos(2 * np.pi * f_0 * y * f)\n",
    "        I_error = I_corrected - I_base\n",
    "        # plt.plot(y, I_error)\n",
    "        analytic_signal = hilbert(I_error)\n",
    "        envelope = np.abs(analytic_signal)\n",
    "        plt.plot(y,envelope, label=rf'$L_s = {L_s}$m')\n",
    "    plt.grid()\n",
    "    plt.title(rf\"$f_0 = {f_0}$\")\n",
    "    plt.legend()\n",
    "    plt.xlim((-detector_size*0.499, detector_size*0.499))\n",
    "    plt.show()\n"
   ]
  },
  {
   "cell_type": "code",
   "execution_count": null,
   "metadata": {},
   "outputs": [],
   "source": []
  }
 ],
 "metadata": {
  "kernelspec": {
   "display_name": "bep",
   "language": "python",
   "name": "python3"
  },
  "language_info": {
   "codemirror_mode": {
    "name": "ipython",
    "version": 3
   },
   "file_extension": ".py",
   "mimetype": "text/x-python",
   "name": "python",
   "nbconvert_exporter": "python",
   "pygments_lexer": "ipython3",
   "version": "3.12.3"
  }
 },
 "nbformat": 4,
 "nbformat_minor": 2
}

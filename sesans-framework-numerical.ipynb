{
 "cells": [
  {
   "cell_type": "code",
   "execution_count": null,
   "id": "15f85dc6-bad3-4096-825d-34d7deedf45e",
   "metadata": {},
   "outputs": [],
   "source": [
    "import numpy as np\n",
    "import matplotlib.pyplot as plt\n",
    "from scipy import signal\n",
    "import scipy.integrate as integrate"
   ]
  },
  {
   "cell_type": "markdown",
   "id": "9ad9242c-f0cb-4ca9-9f39-8a0e12dc3f15",
   "metadata": {},
   "source": [
    "# $\\rho(z)$ of a grating"
   ]
  },
  {
   "cell_type": "code",
   "execution_count": null,
   "id": "f57420d5-1640-49e6-a50a-f065be8a1c42",
   "metadata": {},
   "outputs": [],
   "source": [
    "def rho_f(z):\n",
    "    spatial_period = 0.01\n",
    "    return (0.5 + 0.5 * signal.square(2 * np.pi * z / spatial_period, duty = 0.35))\n",
    "    \n",
    "N = 10000\n",
    "l = 1\n",
    "z_0 = 0\n",
    "z_1 = l\n",
    "z = np.linspace(z_0,z_1,N)\n",
    "dz = z[1] - z[0]\n",
    "\n",
    "rho = rho_f(z)\n",
    "plt.xlim(z_0,z_1 * 0.1)\n",
    "plt.plot(z,rho)\n",
    "plt.ylabel(r'$\\rho(z)$')\n",
    "plt.xlabel(r'$z$')"
   ]
  },
  {
   "cell_type": "markdown",
   "id": "4f9822a2-93ce-4c3c-901b-60483140f856",
   "metadata": {},
   "source": [
    "# $\\Delta\\rho(z)$ from $\\rho(z)$ and $\\phi$"
   ]
  },
  {
   "cell_type": "code",
   "execution_count": null,
   "id": "5aa2eca8-6759-48de-aec2-9e035b45e7ff",
   "metadata": {},
   "outputs": [],
   "source": [
    "V = l\n",
    "phi = integrate.trapezoid(rho) * dz/V\n",
    "delta_rho = rho - phi\n",
    "plt.xlim(z_0,z_1 * 0.1)\n",
    "plt.plot(z,delta_rho)\n",
    "plt.ylabel(r'$\\Delta\\rho(z)$')\n",
    "plt.xlabel(r'$z$')"
   ]
  },
  {
   "cell_type": "markdown",
   "id": "4a1dc1aa-dc22-46dc-8f9d-f1008e797b5f",
   "metadata": {},
   "source": [
    "# Verification of equation (5)"
   ]
  },
  {
   "cell_type": "code",
   "execution_count": null,
   "id": "a3bd0f83-7e68-4ea9-a50d-5ecc96ae91d8",
   "metadata": {},
   "outputs": [],
   "source": [
    "ms_fluctuation = V * phi * (1 - phi)\n",
    "integrate.trapezoid(delta_rho ** 2*dz) == ms_fluctuation"
   ]
  },
  {
   "cell_type": "markdown",
   "id": "d8d3fa2d-a8cd-4e8b-a99d-969d0a17284a",
   "metadata": {},
   "source": [
    "# $\\gamma(z)$ from $\\Delta \\rho(z)$"
   ]
  },
  {
   "cell_type": "code",
   "execution_count": null,
   "id": "29400dbc-270d-40e3-879f-1315542c6435",
   "metadata": {},
   "outputs": [],
   "source": [
    "def wrapping_correlation(delta_rho):\n",
    "    double_delta_rho = np.concatenate((delta_rho, delta_rho))\n",
    "    return signal.correlate(delta_rho, double_delta_rho * dz, mode='valid')"
   ]
  },
  {
   "cell_type": "code",
   "execution_count": null,
   "id": "a08f9a92-3bb4-4fde-adb3-2b8bfaa9794c",
   "metadata": {},
   "outputs": [],
   "source": [
    "gamma =wrapping_correlation(delta_rho)/ms_fluctuation\n",
    "half_len = len(gamma)//2\n",
    "# Spin echo length!\n",
    "Z = np.linspace(0,half_len * dz,half_len)\n",
    "plt.xlim(z_0,z_1 * 0.1)\n",
    "\n",
    "plt.plot(Z,gamma[half_len:-1])\n",
    "plt.ylabel(r'$\\gamma(z)$')\n",
    "plt.xlabel(r'$z$')"
   ]
  },
  {
   "cell_type": "markdown",
   "id": "4b1b4eb7-2c6a-450a-a799-9e2414172021",
   "metadata": {},
   "source": [
    "# $G(z)$ from $\\gamma(z)$ and $\\xi$\n",
    "The calculation here is left as a stub for more general cases, in fact for this geometry $G(z) = \\gamma(z)$"
   ]
  },
  {
   "cell_type": "code",
   "execution_count": null,
   "id": "24a0405f-84ef-4d15-a722-1e28f595a1a4",
   "metadata": {},
   "outputs": [],
   "source": [
    "# t is the thickness along the x-axis of the grating\n",
    "t = 2\n",
    "# The characteristic length xi\n",
    "c_l = 2 * t\n",
    "G = gamma\n",
    "# G = 0.5 * gamma + 0.5 # TODO: figure out why this is necessary\n",
    "plt.xlim(z_0,0.015)\n",
    "plt.plot(Z,G[half_len+1:])\n",
    "plt.ylabel(r'$G(z)$')\n",
    "plt.xlabel(r'$z$')"
   ]
  },
  {
   "cell_type": "markdown",
   "id": "d985ea97-6580-4252-a004-33fcd58fdcb1",
   "metadata": {},
   "source": [
    "# $P(z)$ from $G(z)$ (single scattering)"
   ]
  },
  {
   "cell_type": "code",
   "execution_count": null,
   "id": "710b8894-44c0-488a-a789-3210d01f2134",
   "metadata": {},
   "outputs": [],
   "source": [
    "# Total scattering cross-section\n",
    "s_t = 0.4\n",
    "P_single = 1 - s_t + s_t * G\n",
    "plt.xlim(z_0,0.015)\n",
    "plt.plot(Z,P_single[half_len+1:])\n",
    "plt.ylabel(r'$G(z)$')\n",
    "plt.xlabel(r'$z$')"
   ]
  },
  {
   "cell_type": "markdown",
   "id": "5b25b404-d5f3-4efa-9d4d-307c8286b282",
   "metadata": {},
   "source": [
    "# $P(z)$ from $G(z)$ (multiple scattering)"
   ]
  },
  {
   "cell_type": "code",
   "execution_count": null,
   "id": "acf0069d-699e-4b7a-be73-db7f55d7c5b1",
   "metadata": {},
   "outputs": [],
   "source": [
    "plt.xlim(z_0,0.015)\n",
    "P_mult = np.exp(-s_t*(1-G[half_len+1:]))\n",
    "plt. plot(Z,P_mult)\n",
    "plt.ylabel(r'$P(Z)$')\n",
    "plt.xlabel(r'$Z$')"
   ]
  },
  {
   "cell_type": "markdown",
   "id": "49a5e3bf-4c68-4df1-adc5-d9abed8125ff",
   "metadata": {},
   "source": [
    "# More realistic $P(Z)$ from spread in $\\lambda$ and $Z$\n",
    "In reality, the $Z$ in $P(Z)$ should be considered in the sense of a mean $Z$, $\\bar{Z}$, given a $\\bar\\lambda$. As\n",
    "$$Z = \\frac{c\\lambda^2\\langle\\cot\\theta_0\\rangle_\\alpha}{2\\pi}$$\n",
    "and $\\lambda$ will in the best case be distributed in a sharp peak of finite width around $\\bar\\lambda$, the $P(\\bar Z)$ that is measured will be more smeared out and smooth. Let's assume that quantities such as $s_t$ do not depend on $\\lambda$ so that different $\\lambda$'s will correspond to different horizontal scalings of the above relative to $\\bar\\lambda$. Then"
   ]
  },
  {
   "cell_type": "markdown",
   "id": "521b4951",
   "metadata": {},
   "source": [
    "# Modelling the distribution of $\\lambda$"
   ]
  },
  {
   "cell_type": "code",
   "execution_count": null,
   "id": "5f480a12-c896-4c94-9f49-f260cb42acf0",
   "metadata": {},
   "outputs": [],
   "source": [
    "import numpy as np\n",
    "import matplotlib.pyplot as plt\n",
    "\n",
    "# Parameters\n",
    "mean_wavelength = 3.0  # Mean wavelength\n",
    "std_dev = 0.1  # Standard deviation\n",
    "\n",
    "# Create wavelength values\n",
    "wavelengths = np.linspace(mean_wavelength - 4*std_dev, mean_wavelength + 4*std_dev, 1000)\n",
    "dlambda = wavelengths[1] - wavelengths[0]\n",
    "\n",
    "# Calculate Gaussian distribution\n",
    "gaussian = (1/(std_dev * np.sqrt(2 * np.pi))) * np.exp(-(wavelengths - mean_wavelength)**2 / (2 * std_dev**2))\n",
    "\n",
    "# Plot Gaussian distribution\n",
    "plt.plot(wavelengths, gaussian)\n",
    "plt.title(r'Gaussian Distribution of $\\lambda$')\n",
    "plt.xlabel(r'$\\lambda$[Å]')\n",
    "plt.ylabel('Probability Density')\n",
    "plt.grid(True)\n",
    "plt.show()"
   ]
  },
  {
   "cell_type": "markdown",
   "id": "ff521335",
   "metadata": {},
   "source": [
    "# Adding two wavelengths "
   ]
  },
  {
   "cell_type": "code",
   "execution_count": null,
   "id": "f33f9983",
   "metadata": {},
   "outputs": [],
   "source": [
    "import numpy as np\n",
    "\n",
    "# Given arrays\n",
    "z = Z\n",
    "P_z = P_mult\n",
    "r = 1.05  # Scaling factor\n",
    "\n",
    "# Scaled z values\n",
    "scaled_z = z * r\n",
    "# Interpolate P_z with scaled z values\n",
    "scaled_P_z = np.interp(scaled_z, z, P_z)\n",
    "\n",
    "plt.xlim(z_0,0.015)\n",
    "plt.plot(z,P_z)\n",
    "plt.plot(z,scaled_P_z)\n",
    "plt.plot(z,0.5 * P_z + 0.5*scaled_P_z)\n",
    "plt.ylabel(r'$P(Z)$')\n",
    "plt.xlabel(r'$Z$')"
   ]
  },
  {
   "cell_type": "markdown",
   "id": "e08f0ac2",
   "metadata": {},
   "source": [
    "# Summing over the distribution of wavelengths"
   ]
  },
  {
   "cell_type": "code",
   "execution_count": null,
   "id": "f81ca742",
   "metadata": {},
   "outputs": [],
   "source": [
    "import numpy as np\n",
    "\n",
    "# Given arrays\n",
    "z = Z\n",
    "P_z = P_mult\n",
    "r = wavelengths / mean_wavelength\n",
    "\n",
    "final_scaled_P_z = np.zeros_like(z, dtype=float)\n",
    "\n",
    "for (density, wavelength) in zip(gaussian, wavelengths):\n",
    "    \n",
    "    r = (wavelength/mean_wavelength)**2\n",
    "    final_scaled_P_z += density*np.interp(z * r, z, P_z) * dlambda\n",
    "\n",
    "\n",
    "plt.xlim(z_0,0.015)\n",
    "plt.plot(z,P_z, label=r'$P(\\bar\\lambda)$')\n",
    "plt.plot(z,final_scaled_P_z, label=r'$\\langle P(\\lambda)\\rangle$')\n",
    "plt.grid()\n",
    "plt.ylabel(r'$P(Z)$')\n",
    "plt.xlabel(r'$Z$')\n",
    "plt.legend()\n"
   ]
  }
 ],
 "metadata": {
  "kernelspec": {
   "display_name": "Python 3 (ipykernel)",
   "language": "python",
   "name": "python3"
  },
  "language_info": {
   "codemirror_mode": {
    "name": "ipython",
    "version": 3
   },
   "file_extension": ".py",
   "mimetype": "text/x-python",
   "name": "python",
   "nbconvert_exporter": "python",
   "pygments_lexer": "ipython3",
   "version": "3.12.3"
  }
 },
 "nbformat": 4,
 "nbformat_minor": 5
}

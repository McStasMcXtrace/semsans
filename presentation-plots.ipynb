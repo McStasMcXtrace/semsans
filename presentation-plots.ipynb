{
 "cells": [
  {
   "cell_type": "code",
   "execution_count": null,
   "metadata": {},
   "outputs": [],
   "source": [
    "import numpy as np\n",
    "import matplotlib.pyplot as plt\n",
    "from scipy.optimize import curve_fit\n",
    "import os\n",
    "import re\n",
    "import os.path\n",
    "from os import path\n",
    "from definitions import *\n",
    "from instrument import *\n",
    "from util import *"
   ]
  },
  {
   "cell_type": "code",
   "execution_count": null,
   "metadata": {},
   "outputs": [],
   "source": [
    "def G(delta, R):\n",
    "    xi = delta/R\n",
    "    return s_t(R, t) * G_0(xi)"
   ]
  },
  {
   "cell_type": "code",
   "execution_count": null,
   "metadata": {},
   "outputs": [],
   "source": [
    "plt.figure(figsize=(8, 6), dpi=300)\n",
    "for R in [50e-9, 100e-9, 150e-9]:\n",
    "    # R = 100e-9 # m\n",
    "    t = 200e-3\n",
    "    delta = np.linspace(0,300e-9,1000)\n",
    "    xi = delta / R\n",
    "    G_xi = G(delta, R)\n",
    "\n",
    "    plt.plot(delta*1e9,G_xi, label=rf'$R = {round(R * 1e9)}$ nm')\n",
    "    # plt.plot(z*1e6,G_xi_2)\n",
    "    plt.xlabel(r'$\\delta$ [nm]')\n",
    "    plt.ylabel(r'$G(\\delta)$')\n",
    "    plt.grid()\n",
    "plt.legend()"
   ]
  },
  {
   "cell_type": "code",
   "execution_count": null,
   "metadata": {},
   "outputs": [],
   "source": [
    "plt.figure(figsize=(8, 6), dpi=300)\n",
    "\n",
    "R = 100e-9\n",
    "t = 200e-3\n",
    "delta = np.linspace(0,300e-9,1000)\n",
    "xi = delta / R\n",
    "G_xi = G(delta, R)\n",
    "\n",
    "plt.plot(delta*1e9,G_xi)\n",
    "# plt.plot(z*1e6,G_xi_2)\n",
    "plt.xlabel(r'$\\delta$ [nm]')\n",
    "plt.ylabel(r'$G(\\delta)$')\n",
    "plt.grid()"
   ]
  },
  {
   "cell_type": "code",
   "execution_count": null,
   "metadata": {},
   "outputs": [],
   "source": [
    "\n",
    "plt.figure(figsize=(8, 6), dpi=300)\n",
    "\n",
    "R = 100e-9\n",
    "t = 200e-3\n",
    "delta = np.linspace(0,300e-9,1000)\n",
    "xi = delta / R\n",
    "G_xi = G(delta, R)\n",
    "delta_measure = np.array([50e-9])\n",
    "G_measure = G(delta_measure, R)\n",
    "plt.plot(delta*1e9,G_xi)\n",
    "plt.plot(delta_measure*1e9,G_measure,'ro')\n",
    "# plt.plot(z*1e6,G_xi_2)\n",
    "plt.xlabel(r'$\\delta$ [nm]')\n",
    "plt.ylabel(r'$G(\\delta)$')\n",
    "plt.grid()"
   ]
  },
  {
   "cell_type": "code",
   "execution_count": null,
   "metadata": {},
   "outputs": [],
   "source": [
    "y = np.linspace(-5e-3, 5e-3, 1000)\n",
    "f = 0.25e3\n",
    "I_source = np.ones_like(y)\n",
    "I_pol = 0.5 * np.ones_like(y)\n",
    "I_s_up = 0.25 + 0.25*np.cos(2 * np.pi * y * f)\n",
    "I_s_down = 0.25 - 0.25*np.cos(2 * np.pi * y * f)\n",
    "plt.figure(figsize=(10, 6), dpi=300)\n",
    "plt.plot(y  * 1e3, I_source, label='Source')\n",
    "plt.plot(y * 1e3, I_pol, label=r'Polarizer ($+x$)')\n",
    "plt.plot(y * 1e3, I_s_up, label=r'Analyzer ($+x$)')\n",
    "# plt.plot(y * 1e3, I_s_down, label=r'Analyzer ($-x$)')\n",
    "plt.xlabel(r'$y$ [mm]')\n",
    "plt.ylabel(r'$I$ [a.u.]')\n",
    "plt.legend(loc=1)\n",
    "plt.xlim(-5,5)\n",
    "plt.grid()"
   ]
  },
  {
   "cell_type": "code",
   "execution_count": null,
   "metadata": {},
   "outputs": [],
   "source": [
    "y = np.linspace(-5e-3, 5e-3, 1000)\n",
    "f = 0.25e3\n",
    "tau = 0.5\n",
    "\n",
    "I_b = 0.5 + 0.5*np.cos(2 * np.pi * y * f)\n",
    "I_s = 0.5 + 0.5*np.exp(-tau)*np.cos(2 * np.pi * y * f)\n",
    "plt.figure(figsize=(10, 6), dpi=300)\n",
    "plt.plot(y  * 1e3, I_b, label='Base')\n",
    "plt.plot(y * 1e3, I_s, label='Sample')\n",
    "plt.xlabel(r'$y$ [mm]')\n",
    "plt.ylabel(r'$I$')\n",
    "plt.legend()\n",
    "plt.grid()"
   ]
  },
  {
   "cell_type": "code",
   "execution_count": null,
   "metadata": {},
   "outputs": [],
   "source": [
    "import numpy as np\n",
    "from scipy.stats import maxwell\n",
    "import matplotlib.pyplot as plt\n",
    "from scipy import stats \n",
    "def comp_pdf_wave(wavelength, T):\n",
    "    a = np.sqrt(k_b * T / m_n)\n",
    "    return maxwell.pdf(h / (m_n * wavelength), scale=a) * h / (m_n * wavelength ** 2)\n",
    "\n",
    "w_0 = 2.165e-10\n",
    "w_1 = 4.321e-10\n",
    "w_2 = 8e-10\n",
    "T = 20\n",
    "k_b = 1.380649e-23 # J/K\n",
    "m_n = 1.67492749804e-27 # kg\n",
    "h = 6.62607015e-34 # J / Hz\n",
    "\n",
    "center_1 = comp_pdf_wave(w_1,T)\n",
    "center_2 = comp_pdf_wave(w_2,T)\n",
    "center_1/center_2\n",
    "\n",
    "wavelength = np.linspace(0.01e-10, 12e-10, 100000) # m\n",
    "d_wavelength = wavelength[1] - wavelength[0]\n",
    "v = h / (m_n * wavelength)\n",
    "# T is in Kelvin\n",
    "\n",
    "a = np.sqrt(k_b * T / m_n)\n",
    "pdf_wave = comp_pdf_wave(wavelength, T)\n",
    "plt.figure(figsize=(10, 6), dpi=300)\n",
    "plt.plot(wavelength * 1e10, pdf_wave * 1e-10,  color='k')\n",
    "# plt.ylim(0,0.0004)\n",
    "plt.xlabel(r'$\\lambda$ [Å]')\n",
    "plt.ylabel(r'$f_\\lambda$ [Å$^{-1}$]')\n",
    "plt.axvspan(2, 4.5, color='#FFA500', alpha=1, lw=0, label='Pyrolytic graphite')\n",
    "plt.axvspan(7, 12, color='b', alpha=0.5, lw=0, label='Velocity selector')\n",
    "plt.legend()\n",
    "plt.xlim((0,12))\n",
    "# for w in [w_0, w_1, w_2]:\n",
    "#     plt.axvline(w * 1e10, linestyle='--')\n",
    "plt.grid()"
   ]
  }
 ],
 "metadata": {
  "kernelspec": {
   "display_name": "bep",
   "language": "python",
   "name": "python3"
  },
  "language_info": {
   "codemirror_mode": {
    "name": "ipython",
    "version": 3
   },
   "file_extension": ".py",
   "mimetype": "text/x-python",
   "name": "python",
   "nbconvert_exporter": "python",
   "pygments_lexer": "ipython3",
   "version": "3.1.-1"
  }
 },
 "nbformat": 4,
 "nbformat_minor": 2
}

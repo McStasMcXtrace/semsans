{
 "cells": [
  {
   "cell_type": "code",
   "execution_count": 3,
   "metadata": {},
   "outputs": [],
   "source": [
    "import numpy as np\n",
    "import matplotlib.pyplot as plt\n",
    "from scipy.optimize import curve_fit"
   ]
  },
  {
   "cell_type": "code",
   "execution_count": 10,
   "metadata": {},
   "outputs": [
    {
     "ename": "FileNotFoundError",
     "evalue": "SEMSANS_Delft/30/det.dat not found.",
     "output_type": "error",
     "traceback": [
      "\u001b[0;31m---------------------------------------------------------------------------\u001b[0m",
      "\u001b[0;31mFileNotFoundError\u001b[0m                         Traceback (most recent call last)",
      "Cell \u001b[0;32mIn[10], line 2\u001b[0m\n\u001b[1;32m      1\u001b[0m i \u001b[38;5;241m=\u001b[39m \u001b[38;5;241m30\u001b[39m\n\u001b[0;32m----> 2\u001b[0m y, I \u001b[38;5;241m=\u001b[39m \u001b[43mnp\u001b[49m\u001b[38;5;241;43m.\u001b[39;49m\u001b[43mgenfromtxt\u001b[49m\u001b[43m(\u001b[49m\u001b[38;5;124;43mf\u001b[39;49m\u001b[38;5;124;43m'\u001b[39;49m\u001b[38;5;124;43mSEMSANS_Delft/\u001b[39;49m\u001b[38;5;132;43;01m{\u001b[39;49;00m\u001b[43mi\u001b[49m\u001b[38;5;132;43;01m}\u001b[39;49;00m\u001b[38;5;124;43m/det.dat\u001b[39;49m\u001b[38;5;124;43m'\u001b[39;49m\u001b[43m,\u001b[49m\u001b[43m \u001b[49m\u001b[43mdelimiter\u001b[49m\u001b[38;5;241;43m=\u001b[39;49m\u001b[38;5;124;43m'\u001b[39;49m\u001b[38;5;124;43m \u001b[39;49m\u001b[38;5;124;43m'\u001b[39;49m\u001b[43m,\u001b[49m\u001b[43m \u001b[49m\u001b[43musecols\u001b[49m\u001b[38;5;241;43m=\u001b[39;49m\u001b[43m(\u001b[49m\u001b[38;5;241;43m0\u001b[39;49m\u001b[43m,\u001b[49m\u001b[38;5;241;43m1\u001b[39;49m\u001b[43m)\u001b[49m\u001b[43m,\u001b[49m\u001b[43m \u001b[49m\u001b[43munpack\u001b[49m\u001b[38;5;241;43m=\u001b[39;49m\u001b[38;5;28;43;01mTrue\u001b[39;49;00m\u001b[43m)\u001b[49m\n\u001b[1;32m      3\u001b[0m _, I_base \u001b[38;5;241m=\u001b[39m np\u001b[38;5;241m.\u001b[39mgenfromtxt(\u001b[38;5;124mf\u001b[39m\u001b[38;5;124m'\u001b[39m\u001b[38;5;124mSEMSANS_Delft_no_sample/\u001b[39m\u001b[38;5;132;01m{\u001b[39;00mi\u001b[38;5;132;01m}\u001b[39;00m\u001b[38;5;124m/det.dat\u001b[39m\u001b[38;5;124m'\u001b[39m, delimiter\u001b[38;5;241m=\u001b[39m\u001b[38;5;124m'\u001b[39m\u001b[38;5;124m \u001b[39m\u001b[38;5;124m'\u001b[39m, usecols\u001b[38;5;241m=\u001b[39m(\u001b[38;5;241m0\u001b[39m,\u001b[38;5;241m1\u001b[39m), unpack\u001b[38;5;241m=\u001b[39m\u001b[38;5;28;01mTrue\u001b[39;00m)\n\u001b[1;32m      4\u001b[0m _, I_flat \u001b[38;5;241m=\u001b[39m np\u001b[38;5;241m.\u001b[39mgenfromtxt(\u001b[38;5;124mf\u001b[39m\u001b[38;5;124m'\u001b[39m\u001b[38;5;124mSEMSANS_Delft_no_sample_no_analyzer/\u001b[39m\u001b[38;5;132;01m{\u001b[39;00mi\u001b[38;5;132;01m}\u001b[39;00m\u001b[38;5;124m/det.dat\u001b[39m\u001b[38;5;124m'\u001b[39m, delimiter\u001b[38;5;241m=\u001b[39m\u001b[38;5;124m'\u001b[39m\u001b[38;5;124m \u001b[39m\u001b[38;5;124m'\u001b[39m, usecols\u001b[38;5;241m=\u001b[39m(\u001b[38;5;241m0\u001b[39m,\u001b[38;5;241m1\u001b[39m), unpack\u001b[38;5;241m=\u001b[39m\u001b[38;5;28;01mTrue\u001b[39;00m)\n",
      "File \u001b[0;32m~/anaconda3/envs/bep/lib/python3.12/site-packages/numpy/lib/npyio.py:1980\u001b[0m, in \u001b[0;36mgenfromtxt\u001b[0;34m(fname, dtype, comments, delimiter, skip_header, skip_footer, converters, missing_values, filling_values, usecols, names, excludelist, deletechars, replace_space, autostrip, case_sensitive, defaultfmt, unpack, usemask, loose, invalid_raise, max_rows, encoding, ndmin, like)\u001b[0m\n\u001b[1;32m   1978\u001b[0m     fname \u001b[38;5;241m=\u001b[39m os_fspath(fname)\n\u001b[1;32m   1979\u001b[0m \u001b[38;5;28;01mif\u001b[39;00m \u001b[38;5;28misinstance\u001b[39m(fname, \u001b[38;5;28mstr\u001b[39m):\n\u001b[0;32m-> 1980\u001b[0m     fid \u001b[38;5;241m=\u001b[39m \u001b[43mnp\u001b[49m\u001b[38;5;241;43m.\u001b[39;49m\u001b[43mlib\u001b[49m\u001b[38;5;241;43m.\u001b[39;49m\u001b[43m_datasource\u001b[49m\u001b[38;5;241;43m.\u001b[39;49m\u001b[43mopen\u001b[49m\u001b[43m(\u001b[49m\u001b[43mfname\u001b[49m\u001b[43m,\u001b[49m\u001b[43m \u001b[49m\u001b[38;5;124;43m'\u001b[39;49m\u001b[38;5;124;43mrt\u001b[39;49m\u001b[38;5;124;43m'\u001b[39;49m\u001b[43m,\u001b[49m\u001b[43m \u001b[49m\u001b[43mencoding\u001b[49m\u001b[38;5;241;43m=\u001b[39;49m\u001b[43mencoding\u001b[49m\u001b[43m)\u001b[49m\n\u001b[1;32m   1981\u001b[0m     fid_ctx \u001b[38;5;241m=\u001b[39m contextlib\u001b[38;5;241m.\u001b[39mclosing(fid)\n\u001b[1;32m   1982\u001b[0m \u001b[38;5;28;01melse\u001b[39;00m:\n",
      "File \u001b[0;32m~/anaconda3/envs/bep/lib/python3.12/site-packages/numpy/lib/_datasource.py:193\u001b[0m, in \u001b[0;36mopen\u001b[0;34m(path, mode, destpath, encoding, newline)\u001b[0m\n\u001b[1;32m    156\u001b[0m \u001b[38;5;250m\u001b[39m\u001b[38;5;124;03m\"\"\"\u001b[39;00m\n\u001b[1;32m    157\u001b[0m \u001b[38;5;124;03mOpen `path` with `mode` and return the file object.\u001b[39;00m\n\u001b[1;32m    158\u001b[0m \n\u001b[0;32m   (...)\u001b[0m\n\u001b[1;32m    189\u001b[0m \n\u001b[1;32m    190\u001b[0m \u001b[38;5;124;03m\"\"\"\u001b[39;00m\n\u001b[1;32m    192\u001b[0m ds \u001b[38;5;241m=\u001b[39m DataSource(destpath)\n\u001b[0;32m--> 193\u001b[0m \u001b[38;5;28;01mreturn\u001b[39;00m \u001b[43mds\u001b[49m\u001b[38;5;241;43m.\u001b[39;49m\u001b[43mopen\u001b[49m\u001b[43m(\u001b[49m\u001b[43mpath\u001b[49m\u001b[43m,\u001b[49m\u001b[43m \u001b[49m\u001b[43mmode\u001b[49m\u001b[43m,\u001b[49m\u001b[43m \u001b[49m\u001b[43mencoding\u001b[49m\u001b[38;5;241;43m=\u001b[39;49m\u001b[43mencoding\u001b[49m\u001b[43m,\u001b[49m\u001b[43m \u001b[49m\u001b[43mnewline\u001b[49m\u001b[38;5;241;43m=\u001b[39;49m\u001b[43mnewline\u001b[49m\u001b[43m)\u001b[49m\n",
      "File \u001b[0;32m~/anaconda3/envs/bep/lib/python3.12/site-packages/numpy/lib/_datasource.py:533\u001b[0m, in \u001b[0;36mDataSource.open\u001b[0;34m(self, path, mode, encoding, newline)\u001b[0m\n\u001b[1;32m    530\u001b[0m     \u001b[38;5;28;01mreturn\u001b[39;00m _file_openers[ext](found, mode\u001b[38;5;241m=\u001b[39mmode,\n\u001b[1;32m    531\u001b[0m                               encoding\u001b[38;5;241m=\u001b[39mencoding, newline\u001b[38;5;241m=\u001b[39mnewline)\n\u001b[1;32m    532\u001b[0m \u001b[38;5;28;01melse\u001b[39;00m:\n\u001b[0;32m--> 533\u001b[0m     \u001b[38;5;28;01mraise\u001b[39;00m \u001b[38;5;167;01mFileNotFoundError\u001b[39;00m(\u001b[38;5;124mf\u001b[39m\u001b[38;5;124m\"\u001b[39m\u001b[38;5;132;01m{\u001b[39;00mpath\u001b[38;5;132;01m}\u001b[39;00m\u001b[38;5;124m not found.\u001b[39m\u001b[38;5;124m\"\u001b[39m)\n",
      "\u001b[0;31mFileNotFoundError\u001b[0m: SEMSANS_Delft/30/det.dat not found."
     ]
    }
   ],
   "source": [
    "i = 30\n",
    "y, I = np.genfromtxt(f'SEMSANS_Delft/{i}/det.dat', delimiter=' ', usecols=(0,1), unpack=True)\n",
    "_, I_base = np.genfromtxt(f'SEMSANS_Delft_no_sample/{i}/det.dat', delimiter=' ', usecols=(0,1), unpack=True)\n",
    "_, I_flat = np.genfromtxt(f'SEMSANS_Delft_no_sample_no_analyzer/{i}/det.dat', delimiter=' ', usecols=(0,1), unpack=True)\n",
    "_, I_unpolarized = np.genfromtxt(f'SEMSANS_Delft_no_sample_unpolarized/{i}/det.dat', delimiter=' ', usecols=(0,1), unpack=True)\n",
    "\n",
    "\n",
    "y*=1e-2\n",
    "\n",
    "plt.plot(y*1e3, I,'-',  label='Sample, analyzer')\n",
    "plt.plot(y*1e3, I_base, label='No sample, analyzer')\n",
    "plt.plot(y*1e3, I_flat, label='No sample, no analyzer')\n",
    "plt.plot(y*1e3, I_unpolarized, label='No sample, unpolarized')\n",
    "\n",
    "plt.xlabel('y [mm]')\n",
    "plt.ylabel('I')\n",
    "plt.title('PSD intensity')\n",
    "plt.grid(True)  # Add grid\n",
    "plt.legend()\n",
    "plt.show()"
   ]
  },
  {
   "cell_type": "code",
   "execution_count": 5,
   "metadata": {},
   "outputs": [
    {
     "data": {
      "text/plain": [
       "0.04634699955537887"
      ]
     },
     "execution_count": 5,
     "metadata": {},
     "output_type": "execute_result"
    }
   ],
   "source": [
    "from definitions import *\n",
    "\n",
    "compute_By(6.65e-6)"
   ]
  },
  {
   "cell_type": "code",
   "execution_count": 6,
   "metadata": {},
   "outputs": [
    {
     "data": {
      "text/plain": [
       "0.020908"
      ]
     },
     "execution_count": 6,
     "metadata": {},
     "output_type": "execute_result"
    }
   ],
   "source": [
    "max_By = compute_By(3e-6)\n",
    "round(max_By, 6)"
   ]
  },
  {
   "cell_type": "code",
   "execution_count": 7,
   "metadata": {},
   "outputs": [],
   "source": [
    "def indices_within_range(x, a, b):\n",
    "    return np.where((x >= a) & (x <= b))[0]\n",
    "\n",
    "# def I_fit(y, a, b, p_inv):\n",
    "#     return (a + b * np.cos(2*np.pi * y * p_inv))\n",
    "\n",
    "# def I_fit_2(y, a, b, p_inv, d):\n",
    "#     return (a + b * np.cos(2*np.pi * y * p_inv) * np.exp(-d * y**2))\n",
    "\n",
    "\n",
    "# def I_mod(y, I_0, A, p_0):\n",
    "#     return I_0 * (1 + A * np.cos(2*np.pi * y / p_0))\n",
    "\n",
    "# def I_mod_2(y, I_0, A, p_0,d):\n",
    "#     return I_0 * (1 + A * np.cos(2*np.pi * y / p_0) * np.exp(-d * y**2))\n",
    "\n",
    "def fit_pattern(y, I, I_unpol, By, plot=False):\n",
    "    p_0_pred = compute_p_0(By)\n",
    "    p_inv = 1/p_0_pred\n",
    "    indices = indices_within_range(y, -0.0005, 0.0005)\n",
    "\n",
    "    # The DC component can be expected to be the mean\n",
    "    mean = np.mean(I[indices])\n",
    "    # The amplitude will be roughly the max minus the mean\n",
    "    amplitude = (np.max(I[indices]) - mean)/mean\n",
    "\n",
    "    # bounds = ([0.7 * mean, 0.7 * amplitude, 0.8*p_inv,0.0], [1.3 * mean, 1.3 * amplitude, 1.2*p_inv,2*np.pi])\n",
    "    guess =  [amplitude, p_inv]\n",
    "    def I_fit(y,A, p_inv):\n",
    "        return I_unpol[indices] * (1 + A * np.cos(2*np.pi * y * p_inv))\n",
    "    popt, pcov = curve_fit(I_fit, y[indices], I[indices],p0=guess)\n",
    "    diag = np.diagonal(pcov)\n",
    "\n",
    "    A_0 = popt[0]\n",
    "    dA_0 = diag[0]\n",
    "    p_0_fit = 1/popt[1]\n",
    "    dp_0_fit = diag[1] / popt[1]**2\n",
    "    if plot:    \n",
    "        I_fitted = I_fit(y[indices],*popt)\n",
    "        I_guess = I_fit(y[indices],*[amplitude, p_inv])\n",
    "        plt.plot(y*1e3, I, '.', label='Simulation data')\n",
    "        plt.plot(y[indices]*1e3, I_fitted, label='Fit')\n",
    "        # plt.plot(y[indices]*1e3, I_guess, label='Guess')\n",
    "        plt.xlabel('y [mm]')\n",
    "        plt.ylabel('I')\n",
    "        plt.grid(True)\n",
    "        plt.legend()\n",
    "        plt.show()\n",
    "    return [A_0,p_0_fit], [dA_0,dp_0_fit]\n",
    "\n",
    "def V_direct(y, I, min_y, max_y):\n",
    "    indices = indices_within_range(y, min_y, max_y)\n",
    "    I_max = np.max(I[indices])\n",
    "    I_min = np.min(I[indices])\n",
    "    print(I_max, I_min)\n",
    "    V = (I_max - I_min) / (I_max + I_min)\n",
    "    print(V)\n",
    "    return V"
   ]
  },
  {
   "cell_type": "code",
   "execution_count": 9,
   "metadata": {},
   "outputs": [
    {
     "name": "stderr",
     "output_type": "stream",
     "text": [
      "/home/tbvanderwoude/repos/bep/definitions.py:19: RuntimeWarning: divide by zero encountered in scalar divide\n",
      "  p_0 = np.pi * np.tan(theta_0) / (c * wavelength * delta_B)\n",
      "/tmp/ipykernel_61250/1742741442.py:31: OptimizeWarning: Covariance of the parameters could not be estimated\n",
      "  popt, pcov = curve_fit(I_fit, y[indices], I[indices],p0=guess)\n",
      "/tmp/ipykernel_61250/1742741442.py:36: RuntimeWarning: divide by zero encountered in scalar divide\n",
      "  p_0_fit = 1/popt[1]\n"
     ]
    },
    {
     "name": "stdout",
     "output_type": "stream",
     "text": [
      "0.0 inf\n",
      "0.00156 0.0019344756899439997\n",
      "0.00312 0.0009672378449719998\n",
      "0.00468 0.0006448252299813332\n",
      "0.00624 0.0004836189224859999\n",
      "0.0078 0.00038689513798879997\n",
      "0.00936 0.0003224126149906666\n",
      "0.01092 0.000276353669992\n",
      "0.01248 0.00024180946124299996\n",
      "0.01404 0.00021494174332711106\n",
      "0.0156 0.00019344756899439998\n",
      "0.01716 0.0001758614263585454\n",
      "0.01872 0.0001612063074953333\n",
      "0.02028 0.00014880582230338457\n",
      "0.02184 0.000138176834996\n",
      "0.0234 0.00012896504599626665\n",
      "0.02496 0.00012090473062149998\n",
      "0.02652 0.0001137926876437647\n",
      "0.02808 0.00010747087166355553\n",
      "0.02964 0.00010181450999705262\n",
      "0.0312 9.672378449719999e-05\n",
      "0.03276 9.21178899973333e-05\n",
      "0.03432 8.79307131792727e-05\n",
      "0.03588 8.410763869321737e-05\n",
      "0.03744 8.060315374766664e-05\n",
      "0.039 7.737902759775998e-05\n",
      "0.04056 7.440291115169229e-05\n",
      "0.04212 7.164724777570368e-05\n",
      "0.04368 6.9088417498e-05\n",
      "0.04524 6.6706058273931e-05\n",
      "0.0468 6.448252299813332e-05\n",
      "Data saved successfully.\n"
     ]
    },
    {
     "data": {
      "image/png": "[encoded data removed]",
      "text/plain": [
       "<Figure size 640x480 with 1 Axes>"
      ]
     },
     "metadata": {},
     "output_type": "display_data"
    }
   ],
   "source": [
    "import re\n",
    "\n",
    "def extract_By(file):\n",
    "    with open(file) as f:\n",
    "        text = f.read()\n",
    "        match = re.search(r'# Param: By=([0-9.]+)', text)\n",
    "        assert(match)\n",
    "        return float(match.group(1))\n",
    "\n",
    "N = 31\n",
    "R = np.zeros((N))\n",
    "dR = np.zeros((N))\n",
    "z = np.zeros((N))\n",
    "for i in range(0,N):\n",
    "    By = extract_By(f\"SEMSANS_Delft/{i}/det.dat\")\n",
    "    print(By, compute_p_0(By))\n",
    "    y, I = np.genfromtxt(f\"SEMSANS_Delft/{i}/det.dat\", delimiter=' ', usecols=(0,1), unpack=True)\n",
    "    _, I_base = np.genfromtxt(f\"SEMSANS_Delft_no_sample/{i}/det.dat\", delimiter=' ', usecols=(0,1), unpack=True)\n",
    "    _, I_unpol = np.genfromtxt(f\"SEMSANS_Delft_no_sample_unpolarized/{i}/det.dat\", delimiter=' ', usecols=(0,1), unpack=True)\n",
    "    y *= 1e-2\n",
    "    params, dparams = fit_pattern(y, I, I_unpol, By, False)\n",
    "    params_base, dparams_base = fit_pattern(y, I_base, I_unpol, By, False)\n",
    "    A_z = params[0]\n",
    "    A_0 = params_base[0]\n",
    "    # V_z = V_direct(y,I, -0.004, 0.004) \n",
    "    # V_0 = V_direct(y,I_base, -0.004, 0.004) \n",
    "    z[i] = compute_z(By)\n",
    "    R[i] = A_z/A_0\n",
    "    dR[i] = 0.0  \n",
    "combined_data = np.hstack((z.reshape(-1, 1), R.reshape(-1, 1)))\n",
    "np.savetxt('simulation-fit.txt', combined_data, delimiter=',')\n",
    "print(\"Data saved successfully.\")\n",
    "plt.plot(z * 1e6,R,'.')\n",
    "plt.xlabel(r'z [$\\mu m$]')\n",
    "plt.ylabel(r'$\\frac{A}{A_0}$')\n",
    "plt.grid(True)"
   ]
  },
  {
   "cell_type": "code",
   "execution_count": null,
   "metadata": {},
   "outputs": [],
   "source": []
  }
 ],
 "metadata": {
  "kernelspec": {
   "display_name": "bep",
   "language": "python",
   "name": "python3"
  },
  "language_info": {
   "codemirror_mode": {
    "name": "ipython",
    "version": 3
   },
   "file_extension": ".py",
   "mimetype": "text/x-python",
   "name": "python",
   "nbconvert_exporter": "python",
   "pygments_lexer": "ipython3",
   "version": "3.12.3"
  }
 },
 "nbformat": 4,
 "nbformat_minor": 2
}

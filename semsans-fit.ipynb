{
 "cells": [
  {
   "cell_type": "code",
   "execution_count": null,
   "metadata": {},
   "outputs": [],
   "source": [
    "import numpy as np\n",
    "import matplotlib.pyplot as plt\n",
    "from scipy.optimize import curve_fit"
   ]
  },
  {
   "cell_type": "markdown",
   "metadata": {},
   "source": [
    "# Estimate of $p_0$ and $Z$\n",
    "$p_0 = \\frac{\\pi\\tan{\\theta_0}}{c\\lambda(B_2-B_1)}$"
   ]
  },
  {
   "cell_type": "code",
   "execution_count": null,
   "metadata": {},
   "outputs": [],
   "source": [
    "c = 4.63e14 # T-1 m-2\n",
    "theta_0 = np.deg2rad(5.5) # rad\n",
    "wavelength = 2.165e-10 # m\n",
    "delta_B = 4.68e-3 # T\n",
    "# Distance between centers of the 2 flippers\n",
    "L = 2 # m\n",
    "\n",
    "p_0 = np.pi * np.tan(theta_0) / (c * wavelength * delta_B)\n",
    "# This is used for numerical stability in the fit\n",
    "p_inv = 1 / p_0\n",
    "p_0, p_inv"
   ]
  },
  {
   "cell_type": "code",
   "execution_count": null,
   "metadata": {},
   "outputs": [],
   "source": [
    "z = c * wavelength ** 2 * delta_B * L / (np.pi * np.tan(theta_0))\n",
    "z"
   ]
  },
  {
   "cell_type": "code",
   "execution_count": null,
   "metadata": {},
   "outputs": [],
   "source": [
    "y_flat, I_flat = np.genfromtxt('PSD_no_mod_no_sample.dat', delimiter=' ', usecols=(0,1), unpack=True)\n",
    "y, I = np.genfromtxt('PSD_mod_no_sample.dat', delimiter=' ', usecols=(0,1), unpack=True)\n",
    "y_sample, I_sample = np.genfromtxt('PSD.dat', delimiter=' ', usecols=(0,1), unpack=True)\n",
    "\n",
    "\n",
    "y_sample*=1e-2\n",
    "y*=1e-2\n",
    "y_flat*=1e-2\n",
    "\n",
    "plt.plot(y_sample, I_sample,'-',  label='Sample')\n",
    "plt.plot(y, I, label='No sample')\n",
    "plt.plot(y_flat, I_flat,  label='No sample, no analyser')\n",
    "\n",
    "plt.xlabel('y [m]')\n",
    "plt.ylabel('I')\n",
    "plt.title('PSD intensity')\n",
    "plt.grid(True)  # Add grid\n",
    "plt.legend()\n",
    "plt.show()"
   ]
  },
  {
   "cell_type": "code",
   "execution_count": null,
   "metadata": {},
   "outputs": [],
   "source": [
    "def indices_within_range(x, a, b):\n",
    "    return np.where((x >= a) & (x <= b))[0]\n",
    "\n",
    "def I_fit(y, a, b, p_inv, phi):\n",
    "    return (a + b * np.cos(2*np.pi * y * p_inv+phi))\n",
    "\n",
    "def I_mod(y, I_0, A, p_0, phi):\n",
    "    return I_0 * (1 + A * np.cos(2*np.pi * y / p_0+phi))\n",
    "\n",
    "def fit_pattern(y, I, plot=False):\n",
    "    indices = indices_within_range(y, -0.005, 0.005)\n",
    "\n",
    "    # The DC component can be expected to be the mean\n",
    "    mean = np.mean(I[indices])\n",
    "    # The amplitude will be roughly the max minus the mean\n",
    "    amplitude = np.max(I[indices]) - mean\n",
    "\n",
    "    # bounds = ([0.7 * mean, 0.7 * amplitude, 0.8*p_inv,0.0], [1.3 * mean, 1.3 * amplitude, 1.2*p_inv,2*np.pi])\n",
    "    guess =  [mean, amplitude, p_inv, 0]\n",
    "    popt, pcov = curve_fit(I_fit, y[indices], I[indices],p0=guess)\n",
    "    I_0 = popt[0]\n",
    "    diag = np.diagonal(pcov)\n",
    "    dI_0 = diag[0]\n",
    "    A_0 = popt[1] / popt[0]\n",
    "    dA_0 = np.sqrt((popt[1]*diag[0]/popt[0]**2)**2+diag[1]**2)\n",
    "    p_0_fit = 1/popt[2]\n",
    "    dp_0_fit = diag[2] / popt[2]**2\n",
    "    phi = popt[3]\n",
    "    dphi = diag[3]\n",
    "    I_0, A_0, p_0_fit\n",
    "    if plot:    \n",
    "        I_fitted = I_mod(y[indices],*[I_0, A_0, p_0_fit,phi])\n",
    "        plt.plot(y*1e3, I, '.', label='Simulation data')\n",
    "        plt.plot(y[indices]*1e3, I_fitted, label='Fit')\n",
    "        plt.xlabel('y [mm]')\n",
    "        plt.ylabel('I')\n",
    "        plt.grid(True)  # Add grid\n",
    "        plt.legend()\n",
    "        plt.show()\n",
    "    return [I_0,A_0,p_0_fit, phi], [dI_0,dA_0,dp_0_fit, dphi]\n",
    "params, dparams = fit_pattern(y,I,True)\n",
    "params_sample, dparams_sample = fit_pattern(y_sample,I_sample,True)"
   ]
  },
  {
   "cell_type": "code",
   "execution_count": null,
   "metadata": {},
   "outputs": [],
   "source": [
    "A_0 = params[1]\n",
    "dA_0 = dparams[1]\n",
    "A_z = params_sample[1]\n",
    "dA_z = dparams_sample[1]\n",
    "R = A_z/A_0 \n",
    "dR = np.sqrt(dA_z**2 + (A_z*dA_0/A_0**2)**2)\n",
    "R, dR"
   ]
  },
  {
   "cell_type": "code",
   "execution_count": null,
   "metadata": {},
   "outputs": [],
   "source": [
    "# Just an assumption for now, need to compute this more properly\n",
    "s_t = 0.38 # for the specified sample, see 2021 sim paper\n",
    "G_z = np.log(R) / s_t + 1\n",
    "G_z"
   ]
  }
 ],
 "metadata": {
  "kernelspec": {
   "display_name": "bep",
   "language": "python",
   "name": "python3"
  },
  "language_info": {
   "codemirror_mode": {
    "name": "ipython",
    "version": 3
   },
   "file_extension": ".py",
   "mimetype": "text/x-python",
   "name": "python",
   "nbconvert_exporter": "python",
   "pygments_lexer": "ipython3",
   "version": "3.12.3"
  }
 },
 "nbformat": 4,
 "nbformat_minor": 2
}

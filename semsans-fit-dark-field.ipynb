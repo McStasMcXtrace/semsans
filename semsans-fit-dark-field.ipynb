{
 "cells": [
  {
   "cell_type": "code",
   "execution_count": null,
   "metadata": {},
   "outputs": [],
   "source": [
    "import numpy as np\n",
    "import matplotlib.pyplot as plt\n",
    "from scipy.optimize import curve_fit"
   ]
  },
  {
   "cell_type": "markdown",
   "metadata": {},
   "source": [
    "$P(y) = \\frac{N_+ - N_-}{N_+ + N_-} = V_{b,s} \\cos (p_0 y)$\n"
   ]
  },
  {
   "cell_type": "code",
   "execution_count": null,
   "metadata": {},
   "outputs": [],
   "source": [
    "def compute_P_dark_field(I_up,I_down):\n",
    "    return  (I_up - I_down) / (I_up + I_down)\n",
    "i = 1\n",
    "y, I_up = np.genfromtxt(f'data/base_up/{i}/det.dat', delimiter=' ', usecols=(0,1), unpack=True)\n",
    "_, I_down = np.genfromtxt(f'data/base_down/{i}/det.dat', delimiter=' ', usecols=(0,1), unpack=True)\n",
    "_, I_empty_up = np.genfromtxt(f'data/base_no_sample_up/{i}/det.dat', delimiter=' ', usecols=(0,1), unpack=True)\n",
    "_, I_empty_down = np.genfromtxt(f'data/base_no_sample_down/{i}/det.dat', delimiter=' ', usecols=(0,1), unpack=True)\n",
    "y*=1e1\n",
    "\n",
    "P_s = compute_P_dark_field(I_up,I_down)\n",
    "P_b = compute_P_dark_field(I_empty_up,I_empty_down)\n",
    "\n",
    "plt.plot(y, P_s,'-',  label='Sample, analyzer')\n",
    "plt.plot(y,P_b, label='No sample, analyzer')\n",
    "plt.xlabel('y [mm]')\n",
    "plt.ylabel('P')\n",
    "plt.title('PSD intensity')\n",
    "plt.grid()\n",
    "plt.legend()\n",
    "plt.show()"
   ]
  }
 ],
 "metadata": {
  "kernelspec": {
   "display_name": "bep",
   "language": "python",
   "name": "python3"
  },
  "language_info": {
   "codemirror_mode": {
    "name": "ipython",
    "version": 3
   },
   "file_extension": ".py",
   "mimetype": "text/x-python",
   "name": "python",
   "nbconvert_exporter": "python",
   "pygments_lexer": "ipython3",
   "version": "3.12.3"
  }
 },
 "nbformat": 4,
 "nbformat_minor": 2
}

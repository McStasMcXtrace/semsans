{
 "cells": [
  {
   "cell_type": "code",
   "execution_count": null,
   "metadata": {},
   "outputs": [],
   "source": [
    "import numpy as np\n",
    "import matplotlib.pyplot as plt\n",
    "from scipy.optimize import curve_fit\n",
    "import os\n",
    "import re\n",
    "import os.path\n",
    "from os import path"
   ]
  },
  {
   "cell_type": "code",
   "execution_count": null,
   "metadata": {},
   "outputs": [],
   "source": [
    "# class MeasurementPair:\n",
    "#     def __init__(self, y, up, down):\n",
    "#         self.y = y\n",
    "#         self.up = up\n",
    "#         self.down = down\n",
    "\n",
    "# class FullMeasurement:\n",
    "#     def __init__(self, y, )\n",
    "\n",
    "def extract_By(file):\n",
    "    with open(file) as f:\n",
    "        text = f.read()\n",
    "        match = re.search(r'# Param: By=([0-9.]+)', text)\n",
    "        assert(match)\n",
    "        return float(match.group(1))\n",
    "    \n",
    "import os\n",
    "dirs = next(os.walk('data'))[1]\n",
    "print(dirs)\n",
    "\n",
    "def get_data(i):\n",
    "    y, I_up = np.genfromtxt(f'data/up/{i}/det.dat', delimiter=' ', usecols=(0,1), unpack=True)\n",
    "    _, I_down = np.genfromtxt(f'data/down/{i}/det.dat', delimiter=' ', usecols=(0,1), unpack=True)\n",
    "    _, I_empty_up = np.genfromtxt(f'data/empty_up/{i}/det.dat', delimiter=' ', usecols=(0,1), unpack=True)\n",
    "    _, I_empty_down = np.genfromtxt(f'data/empty_down/{i}/det.dat', delimiter=' ', usecols=(0,1), unpack=True)\n",
    "    By = extract_By(f'data/up/{i}/det.dat')\n",
    "    return y, I_up, I_down, I_empty_up, I_empty_down, By"
   ]
  },
  {
   "cell_type": "code",
   "execution_count": null,
   "metadata": {},
   "outputs": [],
   "source": [
    "i = 1\n",
    "\n",
    "y, I_up, I_down, I_empty_up, I_empty_down, By = get_data(i)\n",
    "print(f\"Measurement {i}; By = {By}\")\n",
    "y*=1e1  \n",
    "\n",
    "plt.plot(y, I_empty_up,'-',  label='Up, empty')\n",
    "plt.plot(y, I_empty_down, label='Down, empty')\n",
    "plt.xlabel('y [mm]')\n",
    "plt.ylabel('I')\n",
    "plt.title('PSD intensity')\n",
    "plt.grid()\n",
    "plt.legend()\n",
    "plt.show()"
   ]
  },
  {
   "cell_type": "code",
   "execution_count": null,
   "metadata": {},
   "outputs": [],
   "source": [
    "plt.plot(y, I_up,'-',  label='Up')\n",
    "plt.plot(y, I_down, label='Down')\n",
    "plt.xlabel('y [mm]')\n",
    "plt.ylabel('I')\n",
    "plt.title('PSD intensity')\n",
    "plt.grid()\n",
    "plt.legend()\n",
    "plt.show()"
   ]
  },
  {
   "cell_type": "code",
   "execution_count": null,
   "metadata": {},
   "outputs": [],
   "source": [
    "def compute_P_dark_field(I_up,I_down):\n",
    "    return  (I_up - I_down) / (I_up + I_down)\n",
    "\n",
    "P_s = compute_P_dark_field(I_up,I_down)\n",
    "P_b = compute_P_dark_field(I_empty_up,I_empty_down)\n",
    "\n",
    "plt.plot(y, P_s,'-',  label='Sample, analyzer')\n",
    "plt.plot(y,P_b, label='No sample, analyzer')\n",
    "plt.xlabel('y [mm]')\n",
    "\n",
    "plt.ylabel('P')\n",
    "plt.title('PSD intensity')\n",
    "plt.grid()\n",
    "plt.legend()\n",
    "plt.show()"
   ]
  }
 ],
 "metadata": {
  "kernelspec": {
   "display_name": "bep",
   "language": "python",
   "name": "python3"
  },
  "language_info": {
   "codemirror_mode": {
    "name": "ipython",
    "version": 3
   },
   "file_extension": ".py",
   "mimetype": "text/x-python",
   "name": "python",
   "nbconvert_exporter": "python",
   "pygments_lexer": "ipython3",
   "version": "3.12.3"
  }
 },
 "nbformat": 4,
 "nbformat_minor": 2
}

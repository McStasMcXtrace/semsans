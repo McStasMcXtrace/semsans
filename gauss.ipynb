{
 "cells": [
  {
   "cell_type": "markdown",
   "metadata": {},
   "source": [
    "# X. RAW MATERIAL, NOT FOR DISTRIBUTION\n",
    "Gaussian wavelength distribution in imperfectly aligned triangle setup: Additional phase shift $\\psi$ proportional to $\\lambda$, link with Gaussian wavepacket analysis (https://inst.eecs.berkeley.edu/~cs191/fa08/lectures/wave-packet/cohen-tanouji and others)? Width should probably spread, need to verify this however.\n",
    "\n",
    "Effect of depolarisation due to foils: not sure, shape definitely not a gaussian anymore, probably a term related to $1 - \\frac{\\lambda^2}{\\lambda_0^2}$ or something similar in it. Probably still analytically possible, not fun! Related to moments of Gaussian integrals! (https://bohr.physics.berkeley.edu/classes/221/s16/notes/gaussint.pdf)\n",
    "\n",
    "\n",
    "LINEARIZE EFFECT OF SAMPLE TO INTEGRATE OVER N MOMENTS OF THE GAUSSIAN!!! Becomes sum of n'th derivatives of Gaussian?"
   ]
  },
  {
   "cell_type": "markdown",
   "metadata": {},
   "source": []
  }
 ],
 "metadata": {
  "language_info": {
   "name": "python"
  }
 },
 "nbformat": 4,
 "nbformat_minor": 2
}

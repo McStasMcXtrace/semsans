{
 "cells": [
  {
   "cell_type": "code",
   "execution_count": 13,
   "metadata": {},
   "outputs": [],
   "source": [
    "import numpy as np\n",
    "import matplotlib.pyplot as plt"
   ]
  },
  {
   "cell_type": "markdown",
   "metadata": {},
   "source": [
    "# Foil $\\theta_0$ for different $\\lambda$"
   ]
  },
  {
   "cell_type": "code",
   "execution_count": 14,
   "metadata": {},
   "outputs": [
    {
     "name": "stdout",
     "output_type": "stream",
     "text": [
      "0.09586845470917855 5.492857843277013\n",
      "0.1330317697275045 7.622158946542237\n",
      "0.1922270769706769 11.013800218556208\n",
      "0.3615302170188859 20.71415560163089\n",
      "0.45797471039981474 26.240018029635515\n"
     ]
    }
   ],
   "source": [
    "from definitions import c\n",
    "\n",
    "def tune_foil(lambda_0, B_s, d, c, n = 0):\n",
    "    return np.arcsin(c * d * B_s * lambda_0 / ((2 * n + 1) * np.pi))\n",
    "\n",
    "B_s = 1\n",
    "d = 3e-6\n",
    "# theta_0 = 0.0960\n",
    "for lambda_0 in [2.165e-10, 3e-10, 4.321e-10, 8e-10, 10e-10]:\n",
    "    theta_0 = tune_foil(lambda_0, B_s, d, c, n = 0)\n",
    "    theta_0_deg = np.rad2deg(theta_0)\n",
    "    phi_foil = c * d * B_s * lambda_0 / np.sin(theta_0)\n",
    "    np.testing.assert_equal(phi_foil, np.pi)\n",
    "    print(theta_0, theta_0_deg, )"
   ]
  },
  {
   "cell_type": "markdown",
   "metadata": {},
   "source": [
    "# Small-angle error correction factor\n"
   ]
  },
  {
   "cell_type": "markdown",
   "metadata": {},
   "source": [
    "$\\delta = f_0 L_s \\lambda_0$\n",
    "In small-angle approximation\n",
    "$$\\phi_t = \\delta Q$$\n",
    "With error, an additional factor is incurred\n",
    "$$\\phi_t = \\delta \\sqrt{1 + \\frac{y^2}{L_s^2}}Q \\approx \\delta \\frac{1}{1 - \\frac{y^2}{2L_s^2}}Q = f_0 L_s \\lambda_0 \\frac{1}{1 - \\frac{y^2}{2L_s^2}}Q$$\n",
    "This means that the direct correspondence between the modulation phase $\\phi_t$ and scattering at characteristic length $\\delta$ breaks down. In practice this correction can be used to bound $y$ for which the approximation is valid."
   ]
  },
  {
   "cell_type": "code",
   "execution_count": null,
   "metadata": {},
   "outputs": [],
   "source": [
    "h_e = 10e-3\n",
    "L_s = 1.8\n"
   ]
  },
  {
   "cell_type": "code",
   "execution_count": null,
   "metadata": {},
   "outputs": [],
   "source": [
    "h_d = 10e-3\n",
    "L_s = 0.3333\n",
    "epsilon = 3 * h_d **2 / (32 * L_s ** 2)\n",
    "print(epsilon)"
   ]
  },
  {
   "cell_type": "code",
   "execution_count": null,
   "metadata": {},
   "outputs": [],
   "source": [
    "theta_a_max = 15e-3\n",
    "h_d = 10e-3\n",
    "L_s_min = h_d / (2 * np.tan(theta_a_max))\n",
    "L_s_min"
   ]
  },
  {
   "cell_type": "code",
   "execution_count": null,
   "metadata": {},
   "outputs": [],
   "source": [
    "from definitions import *\n",
    "import numpy as np\n",
    "import matplotlib.pyplot as plt\n",
    "\n",
    "h_d = detector_size\n",
    "y = np.linspace(-h_d/2, h_d/2, 100000)\n",
    "L_s = 1.5\n",
    "f_0 = 1e5\n",
    "f = np.sqrt(1 + y ** 2 / (L_s ** 2))\n",
    "I_base = np.cos(2 * np.pi * f_0 * y)\n",
    "I_corrected = np.cos(2 * np.pi * f_0 * y * f)\n",
    "# plt.plot(y, f)\n",
    "plt.plot(y, I_base, '.')\n",
    "plt.plot(y, I_corrected, '.')\n",
    "plt.xlim((-detector_size/2, -detector_size/2 +1e-5))"
   ]
  },
  {
   "cell_type": "code",
   "execution_count": null,
   "metadata": {},
   "outputs": [],
   "source": [
    "from scipy.signal import hilbert\n",
    "\n",
    "f_s = 1/detector_pixel_size\n",
    "f_super_sampled = f_s / 2\n",
    "\n",
    "for f_0 in [1e2, 1e3, 1e4, f_super_sampled]:\n",
    "    for L_s in [0.366, 0.5, 0.75, 1.0, 1.25, 1.5, 2.0]:\n",
    "        # L_s = 1.5\n",
    "        # f_0 = 1e5\n",
    "        f = np.sqrt(1 + y ** 2 / (L_s ** 2))\n",
    "        I_base = np.cos(2 * np.pi * f_0 * y)\n",
    "        I_corrected = np.cos(2 * np.pi * f_0 * y * f)\n",
    "        I_error = I_corrected - I_base\n",
    "        # plt.plot(y, I_error)\n",
    "        analytic_signal = hilbert(I_error)\n",
    "        envelope = np.abs(analytic_signal)\n",
    "        plt.plot(y,envelope, label=rf'$L_s = {L_s}$m')\n",
    "    plt.grid()\n",
    "    plt.title(rf\"$f_0 = {f_0}$\")\n",
    "    plt.legend()\n",
    "    plt.xlim((-detector_size*0.499, detector_size*0.499))\n",
    "    plt.show()\n",
    "\n",
    "for f_0 in [1e2, 1e3, 1e4, f_super_sampled]:\n",
    "    for L_s in [0.366, 0.5, 0.75, 1.0, 1.25, 1.5, 2.0]:\n",
    "        # L_s = 1.5\n",
    "        # f_0 = 1e5\n",
    "        f = np.sqrt(1 + y ** 2 / (L_s ** 2))\n",
    "        phi_base = 2 * np.pi * f_0 * y\n",
    "        phi_corrected = 2 * np.pi * f_0 * y * f\n",
    "        phi_error = phi_corrected - phi_base\n",
    "        plt.plot(y, phi_error, label=rf'$L_s = {L_s}$m')\n",
    "        # analytic_signal = hilbert(I_error)\n",
    "        # envelope = np.abs(analytic_signal)\n",
    "        # plt.plot(y,envelope, label=rf'$L_s = {L_s}$m')\n",
    "    plt.grid()\n",
    "    plt.title(rf\"$f_0 = {f_0}$\")\n",
    "    plt.legend()\n",
    "    plt.xlim((-detector_size*0.499, detector_size*0.499))\n",
    "    plt.show()\n"
   ]
  },
  {
   "cell_type": "code",
   "execution_count": null,
   "metadata": {},
   "outputs": [],
   "source": [
    "theta_a_max = 15e-3\n",
    "h_d = 40e-3\n",
    "L_s_min = h_d / (2 * np.tan(theta_a_max))\n",
    "L_s_min"
   ]
  },
  {
   "cell_type": "code",
   "execution_count": null,
   "metadata": {},
   "outputs": [],
   "source": []
  },
  {
   "cell_type": "code",
   "execution_count": null,
   "metadata": {},
   "outputs": [],
   "source": []
  }
 ],
 "metadata": {
  "kernelspec": {
   "display_name": "bep",
   "language": "python",
   "name": "python3"
  },
  "language_info": {
   "codemirror_mode": {
    "name": "ipython",
    "version": 3
   },
   "file_extension": ".py",
   "mimetype": "text/x-python",
   "name": "python",
   "nbconvert_exporter": "python",
   "pygments_lexer": "ipython3",
   "version": "3.12.3"
  }
 },
 "nbformat": 4,
 "nbformat_minor": 2
}

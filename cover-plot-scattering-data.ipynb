{
 "cells": [
  {
   "cell_type": "code",
   "execution_count": null,
   "metadata": {},
   "outputs": [],
   "source": [
    "import numpy as np\n",
    "import matplotlib.pyplot as plt\n",
    "from definitions import *\n",
    "R = 3000\n",
    "path = f'scattering_data/{R}/0/det.dat'\n",
    "params = extract_parameters(path)\n",
    "y, _,_,_ = np.genfromtxt(path, delimiter=' ', usecols=(0,1,2,3), unpack=True)\n",
    "\n",
    "N_lambda = 100\n",
    "N_y = len(y)\n",
    "I = np.zeros((N_lambda, N_y))\n",
    "lambdas = np.zeros((N_lambda))\n",
    "# lambdas\n",
    "print(f\"Visualizing with {N_y} y points and {N_lambda} lambda points\")\n",
    "for i in range(N_lambda):\n",
    "    path = f'scattering_data/{R}/{i}/det.dat'\n",
    "    params = extract_parameters(path)\n",
    "    y, _,_,I[i,:] = np.genfromtxt(path, delimiter=' ', usecols=(0,1,2,3), unpack=True)\n",
    "    lambdas[i] = float(params['L0'])\n",
    "print(I.shape)\n",
    "LAMBDA, Y = np.meshgrid(lambdas, y, indexing='ij')\n",
    "\n",
    "fig = plt.figure()\n",
    "ax = fig.add_subplot(111, projection='3d')\n",
    "surf = ax.plot_surface(LAMBDA, Y, I, cmap='viridis', edgecolor='none')\n",
    "cbar = fig.colorbar(surf, ax=ax, shrink=0.5, aspect=10, pad=0.1)\n",
    "cbar.set_label(r'$I$ [a.u.]', fontsize=12)\n",
    "ax.set_xlabel(r'$\\lambda$ [mm]')\n",
    "ax.set_ylabel(r'$y$ [mm]')"
   ]
  }
 ],
 "metadata": {
  "language_info": {
   "name": "python"
  }
 },
 "nbformat": 4,
 "nbformat_minor": 2
}

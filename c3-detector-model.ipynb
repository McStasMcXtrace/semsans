{
 "cells": [
  {
   "cell_type": "code",
   "execution_count": null,
   "metadata": {},
   "outputs": [],
   "source": [
    "from definitions import *"
   ]
  },
  {
   "cell_type": "markdown",
   "metadata": {},
   "source": [
    "Current simulation has $p_{sample} = 10$ um (pixel size) which should correspond to what is roughly possible at a real PSD, meaning that for preferred sampling (10 samples per period) the max $By$ is 30 mT and for sampling at the Nyquist limit is 150 mT. "
   ]
  },
  {
   "cell_type": "code",
   "execution_count": null,
   "metadata": {},
   "outputs": [],
   "source": [
    "p_0 = 10e-6\n",
    "f_s = 1/p_0\n",
    "f_n = f_s / 2\n",
    "f_s, f_n"
   ]
  },
  {
   "cell_type": "code",
   "execution_count": null,
   "metadata": {},
   "outputs": [],
   "source": [
    "By = 0.15\n",
    "\n",
    "# period of modulation\n",
    "p_0 = compute_p_0(By)* 1e6\n",
    "p_0 "
   ]
  },
  {
   "cell_type": "code",
   "execution_count": null,
   "metadata": {},
   "outputs": [],
   "source": [
    "p_sample_nyquist = p_0 / 2\n",
    "p_sample_nyquist"
   ]
  },
  {
   "cell_type": "code",
   "execution_count": null,
   "metadata": {},
   "outputs": [],
   "source": [
    "# 5 times smaller than Nyquist (from Combined SANS-SESANS paper)\n",
    "# In other words, 10 samples per period!\n",
    "p_sample_preferred = p_0 / 10\n",
    "p_sample_preferred"
   ]
  },
  {
   "cell_type": "markdown",
   "metadata": {},
   "source": [
    "# Modelling the envelope and power"
   ]
  },
  {
   "cell_type": "code",
   "execution_count": null,
   "metadata": {},
   "outputs": [],
   "source": [
    "from definitions import *\n",
    "import matplotlib.pyplot as plt\n",
    "\n",
    "# B1 = np.linspace(0.05e-3, 10e3, 1000)\n",
    "# B2 = -2 * B1\n",
    "FWHM_factor = 2 * np.sqrt(2 * np.log(2))\n",
    "wl_sigma = 0.2 / FWHM_factor\n",
    "def I_envelope(y, lambda_0):\n",
    "    delta_B = 5e-3\n",
    "    alpha = c * lambda_0 * delta_B / (np.pi * np.tan(0.095868454))\n",
    "    E_y = np.exp(-0.5 * (alpha * wl_sigma * y) ** 2)\n",
    "    return E_y\n",
    "y = np.linspace(-0.005, 0.005, 1000)\n",
    "for lambda_0 in [2e-10, 4.321e-10, 8e-10]:\n",
    "    E_y = I_envelope(y, lambda_0)\n",
    "    plt.plot(y, E_y)\n",
    "plt.ylim((0,1))"
   ]
  },
  {
   "cell_type": "code",
   "execution_count": null,
   "metadata": {},
   "outputs": [],
   "source": []
  }
 ],
 "metadata": {
  "kernelspec": {
   "display_name": "bep",
   "language": "python",
   "name": "python3"
  },
  "language_info": {
   "codemirror_mode": {
    "name": "ipython",
    "version": 3
   },
   "file_extension": ".py",
   "mimetype": "text/x-python",
   "name": "python",
   "nbconvert_exporter": "python",
   "pygments_lexer": "ipython3",
   "version": "3.12.3"
  }
 },
 "nbformat": 4,
 "nbformat_minor": 2
}

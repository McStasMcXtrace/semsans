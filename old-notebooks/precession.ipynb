{
 "cells": [
  {
   "cell_type": "code",
   "execution_count": null,
   "metadata": {},
   "outputs": [],
   "source": [
    "import numpy as np\n",
    "import matplotlib.pyplot as plt"
   ]
  },
  {
   "cell_type": "code",
   "execution_count": null,
   "metadata": {},
   "outputs": [],
   "source": [
    "from definitions import c, wavelength\n",
    "\n",
    "def compute_p_0(B_1, B_2, theta_0):\n",
    "    delta_B = B_2 - B_1\n",
    "    p_0 = np.pi * np.tan(theta_0) / (c * wavelength * delta_B)\n",
    "    return p_0"
   ]
  },
  {
   "cell_type": "markdown",
   "metadata": {},
   "source": [
    "## Foils"
   ]
  },
  {
   "cell_type": "code",
   "execution_count": null,
   "metadata": {},
   "outputs": [],
   "source": [
    "# L_1 = 1.0\n",
    "# L_2 = 2.0\n",
    "B_1 = 0.00156\n",
    "B_2 = 2 * B_1\n",
    "theta_0 = np.deg2rad(5.5) # rad\n",
    "compute_p_0(B_1,B_2,theta_0)"
   ]
  },
  {
   "cell_type": "markdown",
   "metadata": {},
   "source": [
    "## WSP"
   ]
  },
  {
   "cell_type": "code",
   "execution_count": null,
   "metadata": {},
   "outputs": [],
   "source": [
    "# L_1 = 1.0\n",
    "# L_2 = 2.0\n",
    "B_1 = 0.016\n",
    "B_2 = 2 * B_1\n",
    "theta_0 = np.deg2rad(45)\n",
    "print(theta_0)\n",
    "compute_p_0(B_1,B_2,theta_0)"
   ]
  },
  {
   "cell_type": "code",
   "execution_count": null,
   "metadata": {},
   "outputs": [],
   "source": [
    "z = 0.15\n",
    "h = z * np.tan(np.deg2rad(20))\n",
    "h"
   ]
  },
  {
   "cell_type": "markdown",
   "metadata": {},
   "source": [
    "## Triangle"
   ]
  },
  {
   "cell_type": "code",
   "execution_count": null,
   "metadata": {},
   "outputs": [],
   "source": [
    "np.rad2deg(np.arctan(7.042824e-2/1.935e-1))"
   ]
  },
  {
   "cell_type": "code",
   "execution_count": null,
   "metadata": {},
   "outputs": [],
   "source": [
    "z = 0.15\n",
    "h = z * np.tan(np.deg2rad(20))\n",
    "h"
   ]
  },
  {
   "cell_type": "code",
   "execution_count": null,
   "metadata": {},
   "outputs": [],
   "source": [
    "# L_1 = 1.0\n",
    "# L_2 = 2.0\n",
    "\n",
    "B_1 = 0.01\n",
    "B_2 = 2 * B_1\n",
    "theta_0 = np.deg2rad\n",
    "theta_0 = np.deg2rad(20) # rad\n",
    "compute_p_0(B_1,B_2,theta_0)"
   ]
  },
  {
   "cell_type": "code",
   "execution_count": null,
   "metadata": {},
   "outputs": [],
   "source": [
    "np.arctan(0.1/0.1) / np.pi"
   ]
  },
  {
   "cell_type": "code",
   "execution_count": null,
   "metadata": {},
   "outputs": [],
   "source": [
    "x = np.tan(theta_0) * 0.3\n",
    "z = 0.3\n",
    "x, z"
   ]
  }
 ],
 "metadata": {
  "kernelspec": {
   "display_name": "bep",
   "language": "python",
   "name": "python3"
  },
  "language_info": {
   "codemirror_mode": {
    "name": "ipython",
    "version": 3
   },
   "file_extension": ".py",
   "mimetype": "text/x-python",
   "name": "python",
   "nbconvert_exporter": "python",
   "pygments_lexer": "ipython3",
   "version": "3.12.3"
  }
 },
 "nbformat": 4,
 "nbformat_minor": 2
}

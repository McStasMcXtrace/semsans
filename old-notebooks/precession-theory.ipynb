{
 "cells": [
  {
   "cell_type": "markdown",
   "metadata": {},
   "source": [
    "# Precession devices in SEMSANS\n",
    "\n",
    "# 1. Precession fundamentals\n",
    "\n",
    "A neutron with a spin $S$ in the $xz$ plane passing through a uniform $B$-field in the $y$ direction will have its spin orientation rotated by a certain precession $\\phi$ in the $xz$ plane. $\\phi$ depends on the time travelled through the field, which can be derived from the length of field $L$ passed through and velocity $v$ (which is related to wavelength $\\lambda$)."
   ]
  },
  {
   "cell_type": "markdown",
   "metadata": {},
   "source": [
    "## 1.1 Larmor precession \n",
    "A neutron with spin $S$ will precess about the external field axis (in this case $y$-axis) with angular frequency\n",
    "$$\\omega = -\\gamma B$$\n",
    "called the **Larmor frequency**, with $\\gamma$ being the gyromagnetic ratio of the neutron.\n",
    "\n",
    "### Derivation of Larmor precession formula\n",
    "This follows from the expression of the torque acting on the neutron spin\n",
    "$$\\dfrac{dS}{dt} = \\tau = \\mu \\times B$$\n",
    "\n",
    "$\\dfrac{dS}{dt}$ is the linear velocity of the 'peak' of $S$ along a radius $S \\sin\\phi$ with angle $\\theta$ between $S$ and $B$ and $\\mu  = \\gamma S$ is the magnetic moment. Simplifying using $\\phi = \\pi/2$ gives radius $S$ and $|\\mu\\times B| = \\mu B$\n",
    "\n",
    "From this it follows that $\\omega = \\frac{1}{S}|\\dfrac{dS}{dt}| = \\frac{\\mu}{S}B = \\gamma B$ in absolute value. What about the sign? It can be seen that the rotation is clock-wise around the B-field axis, meaning that with $\\omega > 0$ signifying counter-clockwise angular frequency the final expression should be\n",
    "$$\\omega = -\\gamma B$$\n",
    "\n",
    "## 1.2 Application to derive $\\phi$\n",
    "A neutron with wavelength $\\lambda$ will move at a speed given by $v = \\frac{h}{m_n\\lambda}$. It will pass through a field of length $L$ in time $t = \\frac{L}{v} = \\frac{Lm_n\\lambda}{h}$. From this it follows that the total incurred phase shift will be $\\phi' = \\omega t = -\\frac{\\gamma B Lm_n\\lambda}{h} = -c\\lambda B L$, with $c$ being the Larmor constant derived via $c = \\gamma m_n/h$, $m_n$ being the neutron mass. Often the minus sign is ignored, yielding final expression\n",
    "$$\\phi = c\\lambda B L$$\n",
    "This expression is key to understanding precession devices."
   ]
  },
  {
   "cell_type": "markdown",
   "metadata": {},
   "source": [
    "# 2. Precession devices, modulation and focussing\n",
    "Given an incoming neutron with spin direction fully in the $xz$ plane so that $S = (S_x, 0, S_z)$. Assuming it travels parallel to the optical axis and it enters a wollaston prism with a plane having an angle $\\theta_0$ with $xz$ and $z$-dimension $d_z$. This means that the neutron will travel length $L_+ = d_z/2 + \\frac{y}{\\tan\\theta_0}$ through the positive field and length $L_- = d_z/2 - \\frac{y}{\\tan\\theta_0}$ through the negative field. So the precessions in these fields will be \n",
    "$$\\phi_+ = c\\lambda B (d_z/2 + \\frac{y}{\\tan\\theta_0})$$\n",
    "$$\\phi_- = c\\lambda (-B) (d_z/2 - \\frac{y}{\\tan\\theta_0})$$\n",
    "This can be derived by considering $y$ as the opposite side of a triangle with hypotenuse $d$ and adjacent side $\\Delta z$. Using $y = d\\sin\\theta_0, \\Delta z = d\\cos\\theta_0$, $\\Delta z = \\frac{y}{\\tan\\theta_0}$.\n",
    "So the total precession inside a prism with field strength $B$ is\n",
    "$$\\phi = \\phi_+ + \\phi_- = \\frac{2c\\lambda B y}{\\tan{\\theta_0}}$$\n",
    "\n",
    "**Note: the analysis of foils is effectively the same, the foil causing the uniform field inside the magnet to act inversely on the precessing neutron spin after the foil. However, a TODO is adding a derivation of the exact $\\pi$-flip mechanism of the foil that makes this work!**"
   ]
  },
  {
   "cell_type": "markdown",
   "metadata": {},
   "source": [
    "## 2.1 From precession to modulation with Wollaston prisms\n",
    "Putting to Wollaston prisms as above together with fields $B_1, B_2$ gives total precession\n",
    "$$\\phi_t = \\frac{2c\\lambda (B_1 + B_2) y}{\\tan{\\theta_0}} = ky$$\n",
    "\n",
    "Applying an analyzer in the $xz$ plane then gives sinusoidal modulation with y-period $p_0$ given by\n",
    "$$p_0 = \\frac{2\\pi}{k} = \\frac{\\pi \\tan\\theta_0}{c\\lambda(B_1 + B_2)}$$\n",
    "In the idealized monochromatic case with perfect polarization (empty instrument), this will give an intensity pattern on the detector of the form\n",
    "$$I(y) = I_0(1 + \\cos(ky)) = 2I_0\\cos^2(ky/2)$$"
   ]
  },
  {
   "cell_type": "markdown",
   "metadata": {},
   "source": [
    "## 2.2 Focussing condition for two precession devices\n",
    "The above analysis works well for paths parallel to the optical axis. When particles travel at an angle $\\theta$ through the prisms, their acquired precession will be slightly higher. Given height $y$ on the detector, assuming an angle of $\\theta$ with horizontal, the (mean) height in prism $i$ with field strength $B_i$ at distance $L_i$ from the detector will be \n",
    "$$y_i = y + x_i\\tan\\theta \\approx y + x_i\\theta$$\n",
    "\n",
    "This means that the total precession now will be \n",
    "$$\\phi_t = \\sum_i\\frac{2c\\lambda B_i y_i}{\\tan{\\theta_0}} = \\frac{2c\\lambda B_1 (y + L_1\\theta)}{\\tan{\\theta_0}} + \\frac{2c\\lambda B_1 (y + L_2\\theta)}{\\tan{\\theta_0}}$$\n",
    "\n",
    "To get rid of the $\\theta$ dependence and achieve constructive interference for all $\\theta$'s at a certain detector $y$, the focussing condition must hold (assuming the same $\\theta_0$ in the prisms)\n",
    "$$B_1L_1 = -B_2L_2$$"
   ]
  },
  {
   "cell_type": "markdown",
   "metadata": {},
   "source": [
    "## 2.3 Focussing with more precession devices\n",
    "In principle it is possible to add more precession devices, 2 is just the minimum in which the $\\theta$ dependency can be solved by tuning distances $L_i$ and field strengths $B_i$. The general focussing condition is with equal $\\theta_0$ everywhere\n",
    "$$\\sum_i B_iL_i = 0$$\n",
    "With variable $\\theta_{0,i}$ this becomes\n",
    "$$\\sum_i \\frac{B_iL_i}{\\tan\\theta_{0,i}} = 0$$\n",
    "\n"
   ]
  },
  {
   "cell_type": "markdown",
   "metadata": {},
   "source": [
    "## 2.4 Analysis for triangles\n",
    "Consider a triangular precession device with $y$ field strength $B$ in the $yz$ plane with height $h$, depth $d$ and with $\\theta_0 = \\frac{h}{d/2}$ being the angle of the sides. Let it be centered along the optical axis so that $y=0$ bisects it. Then for a path at height $y$, the length $L$ passed through the field is \n",
    "$$L = d/2 - \\frac{2y}{\\tan\\theta_0}$$\n",
    "This can derived by considering that at $y=0$, a distance $d/2$ is traversed and that for $y>0$, on both sides of the triangle $L$ will be reduced by a length $y\\tan\\theta_0$ analogous to the analysis of prisms above. So\n",
    "$$\\phi = c\\lambda B L = c\\lambda B(d/2 - \\frac{2y}{\\tan\\theta_0})$$\n",
    "For 2 triangles in a sequence, the total $\\phi_t$ becomes\n",
    "$$\\phi_t = c\\lambda B_1(d_1/2 -  \\frac{2y}{\\tan\\theta_0}) + c\\lambda B_2(d_2/2 -  \\frac{2y}{\\tan\\theta_0})$$\n",
    "This can be rewritten to a standard linear form in $y$      \n",
    "$$\\phi_t = c\\lambda (B_1d_1/2 +B_2d_2/2) - 2c\\lambda (B_1 + B_2) \\frac{y}{\\tan\\theta_0}$$\n",
    "From this it can be seen that $\\phi_t$ has a constant term in addition to a linear term in $y$ as the prisms do. This will be zero if the following condition holds\n",
    "$$B_1d_1 = -B_2d_2$$\n",
    "In practice this means that the triangle with the strongest field should be the smallest. What remains is to derive the focussing condition using $y_i = y + x_i\\theta$. Then\n",
    "$$\\phi_t = c\\lambda (B_1d_1/2 +B_2d_2/2) - 2c\\lambda B_1\\frac{y + L_1\\theta}{\\tan\\theta_0} - 2c\\lambda B_2\\frac{y + L_2\\theta}{\\tan\\theta_0}$$\n",
    "So the focussing condition is the same as before, \n",
    "$$B_1L_1 = -B_2L_2$$\n",
    "When these two conditions hold, \n",
    "$$\\phi_t = - 2c\\lambda (B_1 + B_2)\\frac{y}{\\tan\\theta_0} $$"
   ]
  },
  {
   "cell_type": "markdown",
   "metadata": {
    "vscode": {
     "languageId": "plaintext"
    }
   },
   "source": [
    "## 2.5 Analysis for foil flippers\n",
    "When working with foil flippers, it is important that the foil is tuned to flip a desired central wavelength $\\lambda_0$ by $\\pi$ degrees. This can be done using the formula\n",
    "$$\\phi_{foil} = \\frac{cdB_s\\lambda_0}{\\sin\\theta_0} = \\pi$$\n",
    "Here, $B_s = 1.0T$ is the saturation magnetization (achieved already at a minimal field strength of $0.3$ mT (combined SANS-SESANS)) and $d$ the thickness of the foil. In practice this means that $\\theta_0$ must be set appropriately given $\\lambda_0$ as otherwise a foil with a different $d$ or $B_s$ would need to be manufactured."
   ]
  },
  {
   "cell_type": "markdown",
   "metadata": {},
   "source": [
    "## 2.6 Simplified equations for $L_1 = 2L_2$\n",
    "In this case, the focussing condition is satisfied when $B_1 = B_0, B_2 = -2B_0$. Then for both Wollaston prisms and triangles\n",
    "$\\phi_t$ simplifies to\n",
    "$$\\phi_t = 2c\\lambda B_0\\frac{y}{\\tan\\theta_0} $$"
   ]
  },
  {
   "cell_type": "markdown",
   "metadata": {},
   "source": [
    "# 3. Probing characteristic lengths $z$ in a sample\n",
    "In the above, modulation in an empty instrument is considered. What happens when a sample is added? Now the effect of the sample on neutrons has to be considered, which at small angles means elastic scattering.\n",
    "\n",
    "## 3.1. Small-angle Neutron Scattering\n",
    "In general, SANS is an analytical technique which exploits elastic scattering of neutrons at small-angles. With $\\vec{k}_i$ and $\\vec{k}_f$ as initial and final angular wave vectors, the wave vector transfer is $Q = |\\vec{Q}| = |\\vec{k}_i - \\vec{k}_f| = 2k_i\\sin(\\theta)$ in the elastic case with $2\\theta$ the angle between $\\vec{k}_i, \\vec{k}_f$. At small angle $\\theta$, $Q\\approx 2\\theta k_i$. \n",
    "\n",
    "In the context of a SEMSANS instrument, $\\theta_s = \\frac{y}{L_s}$ is the angle in the $yz$ plane made with the optical axis with $L_s$ as distance from sample to detector. This gives the following wavevector transfer in the $y$ direction\n",
    "$$Q_y = \\frac{2\\pi}{\\lambda}\\theta_s = \\frac{2\\pi}{\\lambda}\\frac{y}{L_s}$$ \n",
    "This can be rewritten to\n",
    "$$y = \\frac{\\lambda L_s Q_y}{2\\pi}$$\n",
    "Filling this in $\\phi_t$ gives (using $Q \\equiv Q_y$ )\n",
    "$$\\phi_t = \\frac{c\\lambda^2L_s (B_1 + B_2)Q_y}{\\pi\\tan{\\theta_0}} = \\delta_y Q$$\n",
    "Here $z$ is the spin-echo length, given by \n",
    "$$\\delta_y = \\frac{c\\lambda^2L_s (B_1 + B_2)}{\\pi\\tan{\\theta_0}}$$\n",
    "Loosely speaking, this means that positive correlation of the sample correlation function at length scale $\\delta_y$ will preserve the modulation amplitude whereas a lack thereof or negative correlation will reduce it. "
   ]
  },
  {
   "cell_type": "markdown",
   "metadata": {
    "vscode": {
     "languageId": "plaintext"
    }
   },
   "source": [
    "\n",
    "## 3.2. Modulation amplitude reduction\n",
    "Using a similar approach as with SESANS, it can be shown that the modulation amplitude $A(\\delta_y)$ normalized by the amplitude without a sample $A_0$ is related to the scattering length density correlation function $G(\\delta_y)$\n",
    "$$\\frac{A(\\delta_y)}{A_0} = e^{\\tau(G(\\delta_y)-1)}$$\n",
    "with $\\tau = \\sigma t$ being the scattering power of the sample, equal to the product of the sample thickness $t$ and the macroscopic cross section $\\sigma$. By scanning modulation amplitudes $A(\\delta_y)$ across the $\\delta_y$ range, $G(\\delta_y)$ can be estimated. Equivalent formulations exist which rely on ratios of visibility instead, much to the same effect.\n",
    "\n",
    "For the solid spheres sample used in this research,\n",
    "$$\\tau = \\frac{3}{2}\\phi(1-\\phi)(\\Delta\\rho)^2\\lambda^2tR=C\\lambda^2$$\n",
    "with $C = 0.08107/Å^2$ \n"
   ]
  },
  {
   "cell_type": "markdown",
   "metadata": {},
   "source": [
    "## 4. Polychromatic SEMSANS\n",
    "In practice, there is not only a divergence $\\theta$ but also a (slight) spread in $\\lambda$ around a central $\\lambda_0$. This means that the actually observed intensity pattern $I_0(y)$ will be quite different. Assuming some probability density function $f(\\lambda)$, the true pattern without a sample will be\n",
    "$$I(y) = \\int_0^\\infty f(\\lambda)I_0(1 + \\cos(2\\pi y/p_0(\\lambda)))d\\lambda$$\n",
    "In practice this leads to visibility loss of the intensity pattern due to interference and this effect becomes most visible for greater fields, limiting the number of periods that can be measured on the detector. The $\\lambda$ spectrum can be indirectly derived using a Fourier transform using frequency $\\xi$, which will be nonzero if $\\xi = \\frac{1}{p_0(\\lambda)}$ for some $\\lambda$. \n",
    "$$I(\\xi) = \\int_{-\\infty}^\\infty I(y)e^{-i2\\pi\\xi y}dy$$\n",
    "In practice, the signal will be windowed due to the finite detector size and sampled at each detector pixel, meaning that frequency resolution and range is limited. "
   ]
  },
  {
   "cell_type": "markdown",
   "metadata": {},
   "source": [
    "# 4.1 Source model\n",
    "The spectrum of a cold source operating at $T=20K$ in first-order approximation is described by a Maxwell-Boltzmann distribution. Written in terms of velocity, this is given by\n",
    "$$f(v) = \\sqrt{\\frac{2}{\\pi}}(\\frac{m_n}{k_BT})^{\\frac{3}{2}}v^2e^{-\\frac{m_nv^2}{2k_BT}}$$\n",
    "\n",
    "This can be transformed to a $\\lambda$ distribution using the relation $\\lambda = \\frac{h}{m_n v}$ which gives $dv = \\frac{-h}{m_n\\lambda^2}d\\lambda$ so\n",
    "$$f(\\lambda) = f(\\frac{h}{m_n\\lambda})|\\dfrac{dv}{d\\lambda}| = \\sqrt{\\frac{2}{\\pi}}(\\frac{m_n}{k_BT})^{\\frac{3}{2}}(\\frac{h}{m_n\\lambda})^2e^{-\\frac{m_n(\\frac{h}{m_n\\lambda})^2}{2k_BT}}\\frac{h}{m_n\\lambda^2}\n"
   ]
  },
  {
   "cell_type": "markdown",
   "metadata": {
    "vscode": {
     "languageId": "plaintext"
    }
   },
   "source": [
    "$$f(\\lambda) = \\sqrt{\\frac{2}{\\pi}}(\\frac{1}{m_nk_BT})^{\\frac{3}{2}}\\frac{h^3}{\\lambda^4}e^{-\\frac{h^2}{2k_BTm_n\\lambda^2}}$$\n",
    "\n",
    "By using a monochromator, a narrow $\\lambda$ band is selected from this spectrum. The resulting distribution can be well approximated by a Gaussian distribution with mean $\\lambda_0$ and standard deviation $\\sigma$,\n",
    "$$f(\\lambda) = \\frac{1}{\\sigma\\sqrt{2\\pi}} e^{-\\frac{1}{2}(\\frac{\\lambda - \\lambda_0}{\\sigma})^2}$$\n",
    "Often monochromators are not defined by a sigma but by a FWHM which for a Gaussian is $W_\\lambda = 2\\sqrt{2\\ln 2}\\sigma$"
   ]
  },
  {
   "cell_type": "markdown",
   "metadata": {
    "vscode": {
     "languageId": "plaintext"
    }
   },
   "source": [
    "## 4.2 Fourier Analysis\n",
    "Using $\\alpha = \\frac{c(B_1+B_2)}{\\pi\\tan\\theta_0}$ the expression for intensity\n",
    "$$I(y) = I_0 + \\int_{-\\infty}^\\infty f_\\lambda(\\lambda)I_0\\cos(2\\pi\\alpha\\lambda y)d\\lambda$$\n",
    "can be rewritten to the form of an inverse Fourier transform using $f = \\alpha\\lambda$ as follows.\n",
    "$$I(y) = I_0 + \\int_{-\\infty}^\\infty \\frac{f_\\lambda(\\frac{f}{\\alpha})}{\\alpha}I_0\\cos(2\\pi f y)df$$\n",
    "Using\n",
    "$$\\int_{-\\infty}^\\infty \\frac{f_\\lambda(\\frac{f}{\\alpha})}{\\alpha}\\cos(2\\pi f y)df = \\int_{-\\infty}^\\infty \\frac{f_\\lambda(\\frac{f}{\\alpha})}{2\\alpha}(e^{i2\\pi f y} + e^{-i2\\pi f y})df$$\n",
    "\n",
    "$$=\\int_{-\\infty}^\\infty \\frac{f_\\lambda(\\frac{f}{\\alpha}) + f_\\lambda(\\frac{-f}{\\alpha})}{2\\alpha}e^{i2\\pi f y}df$$\n",
    "\n",
    "$$= \\int_{-\\infty}^\\infty\\frac{1}{2\\alpha\\sigma\\sqrt{2\\pi}}(e^{-\\frac{1}{2}(\\frac{f - f_0}{\\alpha\\sigma})^2} + e^{-\\frac{1}{2}(\\frac{f + f_0}{\\alpha\\sigma})^2})e^{i2\\pi f y}df$$\n",
    "From this it can be seen that the Fourier transform $I(f)$ of $I(y)$ is\n",
    "$$I(f) = I_0\\delta(f) + I_0\\frac{1}{2\\alpha\\sigma\\sqrt{2\\pi}}(e^{-\\frac{1}{2}(\\frac{f - f_0}{\\alpha\\sigma})^2} + e^{-\\frac{1}{2}(\\frac{f + f_0}{\\alpha\\sigma})^2})$$\n",
    "Using the convolution property of Fourier transforms and the standard Fourier transform of a Gaussian, the final $y$-domain expression $I(y)$ can be derived for polychromatic modulation without a sample\n",
    "$$I(y) = I_0 + I_0E(y)\\cos(2\\pi\\alpha\\lambda_0y)$$\n",
    "The envelope $E(y)$ is a Gaussian and given by\n",
    "$$E(y) = e^{-\\frac{1}{2}(2\\pi\\alpha\\sigma y)^2}$$\n",
    "Substituting $\\sigma=0$ for a perfect monochromatic source gives back the original monochromatic expression."
   ]
  },
  {
   "cell_type": "markdown",
   "metadata": {},
   "source": [
    "## 4.3 Envelope $FWHM$ and number of visible periods\n",
    "Using the modulation envelope expression $E(y)$, the FWHM of the modulation envelope and the number of periods that correspond to it can be derived."
   ]
  },
  {
   "cell_type": "markdown",
   "metadata": {},
   "source": [
    "$$FWHM_y = \\frac{\\sqrt{2\\ln 2}}{\\pi\\alpha\\sigma}$$"
   ]
  },
  {
   "cell_type": "markdown",
   "metadata": {},
   "source": [
    "Using modulation period $p_0 = \\frac{1}{\\lambda_0\\alpha}$, this gives (for an infinite detector) the following number of periods with at least half maximum intensity"
   ]
  },
  {
   "cell_type": "markdown",
   "metadata": {},
   "source": [
    "$$N_{periods} = \\frac{FWHM_y}{p_0} = \\frac{\\sqrt{2 \\ln 2}}{\\pi} \\frac{\\lambda_0}{\\sigma}$$\n",
    "It can be seen that the number of periods with amplitude of at least half maximum is only a function of $\\frac{\\lambda_0}{\\sigma}$, a ratio of the wavelength and wavelength spread."
   ]
  },
  {
   "cell_type": "markdown",
   "metadata": {},
   "source": [
    "## 4.4 Envelope and accessible $\\delta$ range\n",
    "The envelope imposes restrictions on the accessible $\\delta$ range, as higher $\\delta$ values cause a narrower envelope, reducing useful signal power and making accurate polarisation measurement impossible. Using $f =\\frac{c\\lambda(B_1 + B_2)}{\\pi \\tan\\theta_0} = \\alpha\\lambda$, $\\delta = \\lambda^2L_s\\alpha$ can be rewritten to \n",
    "$$\\delta = \\frac{f^2 L_s}{\\alpha}$$\n",
    "Using this expression, $E(y)$ and $FWHM_y$ can be rewritten to\n",
    "$$E(y) = e^{-\\frac{1}{2}(2\\pi \\frac{\\sigma \\delta}{\\lambda_0^2L_s}y)^2}$$\n",
    "$$FWHM_y = \\frac{\\sqrt{2\\ln 2}\\lambda_0^2 L_s}{\\pi\\sigma\\delta}$$\n",
    "If a certain minimum $FWHM_{y,min}$ is tolerated (due to requiring a minimal amount of pixels etc.),\n",
    "$$\\delta_{max} = \\frac{\\sqrt{2\\ln 2}\\lambda_0^2 L_s}{\\pi\\sigma FWHM_{y,min}}$$"
   ]
  },
  {
   "cell_type": "markdown",
   "metadata": {},
   "source": [
    "## 4.5 Effect of sample on polychromatic modulation\n",
    "The earlier equation relating modulation amplitude can by linearity simply be extended to a statement about the Fourier spectrum. Using $f =\\frac{c\\lambda(B_1 + B_2)}{\\pi \\tan\\theta_0} = \\alpha\\lambda$, $\\delta = \\lambda^2L_s\\alpha$ can be rewritten to \n",
    "$$\\delta = \\frac{f^2 L_s}{\\alpha}$$\n",
    "Using this and remembering that $\\tau$ is in fact a function of $\\lambda$, $\\tau(\\lambda) \\propto \\lambda^2$\n",
    "$$\\frac{I_{sample}(f)}{I_{empty}(f)} = e^{\\tau(\\lambda)(G(\\delta_y)-1)} = e^{\\tau(\\frac{f}{\\alpha})(G(\\frac{f^2 L_s}{\\alpha})-1)}$$\n"
   ]
  },
  {
   "cell_type": "markdown",
   "metadata": {},
   "source": [
    "This goes to show that when working with a broader spectrum, the $\\lambda$-dependency of the scattering power and the spin-echo length start to play a role in the modulation spectrum. In an ideal measurement setup one could use this property to extract additional information about the sample in the neighborhood of the target $\\delta$. In practice it is expected that the signal is too weak for typical measurement scenarios and that this effect will only introduce an error into $G(\\delta)$ estimates."
   ]
  },
  {
   "cell_type": "markdown",
   "metadata": {},
   "source": [
    "# 5. Measuring modulation at the detector\n",
    "The position sensitive detector used has $y$ height $h=0.011$ m and a resolution of $r = 10$ um ($N_{pixels} = 1001$). This gives a sample frequency of $k_s = 1e5 m^{-1}$ and a nyquist frequency of $k_n = 5e4 m^{-1}$, giving an upper theoretical limit for modulation frequency. Using the $10$ preferred samples per period (Combined SANS-SESANS), the maximum modulation frequency would be $1e4 m^{-1}$, implying a minimal modulation period of $100$ um.\n",
    "\n",
    "Another practical consideration when measuring is the range of scattering power $\\tau$ that will give sufficient signal to measure the modulation. An optimal value in terms of signal to noise ratio was found to be 0.1 to 0.8 and this range is targetted in this work. "
   ]
  },
  {
   "cell_type": "markdown",
   "metadata": {},
   "source": [
    "# 6. Small-angle error as a function of $L_s$, $h_d$\n",
    "The above derivation connecting elastic scattering to precession and spin-echo length relies on the small-angle approximation. The validity of this approximation in a practical instrument depends on parameters $L_s, h_d$, the distance from sample to detector and the height of the detector. The largest sample scattering angle accepted by the detector is\n",
    "$$\\theta_{s,max} = \\arctan(\\frac{h_d}{2L_s})$$\n",
    "Note that this is the precise expression as compared to the small-angle approximation $\\theta_{s,max} \\approx \\frac{h_d}{2L_s}$. The error between the true value and approximation is \n",
    "$$\\epsilon_\\theta = \\arctan(\\frac{h_d}{2L_s}) - \\frac{h_d}{2L_s} \\approx -\\frac{h_d^3}{12L_s^3}$$\n",
    "From this it can be seen that for small-angles, $\\frac{h_d}{2L_s}$ overestimates the angle so that the intensity at that height corresponds to a lower scattering angle. \n",
    "The tolerable $\\epsilon_\\theta$ intuitively is related to the detector resolution.\n",
    "\n",
    "--------\n",
    "\n",
    "In a more general expression, the scattering angle measured at the detector is given by $\\theta_s = \\arctan(\\frac{y}{L_s})$ so that \n",
    "$$Q = \\frac{2\\pi}{\\lambda}\\sin\\theta_s = \\frac{2\\pi}{\\lambda}\\frac{y}{\\sqrt{L_s^2 + y^2}}$$\n",
    "It can easily be seen that when $L_s \\gg y$, the original small-angle expression is retrieved. From this, a similar expression for $\\phi_t$ with $Q$ can be derived with a correcting factor\n",
    "\n",
    "$$\\phi_t = \\frac{c\\lambda^2L_s (B_1 + B_2)Q}{\\pi\\tan{\\theta_0}} \\sqrt{1 + \\frac{y^2}{L_s^2}}$$\n",
    "\n",
    "Intuitively it can be seen that this correcting factor becomes more relevant when measuring higher $\\delta$ with corresponding higher spatial frequency $f_0$ on the detector. In that case $\\phi_t$ will vary more rapidly as $Q$ (or $y$) increases, meaning that the correction factor could cause a significant $\\phi_t$ difference modulo $2\\pi$ compared to the small-angle expression."
   ]
  },
  {
   "cell_type": "markdown",
   "metadata": {},
   "source": []
  }
 ],
 "metadata": {
  "kernelspec": {
   "display_name": "Python 3 (ipykernel)",
   "language": "python",
   "name": "python3"
  },
  "language_info": {
   "codemirror_mode": {
    "name": "ipython",
    "version": 3
   },
   "file_extension": ".py",
   "mimetype": "text/x-python",
   "name": "python",
   "nbconvert_exporter": "python",
   "pygments_lexer": "ipython3",
   "version": "3.1.-1"
  }
 },
 "nbformat": 4,
 "nbformat_minor": 4
}

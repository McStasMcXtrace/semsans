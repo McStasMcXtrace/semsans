{
 "cells": [
  {
   "cell_type": "code",
   "execution_count": null,
   "metadata": {},
   "outputs": [],
   "source": [
    "import numpy as np\n",
    "import matplotlib.pyplot as plt\n",
    "from scipy.optimize import curve_fit\n",
    "import os\n",
    "import re\n",
    "import os.path\n",
    "from os import path"
   ]
  },
  {
   "cell_type": "code",
   "execution_count": null,
   "metadata": {},
   "outputs": [],
   "source": [
    "from definitions import *"
   ]
  },
  {
   "cell_type": "code",
   "execution_count": null,
   "metadata": {},
   "outputs": [],
   "source": [
    "FWHM_factor = 2 * np.sqrt(2 * np.log(2))\n",
    "def alpha_fun(delta_B, theta_0):\n",
    "    return c * delta_B / (np.pi * np.tan(theta_0))\n",
    "\n",
    "def I_envelope(y, delta_B, theta_0, wl_sigma):\n",
    "    alpha = alpha_fun(delta_B, theta_0)\n",
    "    E_y = np.exp(-0.5 * (2 * np.pi * alpha * wl_sigma * y) ** 2)\n",
    "    return E_y\n",
    "def I_empty_analytical(y, lambda_0, delta_B, theta_0, wl_sigma, up = True):\n",
    "    E_y = I_envelope(y, delta_B, theta_0, wl_sigma)\n",
    "    alpha = alpha_fun(delta_B, theta_0)\n",
    "    # mod = np.cos(2 * np.pi * alpha * lambda_0 * y)\n",
    "    p_0 = compute_p_0(delta_B, lambda_0, theta_0)\n",
    "    # print(p_0)\n",
    "    mod = np.cos(2 * np.pi * lambda_0 * alpha * y)\n",
    "    # print(alpha * lambda_0 * y)\n",
    "    # print(mod)\n",
    "    if up:\n",
    "        return mod * E_y\n",
    "    else:\n",
    "        return -mod * E_y\n",
    "y = np.linspace(-0.005, 0.005, 1000)\n",
    "\n",
    "for (folder, theta_0_deg) in [('foil_data', 5.5), ('iwsp_data', 45), ('iso_data', 20)]:\n",
    "    i = 1\n",
    "    y, I_up, I_down, I_empty_up, I_empty_down, By = get_data(i, folder=folder)\n",
    "    print(f\"Measurement {i}; By = {By}\")\n",
    "    y*=1e1  \n",
    "    lambda_0 = 2.165e-10\n",
    "    # By = 0.00625\n",
    "    theta_0 = np.deg2rad(theta_0_deg)\n",
    "    # I_0 = 0.45e-9\n",
    "    I = I_empty_up\n",
    "    indices = indices_within_range(y * 1e-3, -0.0049, 0.0049)\n",
    "    def I_fit(y, I_0):\n",
    "        return I_empty_analytical(y * 1e-3, lambda_0, By, theta_0, wl_sigma=0.1e-10) * I_0 + I_0\n",
    "    popt, pcov = curve_fit(I_fit, y[indices], I[indices])\n",
    "    print(popt, pcov)\n",
    "    I_0 = popt[0]\n",
    "    \n",
    "    E_y = I_empty_analytical(y * 1e-3, lambda_0, By, theta_0, wl_sigma=0.1e-10) * I_0 + I_0\n",
    "    p_0 = compute_p_0(By, lambda_0, theta_0)\n",
    "    # plt.axvline(p_0 * 1e3, linestyle='--', color='r')\n",
    "    plt.scatter(y, I_empty_up,s=5,  label='Up, empty', color='green')\n",
    "    plt.plot(y, E_y, linestyle='--', label='Up, empty analytical')\n",
    "    # plt.scatter(y, I_empty_down, s=2, label='Down, empty')\n",
    "    plt.xlabel('y [mm]')\n",
    "    plt.ylabel('I')\n",
    "    plt.title(r'$I_{up,empty}$, ' + folder)\n",
    "    plt.grid()\n",
    "    plt.legend()\n",
    "    plt.show()"
   ]
  },
  {
   "cell_type": "code",
   "execution_count": null,
   "metadata": {},
   "outputs": [],
   "source": [
    "plt.scatter(y, I_up,s=2,  label='Up')\n",
    "plt.scatter(y, I_down,s=2, label='Down')\n",
    "plt.xlabel('y [mm]')\n",
    "plt.ylabel('I')\n",
    "plt.title('PSD intensity')\n",
    "plt.grid()\n",
    "plt.legend()\n",
    "plt.show()"
   ]
  },
  {
   "cell_type": "code",
   "execution_count": null,
   "metadata": {},
   "outputs": [],
   "source": [
    "import numpy.fft as fft\n",
    "def plot_spectra(Is):\n",
    "    indices = indices_within_range(y, -4.85, 4.85)\n",
    "    N = len(indices)\n",
    "    d = (y[1] - y[0])*1e-3\n",
    "    f = fft.fftshift(fft.fftfreq(N, d=d))\n",
    "    for I in Is:\n",
    "        I_spectrum = fft.fftshift(np.abs(fft.fft(I[indices])))/N\n",
    "        plt.plot(f,I_spectrum)\n",
    "    f_max = 5000\n",
    "    plt.xlim((-f_max,f_max))\n",
    "    plt.grid()\n",
    "    plt.show()\n",
    "plot_spectra([I_up])\n",
    "plot_spectra([I_empty_up])"
   ]
  },
  {
   "cell_type": "code",
   "execution_count": null,
   "metadata": {},
   "outputs": [],
   "source": [
    "\n",
    "plot_spectra([I_up, I_down, I_empty_up, I_empty_down])\n",
    "plot_spectra([I_up,I_empty_up - I_up])"
   ]
  },
  {
   "cell_type": "code",
   "execution_count": null,
   "metadata": {},
   "outputs": [],
   "source": [
    "def compute_P_dark_field(I_up,I_down):\n",
    "    return  (I_up - I_down) / (I_up + I_down)\n",
    "\n",
    "P_s = compute_P_dark_field(I_up,I_down)\n",
    "P_b = compute_P_dark_field(I_empty_up,I_empty_down)\n",
    "\n",
    "plt.plot(y, P_s,'-',  label='Sample, analyzer')\n",
    "plt.plot(y,P_b, label='No sample, analyzer')\n",
    "plt.xlabel('y [mm]')\n",
    "\n",
    "E_y = I_empty_analytical(y * 1e-3, lambda_0, By, theta_0, wl_FWHM=0.1e-10)\n",
    "p_0 = compute_p_0(By, lambda_0, theta_0)\n",
    "plt.plot(y, E_y)\n",
    "plt.axvline(p_0 * 1e3, linestyle='--', color='r')\n",
    "\n",
    "plt.ylabel('P')\n",
    "plt.title('PSD intensity')\n",
    "plt.grid()\n",
    "plt.legend()\n",
    "plt.show()"
   ]
  },
  {
   "cell_type": "code",
   "execution_count": null,
   "metadata": {},
   "outputs": [],
   "source": []
  },
  {
   "cell_type": "code",
   "execution_count": null,
   "metadata": {},
   "outputs": [],
   "source": []
  }
 ],
 "metadata": {
  "kernelspec": {
   "display_name": "bep",
   "language": "python",
   "name": "python3"
  },
  "language_info": {
   "codemirror_mode": {
    "name": "ipython",
    "version": 3
   },
   "file_extension": ".py",
   "mimetype": "text/x-python",
   "name": "python",
   "nbconvert_exporter": "python",
   "pygments_lexer": "ipython3",
   "version": "3.12.3"
  }
 },
 "nbformat": 4,
 "nbformat_minor": 2
}

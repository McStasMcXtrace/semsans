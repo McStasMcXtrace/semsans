{
 "cells": [
  {
   "cell_type": "code",
   "execution_count": null,
   "metadata": {},
   "outputs": [],
   "source": [
    "import numpy as np\n",
    "import matplotlib.pyplot as plt\n",
    "from scipy.optimize import curve_fit\n",
    "import os\n",
    "import re\n",
    "import os.path\n",
    "from os import path"
   ]
  },
  {
   "cell_type": "code",
   "execution_count": null,
   "metadata": {},
   "outputs": [],
   "source": [
    "from definitions import *"
   ]
  },
  {
   "cell_type": "code",
   "execution_count": null,
   "metadata": {},
   "outputs": [],
   "source": [
    "FWHM_factor = 2 * np.sqrt(2 * np.log(2))\n",
    "def alpha_fun(delta_B, theta_0):\n",
    "    return c * delta_B / (np.pi * np.tan(theta_0))\n",
    "\n",
    "def I_envelope(y, delta_B, theta_0, wl_sigma):\n",
    "    alpha = alpha_fun(delta_B, theta_0)\n",
    "    E_y = np.exp(-0.5 * (2 * np.pi * alpha * wl_sigma * y) ** 2)\n",
    "    return E_y\n",
    "def I_empty_analytical(y, lambda_0, delta_B, theta_0, wl_sigma, up = True):\n",
    "    E_y = I_envelope(y, delta_B, theta_0, wl_sigma)\n",
    "    alpha = alpha_fun(delta_B, theta_0)\n",
    "    # mod = np.cos(2 * np.pi * alpha * lambda_0 * y)\n",
    "    p_0 = compute_p_0(delta_B, lambda_0, theta_0)\n",
    "    # print(p_0)\n",
    "    mod = np.cos(2 * np.pi * lambda_0 * alpha * y)\n",
    "    # print(alpha * lambda_0 * y)\n",
    "    # print(mod)\n",
    "    if up:\n",
    "        return mod * E_y\n",
    "    else:\n",
    "        return -mod * E_y\n",
    "y = np.linspace(-0.005, 0.005, 1000)\n",
    "\n",
    "for (folder, theta_0_deg) in [('foil_data', 5.5), ('iwsp_data', 45), ('iso_data', 20)]:\n",
    "    i = 1\n",
    "    y, I_up, I_down, I_empty_up, I_empty_down, By = get_data(i, folder=folder)\n",
    "    print(f\"Measurement {i}; By = {By}\")\n",
    "    y*=1e1  \n",
    "    lambda_0 = 2.165e-10\n",
    "    # By = 0.00625\n",
    "    theta_0 = np.deg2rad(theta_0_deg)\n",
    "    # I_0 = 0.45e-9\n",
    "    I = I_empty_up\n",
    "    indices = indices_within_range(y * 1e-3, -0.0049, 0.0049)\n",
    "    def I_fit(y, I_0):\n",
    "        return I_empty_analytical(y * 1e-3, lambda_0, By, theta_0, wl_sigma=0.1e-10) * I_0 + I_0\n",
    "    popt, pcov = curve_fit(I_fit, y[indices], I[indices])\n",
    "    print(popt, pcov)\n",
    "    I_0 = popt[0]\n",
    "    dI_0 = pcov[0][0]\n",
    "    print(I_0, dI_0)\n",
    "    \n",
    "    E_y = I_empty_analytical(y * 1e-3, lambda_0, By, theta_0, wl_sigma=0.1e-10) * I_0 + I_0\n",
    "    p_0 = compute_p_0(By, lambda_0, theta_0)\n",
    "    # plt.axvline(p_0 * 1e3, linestyle='--', color='r')\n",
    "    plt.scatter(y, I_empty_up,s=5,  label='Up, empty', color='green')\n",
    "    plt.plot(y, E_y, linestyle='--', label='Up, empty analytical')\n",
    "    # plt.scatter(y, I_empty_down, s=2, label='Down, empty')\n",
    "    plt.xlabel('y [mm]')\n",
    "    plt.ylabel('I')\n",
    "    plt.title(r'$I_{up,empty}$, ' + folder)\n",
    "    plt.grid()\n",
    "    plt.legend()\n",
    "    plt.show()"
   ]
  },
  {
   "cell_type": "code",
   "execution_count": null,
   "metadata": {},
   "outputs": [],
   "source": [
    "plt.scatter(y, I_up,s=2,  label='Up')\n",
    "plt.scatter(y, I_down,s=2, label='Down')\n",
    "plt.xlabel('y [mm]')\n",
    "plt.ylabel('I')\n",
    "plt.title('PSD intensity')\n",
    "plt.grid()\n",
    "plt.legend()\n",
    "plt.show()"
   ]
  },
  {
   "cell_type": "code",
   "execution_count": null,
   "metadata": {},
   "outputs": [],
   "source": [
    "import numpy.fft as fft\n",
    "def plot_spectra(Is):\n",
    "    indices = indices_within_range(y, -4.85, 4.85)\n",
    "    N = len(indices)\n",
    "    d = (y[1] - y[0])*1e-3\n",
    "    f = fft.fftshift(fft.fftfreq(N, d=d))\n",
    "    for I in Is:\n",
    "        I_spectrum = fft.fftshift(np.abs(fft.fft(I[indices])))/N\n",
    "        plt.plot(f,I_spectrum)\n",
    "    f_max = 5000\n",
    "    plt.xlim((-f_max,f_max))\n",
    "    plt.grid()\n",
    "    plt.show()\n",
    "plot_spectra([I_up])\n",
    "plot_spectra([I_empty_up])"
   ]
  },
  {
   "cell_type": "code",
   "execution_count": null,
   "metadata": {},
   "outputs": [],
   "source": [
    "\n",
    "plot_spectra([I_up, I_down, I_empty_up, I_empty_down])\n",
    "plot_spectra([I_up,I_empty_up - I_up])"
   ]
  },
  {
   "cell_type": "code",
   "execution_count": null,
   "metadata": {},
   "outputs": [],
   "source": [
    "def compute_P_dark_field(I_up,I_down):\n",
    "    return  (I_up - I_down) / (I_up + I_down)\n",
    "\n",
    "P_s = compute_P_dark_field(I_up,I_down)\n",
    "P_b = compute_P_dark_field(I_empty_up,I_empty_down)\n",
    "\n",
    "plt.plot(y, P_s,'-',  label='Sample, analyzer')\n",
    "plt.plot(y,P_b, label='No sample, analyzer')\n",
    "plt.xlabel('y [mm]')\n",
    "\n",
    "E_y = I_empty_analytical(y * 1e-3, lambda_0, By, theta_0, wl_sigma=0.1e-10)\n",
    "p_0 = compute_p_0(By, lambda_0, theta_0)\n",
    "plt.plot(y, E_y)\n",
    "plt.axvline(p_0 * 1e3, linestyle='--', color='r')\n",
    "\n",
    "plt.ylabel('P')\n",
    "plt.title('PSD intensity')\n",
    "plt.grid()\n",
    "plt.legend()\n",
    "plt.show()"
   ]
  },
  {
   "cell_type": "markdown",
   "metadata": {},
   "source": [
    "# Polarization curves"
   ]
  },
  {
   "cell_type": "code",
   "execution_count": null,
   "metadata": {},
   "outputs": [],
   "source": [
    "def compute_P(I_up,I_down, dI_up, dI_down):\n",
    "    P = (I_up - I_down) / (I_up + I_down)\n",
    "    dP = 2 * np.sqrt((I_down * dI_up)**2 + (I_up * dI_down)**2) / (I_up + I_down) ** 2 \n",
    "    return P, dP\n",
    "\n",
    "def compute_rms(x, dx):\n",
    "    rms = np.sqrt(np.mean(np.square(x)))\n",
    "    squared_errors = np.square(dx)\n",
    "    mean_squared_values = np.mean(np.square(x))\n",
    "    d_rms = np.sqrt(np.sum(squared_errors) / (2 * len(x) * mean_squared_values))\n",
    "    return rms, d_rms \n",
    "\n",
    "def get_measurement_point(i, folder='data'):\n",
    "    d1 = np.genfromtxt(f'{folder}/up/{i}/det.dat', delimiter=' ', usecols=(0,1,2,3), unpack=True)\n",
    "    d2 = np.genfromtxt(f'{folder}/down/{i}/det.dat', delimiter=' ', usecols=(0,1,2,3), unpack=True)\n",
    "    d3 = np.genfromtxt(f'{folder}/empty_up/{i}/det.dat', delimiter=' ', usecols=(0,1,2,3), unpack=True)\n",
    "    d4 = np.genfromtxt(f'{folder}/empty_down/{i}/det.dat', delimiter=' ', usecols=(0,1,2,3), unpack=True)\n",
    "    up = DetectorReading(*d1)\n",
    "    down = DetectorReading(*d2)\n",
    "    empty_up = DetectorReading(*d3)\n",
    "    empty_down = DetectorReading(*d4)\n",
    "    parameters = extract_parameters(f'{folder}/up/{i}/det.dat')\n",
    "    mp = MeasurementPoint(up, down, empty_up, empty_down, parameters)\n",
    "    return mp\n",
    "    \n",
    "\n",
    "class DetectorReading:\n",
    "    def __init__(self, y, I, I_err, N):\n",
    "        self.y = y * 10\n",
    "        self.I = I\n",
    "        self.dI = I_err\n",
    "        self.N = N\n",
    "\n",
    "class MeasurementPoint:\n",
    "    def __init__(self, up, down, empty_up, empty_down, parameters):\n",
    "        self.up = up\n",
    "        self.down = down\n",
    "        self.empty_up = empty_up\n",
    "        self.empty_down = empty_down\n",
    "        self.parameters = parameters\n",
    "    \n",
    "    def y(self):\n",
    "        return self.up.y\n",
    "    \n",
    "    def compute_P(self):\n",
    "        P_s, dP_s = compute_P(self.up.I, self.down.I, self.up.dI, self.down.dI)\n",
    "        P_b, dP_b = compute_P(self.empty_up.I, self.empty_down.I, self.empty_up.dI, self.empty_down.dI)\n",
    "        return self.y(), P_b, dP_b, P_s, dP_s\n",
    "    \n",
    "    def compute_rms(self, y_range = None):\n",
    "        y, P_b, dP_b, P_s, dP_s = self.compute_P()\n",
    "        if y_range == None:\n",
    "            rms_b, d_rms_b = compute_rms(P_b, dP_b)\n",
    "            rms_s, d_rms_s = compute_rms(P_s, dP_s)\n",
    "        else:\n",
    "            # range is assumed to be of the form (y_min, y_max)\n",
    "            indices = indices_within_range(y, *y_range)\n",
    "            rms_b, d_rms_b = compute_rms(P_b[indices], dP_b[indices])\n",
    "            rms_s, d_rms_s = compute_rms(P_s[indices], dP_s[indices])\n",
    "        return rms_b, d_rms_b, rms_s, d_rms_s\n",
    "\n",
    "    def rms_ratio(self, y_range = None):\n",
    "        rms_b, d_rms_b, rms_s, d_rms_s = self.compute_rms(y_range=y_range)\n",
    "        R = rms_s / rms_b\n",
    "        dR = np.sqrt((d_rms_s / rms_b)**2 + (rms_s * d_rms_b / rms_b**2)**2)\n",
    "        return R, dR\n",
    "    \n",
    "    def plot_intensities(self):\n",
    "        plt.plot(self.y(), self.empty_up.I, label='Up')\n",
    "        plt.plot(self.y(), self.empty_down.I, label = 'Down')\n",
    "        plt.title(r'Base $I_{up}, I_{down}$')\n",
    "        plt.grid()\n",
    "        plt.legend()\n",
    "        plt.show()    \n",
    "        plt.plot(self.y(), self.up.I, label='Up')\n",
    "        plt.plot(self.y(), self.down.I, label = 'Down')\n",
    "        plt.title(r'Sample $I_{up}, I_{down}$')\n",
    "        plt.grid()\n",
    "        plt.legend()\n",
    "        plt.show()\n",
    "    \n"
   ]
  },
  {
   "cell_type": "code",
   "execution_count": null,
   "metadata": {},
   "outputs": [],
   "source": [
    "x = get_measurement_point(4, 'foil_data')\n",
    "y, P_b, dP_b, P_s, dP_s = x.compute_P()\n",
    "y_range=(-4.5,4.5)\n",
    "rms_b, d_rms_b, rms_s, d_rms_s = x.compute_rms(y_range)\n",
    "print(rms_b, d_rms_b, rms_s, d_rms_s)\n",
    "R, dR = x.rms_ratio(y_range)\n",
    "print(R, dR)\n",
    "# print(P, dP)\n",
    "plt.plot(y,P_b)\n",
    "plt.plot(y,P_s)\n",
    "plt.show()\n",
    "# plt.errorbar(y,P, linestyle='',yerr=dP, ecolor='red')\n",
    "# plt.plot(y, dP)"
   ]
  },
  {
   "cell_type": "code",
   "execution_count": null,
   "metadata": {},
   "outputs": [],
   "source": [
    "x.plot_intensities()"
   ]
  },
  {
   "cell_type": "code",
   "execution_count": null,
   "metadata": {},
   "outputs": [],
   "source": [
    "for i in range(0,30):\n",
    "    x = get_measurement_point(i, 'data_2a_20000')\n",
    "    # x.plot_intensities()\n",
    "    print(x.parameters)\n",
    "    y, P_b, dP_b, P_s, dP_s = x.compute_P()\n",
    "    y_range=(-4,4)\n",
    "    rms_b, d_rms_b, rms_s, d_rms_s = x.compute_rms(y_range)\n",
    "    print(rms_b, d_rms_b, rms_s, d_rms_s)\n",
    "    R, dR = x.rms_ratio(y_range)\n",
    "    print(R, dR)\n",
    "    # print(P, dP)\n",
    "    plt.plot(y,P_b, label='Base')\n",
    "    plt.plot(y,P_s, label='Sample')\n",
    "    plt.legend()\n",
    "    plt.show()"
   ]
  },
  {
   "cell_type": "code",
   "execution_count": 92,
   "metadata": {},
   "outputs": [
    {
     "name": "stderr",
     "output_type": "stream",
     "text": [
      "/tmp/ipykernel_34933/1381604184.py:2: RuntimeWarning: invalid value encountered in divide\n",
      "  P = (I_up - I_down) / (I_up + I_down)\n",
      "/tmp/ipykernel_34933/1381604184.py:3: RuntimeWarning: invalid value encountered in divide\n",
      "  dP = 2 * np.sqrt((I_down * dI_up)**2 + (I_up * dI_down)**2) / (I_up + I_down) ** 2\n"
     ]
    },
    {
     "data": {
      "text/plain": [
       "[<matplotlib.lines.Line2D at 0x7ee4524327e0>]"
      ]
     },
     "execution_count": 92,
     "metadata": {},
     "output_type": "execute_result"
    },
    {
     "data": {
      "image/png": "[encoded data removed]",
      "text/plain": [
       "<Figure size 640x480 with 1 Axes>"
      ]
     },
     "metadata": {},
     "output_type": "display_data"
    }
   ],
   "source": [
    "N = 30\n",
    "\n",
    "B = np.zeros(N)\n",
    "P = np.zeros(N)\n",
    "dP = np.zeros(N)\n",
    "\n",
    "t = -1\n",
    "R = -1\n",
    "for i in range(N):\n",
    "    measurement = get_measurement_point(i, 'data_2a_20000')\n",
    "    y_range=(-4,4)\n",
    "    R, dR = measurement.rms_ratio(y_range)\n",
    "    # print(R, dR)\n",
    "    P[i] = R\n",
    "    dP[i] = dR\n",
    "    B[i] = float(measurement.parameters['By'])\n",
    "# plt.errorbar(B,P, linestyle='-', yerr=dP)\n",
    "plt.plot(B,P, '.')"
   ]
  },
  {
   "cell_type": "code",
   "execution_count": 93,
   "metadata": {},
   "outputs": [
    {
     "name": "stderr",
     "output_type": "stream",
     "text": [
      "/tmp/ipykernel_34933/1381604184.py:2: RuntimeWarning: invalid value encountered in divide\n",
      "  P = (I_up - I_down) / (I_up + I_down)\n",
      "/tmp/ipykernel_34933/1381604184.py:3: RuntimeWarning: invalid value encountered in divide\n",
      "  dP = 2 * np.sqrt((I_down * dI_up)**2 + (I_up * dI_down)**2) / (I_up + I_down) ** 2\n"
     ]
    },
    {
     "data": {
      "text/plain": [
       "[<matplotlib.lines.Line2D at 0x7ee45810c9b0>]"
      ]
     },
     "execution_count": 93,
     "metadata": {},
     "output_type": "execute_result"
    },
    {
     "data": {
      "image/png": "[encoded data removed]",
      "text/plain": [
       "<Figure size 640x480 with 1 Axes>"
      ]
     },
     "metadata": {},
     "output_type": "display_data"
    }
   ],
   "source": [
    "N = 30\n",
    "\n",
    "B = np.zeros(N)\n",
    "P = np.zeros(N)\n",
    "dP = np.zeros(N)\n",
    "\n",
    "t = -1\n",
    "R = -1\n",
    "for i in range(N):\n",
    "    measurement = get_measurement_point(i, 'data_2a_20000')\n",
    "    y_range=(-4,4)\n",
    "    R, dR = measurement.rms_ratio(y_range)\n",
    "    # print(R, dR)\n",
    "    P[i] = R\n",
    "    dP[i] = dR\n",
    "    B[i] = float(measurement.parameters['By'])\n",
    "# plt.errorbar(B,P, linestyle='-', yerr=dP)\n",
    "plt.plot(B,P, '.')"
   ]
  },
  {
   "cell_type": "code",
   "execution_count": null,
   "metadata": {},
   "outputs": [],
   "source": []
  }
 ],
 "metadata": {
  "kernelspec": {
   "display_name": "bep",
   "language": "python",
   "name": "python3"
  },
  "language_info": {
   "codemirror_mode": {
    "name": "ipython",
    "version": 3
   },
   "file_extension": ".py",
   "mimetype": "text/x-python",
   "name": "python",
   "nbconvert_exporter": "python",
   "pygments_lexer": "ipython3",
   "version": "3.12.3"
  }
 },
 "nbformat": 4,
 "nbformat_minor": 2
}

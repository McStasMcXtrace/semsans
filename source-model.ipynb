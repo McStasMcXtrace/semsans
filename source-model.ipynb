{
 "cells": [
  {
   "cell_type": "code",
   "execution_count": null,
   "metadata": {},
   "outputs": [],
   "source": [
    "import numpy as np\n",
    "from scipy.stats import maxwell\n",
    "import matplotlib.pyplot as plt\n",
    "from scipy import stats "
   ]
  },
  {
   "cell_type": "markdown",
   "metadata": {},
   "source": [
    "$$E_{peak} = k_bT$$\n",
    "$$v_{max} = \\sqrt{E_{peak} / m}$$"
   ]
  },
  {
   "cell_type": "code",
   "execution_count": null,
   "metadata": {},
   "outputs": [],
   "source": [
    "k_b = 1.380649e-23 # J/K\n",
    "T = 20 # K \n",
    "m_n = 1.67492749804e-27 # kg\n",
    "h = 6.62607015e-34 # J / Hz\n",
    "a = np.sqrt(k_b * T / m_n)\n",
    "a"
   ]
  },
  {
   "cell_type": "code",
   "execution_count": null,
   "metadata": {},
   "outputs": [],
   "source": [
    "max_v = np.sqrt(2) * a\n",
    "max_v"
   ]
  },
  {
   "cell_type": "code",
   "execution_count": null,
   "metadata": {},
   "outputs": [],
   "source": [
    "v = np.linspace(300,6000,10000)\n",
    "pdf_v = maxwell.pdf(v, scale=a)\n",
    "min_y = np.min(pdf_v)\n",
    "max_y = np.max(pdf_v)\n",
    "plt.plot(v, pdf_v, 'r-',alpha=0.6,label='maxwell pdf')\n",
    "plt.ylim(min_y,max_y)\n",
    "plt.xlabel('v [m/s]')\n",
    "plt.ylabel('pdf')\n",
    "plt.axvline(max_v, linestyle='--')\n",
    "plt.grid()"
   ]
  },
  {
   "cell_type": "markdown",
   "metadata": {},
   "source": [
    "$$\\lambda = \\frac{h}{mv}$$"
   ]
  },
  {
   "cell_type": "code",
   "execution_count": null,
   "metadata": {},
   "outputs": [],
   "source": [
    "wavelength = h / (m_n *v)\n",
    "plt.plot(v, wavelength)"
   ]
  },
  {
   "cell_type": "markdown",
   "metadata": {},
   "source": [
    "Original pdf\n",
    "$$\\int f_v dv = 1$$\n",
    "Todo: find $f_\\lambda$ such that\n",
    "$$\\int f_\\lambda d\\lambda = 1$$\n",
    "With $\\lambda = \\frac{h}{m_n v}$\n",
    "$$\\implies d\\lambda = \\frac{-h}{m_n v ^ 2}dv$$\n",
    "$$\\implies dv = \\frac{-m_n v ^ 2}{h}d\\lambda$$\n",
    "\n",
    "In practice, reordering the bounds of the integral will cancel the $-1$ factor.\n"
   ]
  },
  {
   "cell_type": "code",
   "execution_count": null,
   "metadata": {},
   "outputs": [],
   "source": [
    "print(wavelength)\n",
    "f_v_to_f_wave = m_n * v**2 / h \n",
    "f_v_to_f_wave = h / (m_n * wavelength ** 2)\n",
    "pdf_wave = pdf_v * f_v_to_f_wave\n",
    "plt.plot(wavelength * 1e10, pdf_wave, 'r',alpha=0.6,label='maxwell pdf')\n",
    "# plt.ylim(0,0.0004)\n",
    "plt.xlabel(r'$\\lambda$ [Å]')\n",
    "plt.ylabel('pdf')\n",
    "plt.grid()"
   ]
  },
  {
   "cell_type": "code",
   "execution_count": null,
   "metadata": {},
   "outputs": [],
   "source": [
    "np.sum(pdf_wave * 1e-10)"
   ]
  },
  {
   "cell_type": "markdown",
   "metadata": {},
   "source": [
    "# Direct computation using transformed Maxwell-Boltzmann"
   ]
  },
  {
   "cell_type": "code",
   "execution_count": null,
   "metadata": {},
   "outputs": [],
   "source": [
    "def comp_pdf_wave(wavelength, T):\n",
    "    a = np.sqrt(k_b * T / m_n)\n",
    "    return maxwell.pdf(h / (m_n * wavelength), scale=a) * h / (m_n * wavelength ** 2)\n",
    "\n",
    "w_0 = 2.165e-10\n",
    "w_1 = 4e-10\n",
    "w_2 = 8e-10\n",
    "T = 20\n",
    "center_1 = comp_pdf_wave(w_1,T)\n",
    "center_2 = comp_pdf_wave(w_2,T)\n",
    "center_1/center_2\n",
    "\n",
    "wavelength = np.linspace(0.01e-10, 12e-10, 10000) # m\n",
    "d_wavelength = wavelength[1] - wavelength[0]\n",
    "v = h / (m_n * wavelength)\n",
    "# T is in Kelvin\n",
    "for T in [20,290]:\n",
    "    a = np.sqrt(k_b * T / m_n)\n",
    "    pdf_wave = comp_pdf_wave(wavelength, T)\n",
    "    plt.plot(wavelength * 1e10, pdf_wave,label=r'$T=' +str(T)+r'$K')\n",
    "    # plt.ylim(0,0.0004)\n",
    "    plt.xlabel(r'$\\lambda$ [Å]')\n",
    "    plt.ylabel(r'$f_\\lambda$')\n",
    "for w in [w_0, w_1, w_2]:\n",
    "    plt.axvline(w * 1e10, linestyle='--')\n",
    "plt.grid()\n",
    "plt.legend()"
   ]
  },
  {
   "cell_type": "markdown",
   "metadata": {},
   "source": [
    "# Monochromators\n",
    "$\\lambda = 8 Å$ means a helical slot velocity selector rotating at a set velocity.\n",
    "$\\lambda = 4 Å$ means a pyroletic graphite crystal rotated to the correct angle.\n",
    "\n",
    "[FWHM](https://en.wikipedia.org/wiki/Full_width_at_half_maximum) is a common term when expressing $\\Delta\\lambda/\\lambda$, and the relation to a Gauss is through $\\Delta\\lambda = 2 \\sqrt{2\\ln2} \\sigma$\n",
    "\n",
    "For the helical slot velocity selector  $\\Delta\\lambda \\approx 0.1\\lambda$, for the PG crystal $\\Delta\\lambda \\approx 0.01\\lambda$ "
   ]
  },
  {
   "cell_type": "code",
   "execution_count": null,
   "metadata": {},
   "outputs": [],
   "source": [
    "def filter(wavelengths, center_wavelength, delta_wavelength):\n",
    "    sigma = delta_wavelength / (2 * np.sqrt(2 * np.log(2)))\n",
    "    return np.exp(-(wavelengths - center_wavelength) ** 2 / (2 * sigma**2))\n",
    "monochrom_options = [(w_1,0.01), (w_2, 0.05), (w_2, 0.1), (w_2, 0.2)]\n",
    "monochrom_transfer = np.zeros((4, len(wavelength)))\n",
    "\n",
    "for (i,(w_0, f)) in enumerate(monochrom_options):\n",
    "    monochrom_transfer[i] = filter(wavelength, w_0, f * w_0)\n",
    "\n",
    "for transfer in monochrom_transfer:\n",
    "    plt.plot(wavelength * 1e10, transfer)  \n",
    "plt.xlabel(r'$\\lambda$ [Å]')\n",
    "plt.ylabel(r'$f_\\lambda$')\n",
    "plt.grid()"
   ]
  },
  {
   "cell_type": "code",
   "execution_count": null,
   "metadata": {},
   "outputs": [],
   "source": [
    "T = 20\n",
    "pdf_wave = comp_pdf_wave(wavelength, T)\n",
    "selected = pdf_wave * monochrom_transfer\n",
    "for selected_i in selected:\n",
    "    plt.plot(wavelength * 1e10, selected_i)\n",
    "plt.xlabel(r'$\\lambda$ [Å]')\n",
    "plt.ylabel(r'$f_\\lambda$')\n",
    "plt.grid()"
   ]
  },
  {
   "cell_type": "code",
   "execution_count": null,
   "metadata": {},
   "outputs": [],
   "source": [
    "from scipy import integrate\n",
    "flux_fraction = integrate.trapezoid(selected, axis=1) * d_wavelength\n",
    "print(flux_fraction)\n",
    "flux_fraction[2]/flux_fraction[0]"
   ]
  }
 ],
 "metadata": {
  "kernelspec": {
   "display_name": "bep",
   "language": "python",
   "name": "python3"
  },
  "language_info": {
   "codemirror_mode": {
    "name": "ipython",
    "version": 3
   },
   "file_extension": ".py",
   "mimetype": "text/x-python",
   "name": "python",
   "nbconvert_exporter": "python",
   "pygments_lexer": "ipython3",
   "version": "3.12.3"
  }
 },
 "nbformat": 4,
 "nbformat_minor": 2
}

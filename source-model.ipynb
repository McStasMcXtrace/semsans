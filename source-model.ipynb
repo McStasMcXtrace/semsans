{
 "cells": [
  {
   "cell_type": "code",
   "execution_count": null,
   "metadata": {},
   "outputs": [],
   "source": [
    "import numpy as np\n",
    "from scipy.stats import maxwell\n",
    "import matplotlib.pyplot as plt"
   ]
  },
  {
   "cell_type": "markdown",
   "metadata": {},
   "source": [
    "$$E_{peak} = k_bT$$\n",
    "$$v_{max} = \\sqrt{E_{peak} / m}$$"
   ]
  },
  {
   "cell_type": "code",
   "execution_count": null,
   "metadata": {},
   "outputs": [],
   "source": [
    "k_b = 1.380649e-23 # J/K\n",
    "T = 20 # K \n",
    "m_n = 1.67492749804e-27 # kg\n",
    "h = 6.62607015e-34 # J / Hz\n",
    "a = np.sqrt(k_b * T / m_n)\n",
    "a"
   ]
  },
  {
   "cell_type": "code",
   "execution_count": null,
   "metadata": {},
   "outputs": [],
   "source": [
    "max_v = np.sqrt(2) * a\n",
    "max_v"
   ]
  },
  {
   "cell_type": "code",
   "execution_count": null,
   "metadata": {},
   "outputs": [],
   "source": [
    "v = np.linspace(300,6000,10000)\n",
    "pdf_v = maxwell.pdf(v, scale=a)\n",
    "min_y = np.min(pdf_v)\n",
    "max_y = np.max(pdf_v)\n",
    "plt.plot(v, pdf_v, 'r-',alpha=0.6,label='maxwell pdf')\n",
    "plt.ylim(min_y,max_y)\n",
    "plt.xlabel('v [m/s]')\n",
    "plt.ylabel('pdf')\n",
    "plt.vlines(max_v, linestyles='--', ymin=min_y, ymax = max_y)\n",
    "plt.grid()"
   ]
  },
  {
   "cell_type": "markdown",
   "metadata": {},
   "source": [
    "$$\\lambda = \\frac{h}{mv}$$"
   ]
  },
  {
   "cell_type": "code",
   "execution_count": null,
   "metadata": {},
   "outputs": [],
   "source": [
    "wavelength = h / (m_n *v)\n",
    "plt.plot(v, wavelength)"
   ]
  },
  {
   "cell_type": "markdown",
   "metadata": {},
   "source": [
    "Original pdf\n",
    "$$\\int f_v dv = 1$$\n",
    "Todo: find $f_\\lambda$ such that\n",
    "$$\\int f_\\lambda d\\lambda = 1$$\n",
    "With $\\lambda = \\frac{h}{m_n v}$\n",
    "$$\\implies d\\lambda = \\frac{h}{m_n v ^ 2}dv$$\n",
    "$$\\implies dv = \\frac{m_n v ^ 2}{h}d\\lambda$$\n"
   ]
  },
  {
   "cell_type": "code",
   "execution_count": null,
   "metadata": {},
   "outputs": [],
   "source": [
    "print(wavelength)\n",
    "f_v_to_f_wave = m_n * v**2 / h \n",
    "f_v_to_f_wave = h / (m_n * wavelength ** 2)\n",
    "pdf_wave = pdf_v * f_v_to_f_wave\n",
    "plt.plot(wavelength * 1e10, pdf_wave, 'r',alpha=0.6,label='maxwell pdf')\n",
    "# plt.ylim(0,0.0004)\n",
    "plt.xlabel(r'$\\lambda$ [Å]')\n",
    "plt.ylabel('pdf')\n",
    "plt.grid()"
   ]
  },
  {
   "cell_type": "code",
   "execution_count": null,
   "metadata": {},
   "outputs": [],
   "source": [
    "np.sum(pdf_wave * 1e-10)"
   ]
  },
  {
   "cell_type": "markdown",
   "metadata": {},
   "source": [
    "# Direct computation using transformed Maxwell-Boltzmann"
   ]
  },
  {
   "cell_type": "code",
   "execution_count": null,
   "metadata": {},
   "outputs": [],
   "source": [
    "def comp_pdf_wave(wavelength, T):\n",
    "    a = np.sqrt(k_b * T / m_n)\n",
    "    return maxwell.pdf(h / (m_n * wavelength), scale=a) * h / (m_n * wavelength ** 2)\n",
    "\n",
    "wavelength = np.linspace(0.01e-10, 10e-10, 10000) # m\n",
    "v = h / (m_n * wavelength)\n",
    "# T is in Kelvin\n",
    "for T in [20,290]:\n",
    "    a = np.sqrt(k_b * T / m_n)\n",
    "    pdf_wave = comp_pdf_wave(wavelength, T)\n",
    "    plt.plot(wavelength * 1e10, pdf_wave,label=r'$T=' +str(T)+r'$K')\n",
    "    # plt.ylim(0,0.0004)\n",
    "    plt.xlabel(r'$\\lambda$ [Å]')\n",
    "    plt.ylabel(r'$f_\\lambda$')\n",
    "plt.grid()\n",
    "plt.legend()"
   ]
  },
  {
   "cell_type": "code",
   "execution_count": null,
   "metadata": {},
   "outputs": [],
   "source": [
    "w_1 = 4e-10\n",
    "w_2 = 8e-10\n",
    "T = 20\n",
    "center_1 = comp_pdf_wave(w_1,T)\n",
    "center_2 = comp_pdf_wave(w_2,T)\n",
    "center_1/center_2"
   ]
  },
  {
   "cell_type": "markdown",
   "metadata": {},
   "source": [
    "# Monochromators\n",
    "$\\lambda = 8 Å$ means a helical slot velocity selector rotating at a set velocity.\n",
    "$\\lambda = 4 Å$ means a pyroletic graphite crystal rotated to the correct angle.\n",
    "\n",
    "[FWHM](https://en.wikipedia.org/wiki/Full_width_at_half_maximum) is a common term when expressing $\\Delta\\lambda/\\lambda$, and the relation to a Gauss is through $\\Delta\\lambda = 2 \\sqrt{2\\ln2} \\sigma$\n",
    "\n",
    "For the helical slot velocity selector  $\\Delta\\lambda \\approx 0.1\\lambda$, for the PG crystal $\\Delta\\lambda \\approx 0.01\\lambda$ "
   ]
  }
 ],
 "metadata": {
  "kernelspec": {
   "display_name": "bep",
   "language": "python",
   "name": "python3"
  },
  "language_info": {
   "codemirror_mode": {
    "name": "ipython",
    "version": 3
   },
   "file_extension": ".py",
   "mimetype": "text/x-python",
   "name": "python",
   "nbconvert_exporter": "python",
   "pygments_lexer": "ipython3",
   "version": "3.12.3"
  }
 },
 "nbformat": 4,
 "nbformat_minor": 2
}

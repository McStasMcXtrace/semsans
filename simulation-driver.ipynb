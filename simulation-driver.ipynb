{
 "cells": [
  {
   "cell_type": "markdown",
   "metadata": {},
   "source": [
    "# Simulation command generation from simulation sheet\n",
    ">'It's turtles all the way down!'\n",
    "\n",
    "Plan: \n",
    "- Have array of sample settings, maybe optimized to give comparable $\\sigma t$ to give comparable signal strength."
   ]
  },
  {
   "cell_type": "code",
   "execution_count": 2,
   "metadata": {},
   "outputs": [
    {
     "name": "stdout",
     "output_type": "stream",
     "text": [
      "R = 1000.0nm, t = 0.001m:\n",
      "\t lambda = 2.165 Å: sigma * t: 0.055121766, permissible: False\n",
      "\t Optimal t: t=0.0012033042843946863\n",
      "\t lambda = 4.321 Å: sigma * t: 0.21957144215999996, permissible: True\n",
      "\t Optimal t: t=0.0003020805280445737\n",
      "\t lambda = 8 Å: sigma * t: 0.75264, permissible: True\n",
      "\t Optimal t: t=8.812746756909194e-05\n",
      "R = 300.0nm, t = 0.003m:\n",
      "\t lambda = 2.165 Å: sigma * t: 0.0496095894, permissible: False\n",
      "\t Optimal t: t=0.004011014281315621\n",
      "\t lambda = 4.321 Å: sigma * t: 0.19761429794399998, permissible: True\n",
      "\t Optimal t: t=0.0010069350934819121\n",
      "\t lambda = 8 Å: sigma * t: 0.677376, permissible: True\n",
      "\t Optimal t: t=0.0002937582252303065\n",
      "R = 50.0nm, t = 0.01m:\n",
      "\t lambda = 2.165 Å: sigma * t: 0.027560883, permissible: False\n",
      "\t Optimal t: t=0.024066085687893726\n",
      "\t lambda = 4.321 Å: sigma * t: 0.10978572107999997, permissible: True\n",
      "\t Optimal t: t=0.006041610560891475\n",
      "\t lambda = 8 Å: sigma * t: 0.37632, permissible: True\n",
      "\t Optimal t: t=0.0017625493513818387\n"
     ]
    }
   ],
   "source": [
    "from definitions import s_t\n",
    "import numpy as np\n",
    "\n",
    "\n",
    "# Sample (R, t) [(m,m)]\n",
    "samples = [(1e-6, 1e-3), (300e-9, 3e-3), (50e-9, 10e-3)]\n",
    "# Source (L0, DL) [(m,m)]\n",
    "sources = [(2.165, 0.02165), (4.321, 0.04321), (8, 0.8)]\n",
    "# Universal sample parameters (?)\n",
    "phi = 0.02\n",
    "\n",
    "delta_rho = 2e14 # 1/m^2 (?)\n",
    "for (R, t) in samples:\n",
    "    print(F\"R = {R * 1e9}nm, t = {t}m:\")\n",
    "    for (L0, DL) in sources:\n",
    "        st = s_t(R,t, L0 * 1e-10, phi, delta_rho)\n",
    "        permissible = st < 0.8 and st >= 0.1\n",
    "        print(f\"\\t lambda = {L0} Å: sigma * t: {st}, permissible: {permissible}\")\n",
    "        sigma = s_t(R,t, L0 * 1e-10) / t\n",
    "        t_optimum = 0.45 / sigma\n",
    "        print(f\"\\t Optimal t: t={t_optimum}\")\n",
    "        # print(s_t(R,t_optimum, L0 * 1e-10))"
   ]
  },
  {
   "cell_type": "code",
   "execution_count": 3,
   "metadata": {},
   "outputs": [
    {
     "name": "stdout",
     "output_type": "stream",
     "text": [
      "R = 1000.0nm, t = 0.001m:\n",
      "\t lambda = 4.321 Å: \n",
      "\t\ts*t: 0.179025110787744\n",
      "\t\t0.1 <= s*t <= 0.8: True\n",
      "\t lambda = 8 Å: \n",
      "\t\ts*t: 0.613656576\n",
      "\t\t0.1 <= s*t <= 0.8: True\n",
      "R = 300.0nm, t = 0.001m:\n",
      "\t lambda = 4.321 Å: \n",
      "\t\ts*t: 0.0537075332363232\n",
      "\t\t0.1 <= s*t <= 0.8: False\n",
      "\t lambda = 8 Å: \n",
      "\t\ts*t: 0.18409697279999998\n",
      "\t\t0.1 <= s*t <= 0.8: True\n",
      "R = 50.0nm, t = 0.01m:\n",
      "\t lambda = 4.321 Å: \n",
      "\t\ts*t: 0.08951255539387198\n",
      "\t\t0.1 <= s*t <= 0.8: False\n",
      "\t lambda = 8 Å: \n",
      "\t\ts*t: 0.30682828799999995\n",
      "\t\t0.1 <= s*t <= 0.8: True\n"
     ]
    }
   ],
   "source": [
    "from definitions import s_t\n",
    "\n",
    "\n",
    "# Sample (R, t) [(m,m)]\n",
    "samples = [(1e-6, 1e-3), (300e-9, 1e-3), (50e-9, 10e-3)]\n",
    "# Source (L0, DL) [(m,m)]\n",
    "sources = [(4.321, 0.04321), (8, 0.8)]\n",
    "# Universal sample parameters (?)\n",
    "phi = 0.015\n",
    "\n",
    "delta_rho = 2.08e14 # 1/m^2 (?)\n",
    "for (R, t) in samples:\n",
    "    print(F\"R = {R * 1e9}nm, t = {t}m:\")\n",
    "    for (L0, DL) in sources:\n",
    "        st = s_t(R,t, L0 * 1e-10, phi, delta_rho)\n",
    "        permissible = st < 0.8 and st >= 0.1\n",
    "        print(f\"\\t lambda = {L0} Å: \")\n",
    "        print(f\"\\t\\ts*t: {st}\\n\\t\\t0.1 <= s*t <= 0.8: {permissible}\")\n",
    "        sigma = s_t(R,t, L0 * 1e-10) / t\n",
    "        t_optimum = 0.45 / sigma\n",
    "        # print(f\"\\t Optimal t: t={t_optimum}\")\n",
    "        # print(s_t(R,t_optimum, L0 * 1e-10))"
   ]
  },
  {
   "cell_type": "code",
   "execution_count": 4,
   "metadata": {},
   "outputs": [
    {
     "name": "stdout",
     "output_type": "stream",
     "text": [
      "7.810e+14\n"
     ]
    }
   ],
   "source": [
    "print(\"{:,.3e}\".format(np.sqrt(6.1e-7) * 1e18))"
   ]
  },
  {
   "cell_type": "code",
   "execution_count": 46,
   "metadata": {},
   "outputs": [
    {
     "name": "stdout",
     "output_type": "stream",
     "text": [
      "Constant parameters: drho = 1.9e14 m^-2; phi = 0.015\n",
      "R = 2000.0nm, t = 1.0mm, lambda = 4.321 Å:\n",
      "\ts*t: 0.298761395129325\n",
      "\t0.1 <= s*t <= 0.8: True\n",
      "R = 2000.0nm, t = 1.0mm, lambda = 8 Å:\n",
      "\ts*t: 1.0240848\n",
      "\t0.1 <= s*t <= 0.8: False\n",
      "R = 300.0nm, t = 10.0mm, lambda = 4.321 Å:\n",
      "\ts*t: 0.4481420926939874\n",
      "\t0.1 <= s*t <= 0.8: True\n",
      "R = 300.0nm, t = 5.0mm, lambda = 8 Å:\n",
      "\ts*t: 0.7680636\n",
      "\t0.1 <= s*t <= 0.8: True\n",
      "R = 50.0nm, t = 10.0mm, lambda = 4.321 Å:\n",
      "\ts*t: 0.07469034878233123\n",
      "\t0.1 <= s*t <= 0.8: False\n",
      "R = 50.0nm, t = 10.0mm, lambda = 8 Å:\n",
      "\ts*t: 0.2560212\n",
      "\t0.1 <= s*t <= 0.8: True\n"
     ]
    }
   ],
   "source": [
    "from definitions import s_t\n",
    "\n",
    "\n",
    "# Sample (R, t) [(m,m)]\n",
    "samples = [(1e-6, 1e-3), (300e-9, 1e-3), (50e-9, 10e-3)]\n",
    "# Source (L0, DL) [(m,m)]\n",
    "sources = [(4.321, 0.04321), (8, 0.8)]\n",
    "\n",
    "# Source sample (thickness) pairing (L0, DL, R, t)\n",
    "source_sample = [(4.321, 0.04321, 2e-6, 1e-3), (8, 0.8, 2e-6, 1e-3), (4.321, 0.04321, 300e-9, 10e-3), (8, 0.8, 300e-9, 5e-3), (4.321, 0.04321, 50e-9, 10e-3), (8, 0.8,50e-9, 10e-3)]\n",
    "# Universal sample parameters (?)\n",
    "phi = 0.015\n",
    "\n",
    "delta_rho = 1.8e14 # 1/m^2 (?)\n",
    "print(f\"Constant parameters: drho = {delta_rho * 1e-14}e14 m^-2; phi = {phi}\")\n",
    "for (L0, DL, R, t) in source_sample:\n",
    "    print(F\"R = {R * 1e9}nm, t = {round(t * 1e3,2)}mm, lambda = {L0} Å:\")\n",
    "    st = s_t(R,t, L0 * 1e-10, phi, delta_rho)\n",
    "    permissible = st < 0.8 and st >= 0.1\n",
    "    print(f\"\\ts*t: {st}\\n\\t0.1 <= s*t <= 0.8: {permissible}\")\n",
    "    sigma = s_t(R,t, L0 * 1e-10) / t\n",
    "    t_optimum = 0.38 / sigma\n",
    "    # print(f\"\\tOptimal t: t={round(t_optimum * 1e3, 2)}mm\")\n",
    "    # print(s_t(R,t_optimum, L0 * 1e-10))"
   ]
  },
  {
   "cell_type": "markdown",
   "metadata": {},
   "source": [
    "# Milk sample (from dairy paper)"
   ]
  },
  {
   "cell_type": "code",
   "execution_count": 36,
   "metadata": {},
   "outputs": [
    {
     "name": "stdout",
     "output_type": "stream",
     "text": [
      "0.03887758841183999\n",
      "0.13326336\n"
     ]
    }
   ],
   "source": [
    "delta_rho = 2.0e14 # 1/m^2 (?)\n",
    "phi = 0.036\n",
    "R = 50e-9\n",
    "t = 2e-3\n",
    "for (L0, _) in sources:\n",
    "    st = s_t(R,t, L0 * 1e-10, phi, delta_rho)\n",
    "    print(st)"
   ]
  }
 ],
 "metadata": {
  "kernelspec": {
   "display_name": "bep",
   "language": "python",
   "name": "python3"
  },
  "language_info": {
   "codemirror_mode": {
    "name": "ipython",
    "version": 3
   },
   "file_extension": ".py",
   "mimetype": "text/x-python",
   "name": "python",
   "nbconvert_exporter": "python",
   "pygments_lexer": "ipython3",
   "version": "3.12.3"
  }
 },
 "nbformat": 4,
 "nbformat_minor": 2
}

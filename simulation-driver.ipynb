{
 "cells": [
  {
   "cell_type": "markdown",
   "metadata": {},
   "source": [
    "# Simulation command generation from simulation sheet\n",
    ">'It's turtles all the way down!'\n",
    "\n",
    "Plan: \n",
    "- Have array of sample settings, maybe optimized to give comparable $\\sigma t$ to give comparable signal strength."
   ]
  },
  {
   "cell_type": "code",
   "execution_count": null,
   "metadata": {},
   "outputs": [],
   "source": [
    "from definitions import s_t\n",
    "import numpy as np\n",
    "import pandas as pd\n",
    "import os \n",
    "\n",
    "\n",
    "# Sample (R, t) [(m,m)]\n",
    "samples = [(1e-6, 1e-3), (300e-9, 3e-3), (50e-9, 10e-3)]\n",
    "# Source (L0, DL) [(m,m)]\n",
    "sources = [(2.165, 0.02165), (4.321, 0.04321), (8, 0.8)]\n",
    "# Universal sample parameters (?)\n",
    "phi = 0.02\n",
    "\n",
    "delta_rho = 2e14 # 1/m^2 (?)\n",
    "for (R, t) in samples:\n",
    "    print(F\"R = {R * 1e9}nm, t = {t}m:\")\n",
    "    for (L0, DL) in sources:\n",
    "        st = s_t(R,t, L0 * 1e-10, phi, delta_rho)\n",
    "        permissible = st < 0.8 and st >= 0.1\n",
    "        print(f\"\\t lambda = {L0} Å: sigma * t: {st}, permissible: {permissible}\")\n",
    "        sigma = s_t(R,t, L0 * 1e-10) / t\n",
    "        t_optimum = 0.45 / sigma\n",
    "        print(f\"\\t Optimal t: t={t_optimum}\")\n",
    "        # print(s_t(R,t_optimum, L0 * 1e-10))"
   ]
  },
  {
   "cell_type": "code",
   "execution_count": null,
   "metadata": {},
   "outputs": [],
   "source": [
    "from definitions import s_t\n",
    "\n",
    "\n",
    "# Sample (R, t) [(m,m)]\n",
    "samples = [(1e-6, 1e-3), (300e-9, 1e-3), (50e-9, 10e-3)]\n",
    "# Source (L0, DL) [(m,m)]\n",
    "sources = [(4.321, 0.04321), (8, 0.8)]\n",
    "# Universal sample parameters (?)\n",
    "phi = 0.015\n",
    "\n",
    "delta_rho = 2.08e14 # 1/m^2 (?)\n",
    "for (R, t) in samples:\n",
    "    print(F\"R = {R * 1e9}nm, t = {t}m:\")\n",
    "    for (L0, DL) in sources:\n",
    "        st = s_t(R,t, L0 * 1e-10, phi, delta_rho)\n",
    "        permissible = st < 0.8 and st >= 0.1\n",
    "        print(f\"\\t lambda = {L0} Å: \")\n",
    "        print(f\"\\t\\ts*t: {st}\\n\\t\\t0.1 <= s*t <= 0.8: {permissible}\")\n",
    "        sigma = s_t(R,t, L0 * 1e-10) / t\n",
    "        t_optimum = 0.45 / sigma\n",
    "        # print(f\"\\t Optimal t: t={t_optimum}\")\n",
    "        # print(s_t(R,t_optimum, L0 * 1e-10))"
   ]
  },
  {
   "cell_type": "code",
   "execution_count": null,
   "metadata": {},
   "outputs": [],
   "source": [
    "print(\"{:,.3e}\".format(np.sqrt(6.1e-7) * 1e18))"
   ]
  },
  {
   "cell_type": "code",
   "execution_count": null,
   "metadata": {},
   "outputs": [],
   "source": [
    "from definitions import *\n",
    "\n",
    "\n",
    "# Sample (R, t) [(m,m)]\n",
    "samples = [(1e-6, 1e-3), (300e-9, 1e-3), (50e-9, 10e-3)]\n",
    "Rs = [2e-6, 300e-9, 50e-9]\n",
    "# Source (L0, DL) [(m,m)]\n",
    "sources = [(4.321, 0.04321), (8, 0.8)]\n",
    "\n",
    "# Source sample (thickness) pairing (L0, DL, R, t)\n",
    "source_sample = [(4.321, 0.04321, 2e-6, 1e-3), (8, 0.8, 2e-6, 1e-3), (4.321, 0.04321, 300e-9, 10e-3), (8, 0.8, 300e-9, 5e-3), (4.321, 0.04321, 50e-9, 10e-3), (8, 0.8,50e-9, 10e-3)]\n",
    "\n",
    "thickness_map = {\n",
    "    (4.321, 2e-6):  1e-3,\n",
    "    (8, 2e-6):  1e-3,\n",
    "    (4.321, 300e-9): 10e-3,\n",
    "    (8, 300e-9): 5e-3,\n",
    "    (4.321, 50e-9): 10e-3,\n",
    "    (8, 50e-9): 10e-3,\n",
    "}\n",
    "# Universal sample parameters (?)\n",
    "phi = 0.015\n",
    "\n",
    "delta_rho = 1.8e14 # 1/m^2 (?)\n",
    "print(f\"Constant parameters: drho = {delta_rho * 1e-14}e14 m^-2; phi = {phi}\")\n",
    "for (L0, DL, R, t) in source_sample:\n",
    "    # print(thickness_map[(L0, R)])\n",
    "    print(F\"R = {R * 1e9}nm, t = {round(t * 1e3,2)}mm, lambda = {L0} Å:\")\n",
    "    st = s_t(R,t, L0 * 1e-10, phi, delta_rho)\n",
    "    permissible = st < 0.8 and st >= 0.1\n",
    "    print(f\"\\ts*t: {st}\\n\\t0.1 <= s*t <= 0.8: {permissible}\")\n",
    "    sigma = s_t(R,t, L0 * 1e-10) / t\n",
    "    t_optimum = 0.38 / sigma"
   ]
  },
  {
   "cell_type": "code",
   "execution_count": null,
   "metadata": {},
   "outputs": [],
   "source": [
    "import pandas as pd\n",
    "import os \n",
    "df = pd.read_csv('simulations.csv', sep=',', header=0)\n",
    "\n",
    "class Instrument:\n",
    "    def __init__(self, id: str,  prec_type: str, L0: float, DL: float, theta_0: float, By_min: float, By_max: float):\n",
    "        self.id = id\n",
    "        self.prec_type = prec_type\n",
    "        self.L0 = L0\n",
    "        self.DL = DL\n",
    "        self.theta_0 = theta_0\n",
    "        self.By_min = By_min \n",
    "        self.By_max = By_max\n",
    "\n",
    "    def delta_min(self):\n",
    "        return compute_z(self.By_min,self.theta_0,self.L0)\n",
    "    \n",
    "    def delta_max(self):\n",
    "        # Due to the focussing condition, one component will have field By_max/2 and the other By_max, giving a delta of By_max/2\n",
    "        return compute_z(self.By_max/2,self.theta_0,self.L0)\n",
    "    \n",
    "    def __str__(self):\n",
    "        return f\"Instrument ID {self.id}\\n\\tSource: L0 = {self.L0 * 1e10} Å; DL = {self.DL * 1e10} Å\\n\\\n",
    "            \\tPrecession device: type = {self.prec_type}; theta_0 = {round(self.theta_0,2)} rad; By_min = {self.By_min * 1e3}mT; By_max = {self.By_max * 1e3}mT\\n\\\n",
    "            \\tdelta_y range: {round(self.delta_min() * 1e9,2)} - {round(self.delta_max() * 1e9, 2)}nm\"\n",
    "\n",
    "# print(df.values)\n",
    "instrs = []\n",
    "for r in df.values:\n",
    "    # print(r)\n",
    "    id = r[0]\n",
    "    L0 = float(r[1]) * 1e-10\n",
    "    DL = float(r[2]) * 1e-10\n",
    "    prec = r[4]\n",
    "    theta_0 = np.deg2rad(float(r[5]))\n",
    "    By_min = float(r[6]) * 1e-3\n",
    "    By_max = float(r[7]) * 1e-3\n",
    "    instr = Instrument(id, prec, L0, DL, theta_0, By_min, By_max)\n",
    "    instrs.append(instr)\n",
    "\n",
    "for instr in instrs:\n",
    "    print(str(instr))"
   ]
  },
  {
   "cell_type": "code",
   "execution_count": null,
   "metadata": {},
   "outputs": [],
   "source": [
    "instr = instrs[0]\n",
    "for R in Rs:\n",
    "    print(R)\n"
   ]
  },
  {
   "cell_type": "markdown",
   "metadata": {},
   "source": [
    "# Milk sample (from dairy paper)"
   ]
  },
  {
   "cell_type": "code",
   "execution_count": null,
   "metadata": {},
   "outputs": [],
   "source": [
    "delta_rho = 2.0e14 # 1/m^2 (?)\n",
    "phi = 0.036\n",
    "R = 50e-9\n",
    "t = 2e-3\n",
    "for (L0, _) in sources:\n",
    "    st = s_t(R,t, L0 * 1e-10, phi, delta_rho)\n",
    "    print(st)"
   ]
  }
 ],
 "metadata": {
  "kernelspec": {
   "display_name": "bep",
   "language": "python",
   "name": "python3"
  },
  "language_info": {
   "codemirror_mode": {
    "name": "ipython",
    "version": 3
   },
   "file_extension": ".py",
   "mimetype": "text/x-python",
   "name": "python",
   "nbconvert_exporter": "python",
   "pygments_lexer": "ipython3",
   "version": "3.12.3"
  }
 },
 "nbformat": 4,
 "nbformat_minor": 2
}

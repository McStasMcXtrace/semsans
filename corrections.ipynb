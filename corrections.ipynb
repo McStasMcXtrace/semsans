{
 "cells": [
  {
   "cell_type": "code",
   "execution_count": null,
   "metadata": {},
   "outputs": [],
   "source": [
    "import numpy as np\n",
    "import matplotlib.pyplot as plt\n",
    "from definitions import *\n",
    "from scipy import integrate"
   ]
  },
  {
   "cell_type": "markdown",
   "metadata": {},
   "source": [
    "# $Q$-range corrections"
   ]
  },
  {
   "cell_type": "markdown",
   "metadata": {},
   "source": [
    "## Their definitions\n",
    "Rewriting to normal Euclidean coordinates,\n",
    "$$G_1(\\delta) = \\frac{1}{2\\pi\\xi_t}\\int_0^\\infty J_0(Q\\delta)\\dfrac{d\\sigma(Q)}{d\\Omega}QdQ \\equiv \\frac{1}{4\\pi^2\\xi_t}\\int_{-\\infty}^\\infty\\int_{-\\infty}^\\infty J_0(Q\\delta)\\dfrac{d\\sigma(Q)}{d\\Omega}dQ_xdQ_y$$\n",
    "$$s(\\delta) = G_1(\\delta)\\xi_t 4\\pi^2 t$$\n",
    "$$h(\\delta) = Tk_0^2[e^{s(\\delta)/k_0^2}-1]$$\n",
    "$$T = e^{-\\sigma t}$$\n",
    "## My definitions\n",
    "$$G_2(\\delta) = \\frac{t}{k_0^2}\\int_{-\\infty}^\\infty\\int_{-\\infty}^\\infty \\cos(Q\\delta)\\dfrac{d\\sigma(Q)}{d\\Omega}dQ_xdQ_y$$\n",
    "## Mapping\n",
    "$$G_1(\\delta) = \\frac{1}{\\xi_t t \\lambda_0^2}G_2(\\delta)$$\n",
    "\n",
    "So\n",
    "$$s(\\delta) = G_2(\\delta)k_0^2$$\n",
    "$$h(\\delta) = Tk_0^2[e^{s(\\delta)/k_0^2}-1] = Tk_0^2[e^{G_2(\\delta)}-1]$$\n",
    "Finally, using\n",
    "$$H(Q) = \\frac{1}{2\\pi}\\int_0^\\infty J_0(Q\\delta)h(\\delta)\\delta d\\delta$$\n",
    "\n",
    "\n",
    "$$V_s(\\delta) = \\frac{T + \\frac{2\\pi}{k_0^2}\\int_0^{Q_{max}} J_0(Q\\delta)H(Q)Q dQ}{T + \\frac{2\\pi}{k_0^2}\\int_0^{Q_{max}} H(Q)Q dQ}$$\n",
    "\n",
    "The bottom expression is a trick: instead of cancelling the modulation by adding measurements from the two analyser settings, ($I_{sum}$), you construct this by considering the 'modulation' at $\\delta=0$. In theory, this is the same as everything is polarized in the same way. \n",
    "\n",
    "This can be verified by seeing that they simplify when $Q_{max} \\to \\infty$ to\n",
    "$$V_s(\\delta) = \\frac{T + h(\\delta)/k_0^2}{T + h(0)/k_0^2} = e^{[s(\\delta) - s(0)]/k_0^2}$$\n",
    "\n",
    "## Final expression\n",
    "The question is: can I now do a slightly forbidden thing by using the variant with cosine transform\n",
    "$$H(Q_y) = \\frac{1}{2\\pi}\\int_0^\\infty \\cos(Q_y\\delta)h(\\delta) d\\delta$$\n",
    "and\n",
    "$$V_s(\\delta) = \\frac{T + \\frac{2\\pi}{k_0^2}\\int_{-Q_{max}}^{Q_{max}}\\int_{-Q_{max}}^{Q_{max}} \\cos(Q_y\\delta)H(Q_y) dQ_xdQ_y}{T + \\frac{2\\pi}{k_0^2}\\int_{-Q_{max}}^{Q_{max}}\\int_{-Q_{max}}^{Q_{max}} H(Q_y) dQ_xdQ_y}$$\n",
    "\n",
    "All constants before integrals are uncertain...\n",
    "\n",
    "### Between step\n",
    "I'm not entirely sure whether the above correction will work. After all, the integral is not a function of Q_x anymore, meaning that this will diverge. In 1D, a starting might be to ignore the effect of the $x$-integration, assuming an infinitely wide detector that picks up all $Q$ along that axis. Even then, there will be a correction due to the incomplete cosine transformation.\n",
    "$$V_s(\\delta) = \\frac{T + \\frac{2\\pi}{k_0^2}\\int_{-Q_{max}}^{Q_{max}} \\cos(Q_y\\delta)H(Q_y) dQ_y}{T + \\frac{2\\pi}{k_0^2}\\int_{-Q_{max}}^{Q_{max}} H(Q_y) dQ_y}$$\n",
    "Assuming isotropic scattering so that $\\dfrac{d\\sigma}{d\\Omega}(Q_x, Q_y) = \\dfrac{d\\sigma}{d\\Omega}\\left(\\sqrt{Q_x^2 + Q_y^2}\\right) = \\dfrac{d\\sigma}{d\\Omega}(Q)$,\n"
   ]
  },
  {
   "cell_type": "markdown",
   "metadata": {},
   "source": [
    "# From $G(\\delta)$ to $I(Q)$ using Hankel transforms"
   ]
  },
  {
   "cell_type": "code",
   "execution_count": null,
   "metadata": {},
   "outputs": [],
   "source": [
    "R = 1000e-10 # m\n",
    "delta = np.linspace(0,4e-7,1000000)\n",
    "d_delta = delta[1] - delta[0]\n",
    "xi = delta / R\n",
    "G_xi = G(delta, R)\n",
    "# G_xi_2 = G(delta, 2 * R)\n",
    "\n",
    "plt.plot(delta*1e9,G_xi)\n",
    "# plt.plot(delta*1e9,G_xi_2)\n",
    "plt.xlabel(r'$\\delta$ [nm]')\n",
    "plt.ylabel(r'$G(\\delta)$')\n",
    "plt.grid()"
   ]
  },
  {
   "cell_type": "markdown",
   "metadata": {},
   "source": [
    "# $\\sigma_t$ correction factor "
   ]
  },
  {
   "cell_type": "markdown",
   "metadata": {},
   "source": [
    "Assuming a Gaussian $\\lambda$ distribution, a more correct expression for $\\sigma_t$ averaged over all wavelengths can be derived from the second moment of the distribution. $\\tau \\propto \\lambda^2$, meaning that $E[\\lambda^2]$ gives the right value. For a normal distribution $N(\\lambda_0, \\sigma^2)$ it can be derived that as $Var(\\lambda) = \\sigma = \\sqrt{E[\\lambda^2] - E[\\lambda]^2} = \\sqrt{E[\\lambda^2] - \\lambda_0^2}$, \n",
    "$$E[\\lambda^2] = \\lambda_0^2 + \\sigma^2$$\n",
    "This means that the true average $\\bar{\\tau}$ over all $\\lambda$ is related to $\\tau(\\lambda_0)$ by\n",
    "$$\\frac{\\bar{\\tau}}{\\tau(\\lambda_0)} = 1 + \\frac{\\sigma^2}{\\lambda_0^2}$$\n",
    "\n",
    "In the most extreme case, $\\Delta\\lambda/\\lambda_0 = 0.1$ which gives $\\sigma/\\lambda_0 = 0.042467$. This gives a correction factor of $1.001803$ or only about $0.2\\%$. \n",
    "\n"
   ]
  },
  {
   "cell_type": "code",
   "execution_count": null,
   "metadata": {},
   "outputs": [],
   "source": [
    "0.04246609001440096**2"
   ]
  },
  {
   "cell_type": "code",
   "execution_count": null,
   "metadata": {},
   "outputs": [],
   "source": [
    "from scipy.special import j0\n",
    "fig, ax = plt.subplots()\n",
    "x = np.linspace(0, 0.2, 1000)\n",
    "for f in [1,5,10,30,100,250,1000]:\n",
    "    y = j0(x * f)\n",
    "    ax.plot(x, y)\n",
    "plt.show()"
   ]
  },
  {
   "cell_type": "code",
   "execution_count": null,
   "metadata": {},
   "outputs": [],
   "source": [
    "N_Q = 1000\n",
    "Q_min = 0.1/R\n",
    "Q_max = 100/R\n",
    "Q_range = np.linspace(Q_min, Q_max,N_Q)\n",
    "# print(Q_range)\n",
    "# Printed in Å^-1\n",
    "Q_min*1e-10, Q_max*1e-10"
   ]
  },
  {
   "cell_type": "code",
   "execution_count": null,
   "metadata": {},
   "outputs": [],
   "source": [
    "from scipy import fft\n",
    "import numpy as np\n",
    "import matplotlib.pyplot as plt\n",
    "\n",
    "mu = 0.0 # Order of Bessel function\n",
    "r = np.logspace(-7, 1, 128)  # Input evaluation points\n",
    "dln = np.log(r[1]/r[0])      # Step size\n",
    "offset = fft.fhtoffset(dln, initial=-6.*np.log(10), mu=mu, bias=-1.5)\n",
    "k = np.exp(offset)/r[::-1]   # Output evaluation points\n",
    "\n",
    "a = 0.5\n",
    "f = np.exp(-a*r)             # This is what I want to transform\n",
    "fk = k/np.sqrt((k**2+a**2)**3) # This is what I expect analytically (I looked it up from a table)\n",
    "# f_fht = fft.fht(f*r, dln, offset=offset, mu=mu)/k\n",
    "f_fht = fft.fht(f*r, dln, offset=offset, mu=mu, bias=-1.5)/k\n",
    "plt.loglog(k,fk,k,f_fht,'--')\n",
    "plt.show()"
   ]
  },
  {
   "cell_type": "markdown",
   "metadata": {},
   "source": [
    "# My attempt at numerical Hankel transform (it didn't go great...)"
   ]
  },
  {
   "cell_type": "code",
   "execution_count": null,
   "metadata": {},
   "outputs": [],
   "source": [
    "def hankel_transform(Q):\n",
    "    # delta = np.linspace(0,7e-7,1000)\n",
    "    # xi = delta / R\n",
    "    # G_xi = G(delta, R)\n",
    "    C = 1e-5\n",
    "    # print(Q.shape)\n",
    "    integrands = j0(Q *delta) * G_xi * Q *C\n",
    "    nan_ix = np.isnan(integrands)\n",
    "    integrands[nan_ix] = 0\n",
    "\n",
    "    # print(integrands)\n",
    "    # plt.plot(delta,integrands,'.')\n",
    "    # plt.show()\n",
    "    I_Q = integrate.trapezoid(integrands, dx = d_delta)\n",
    "    return 2 * np.pi * I_Q / C\n",
    "I = np.zeros_like(Q_range)\n",
    "for i in range(N_Q):\n",
    "    # print(Q_range[i])\n",
    "    I[i] = hankel_transform(Q_range[i])\n"
   ]
  },
  {
   "cell_type": "markdown",
   "metadata": {},
   "source": [
    "# Example numerical Hankel transform\n",
    "The Hankel transform of function\n",
    "$$f(r) = e^{-ar}$$\n",
    "is\n",
    "$$F(k) = \\frac{1}{\\sqrt{k^2 + a^2}^3}$$"
   ]
  },
  {
   "cell_type": "code",
   "execution_count": null,
   "metadata": {},
   "outputs": [],
   "source": [
    "from scipy import fft\n",
    "import numpy as np\n",
    "import matplotlib.pyplot as plt\n",
    "\n",
    "mu = 1.0 # Order of Bessel function\n",
    "r = np.logspace(-7, 1, 128)  # Input evaluation points\n",
    "dln = np.log(r[1]/r[0])      # Step size\n",
    "# offset = fft.fhtoffset(dln, initial=-6.*np.log(10), mu=mu)\n",
    "offset = fft.fhtoffset(dln, initial=-6.*np.log(10), mu=mu, bias=-1.5)\n",
    "k = np.exp(offset)/r[::-1]   # Output evaluation points\n",
    "\n",
    "a = 0.5\n",
    "f = np.exp(-a*r)             # This is what I want to transform\n",
    "fk = k/np.sqrt((k**2+a**2)**3) # This is what I expect analytically (I looked it up from a table)\n",
    "# f_fht = fft.fht(f*r, dln, offset=offset, mu=mu)/k\n",
    "f_fht = fft.fht(f*r, dln, offset=offset, mu=mu, bias=-1.5)/k\n",
    "plt.loglog(k,fk,k,f_fht,'--')\n",
    "plt.show()"
   ]
  },
  {
   "cell_type": "code",
   "execution_count": null,
   "metadata": {},
   "outputs": [],
   "source": [
    "Q_range, I\n",
    "plt.plot(Q_range,I)\n",
    "plt.yscale('log')"
   ]
  }
 ],
 "metadata": {
  "kernelspec": {
   "display_name": "bep",
   "language": "python",
   "name": "python3"
  },
  "language_info": {
   "codemirror_mode": {
    "name": "ipython",
    "version": 3
   },
   "file_extension": ".py",
   "mimetype": "text/x-python",
   "name": "python",
   "nbconvert_exporter": "python",
   "pygments_lexer": "ipython3",
   "version": "3.1.-1"
  }
 },
 "nbformat": 4,
 "nbformat_minor": 2
}

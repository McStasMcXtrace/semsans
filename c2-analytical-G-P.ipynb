{
 "cells": [
  {
   "cell_type": "code",
   "execution_count": null,
   "metadata": {},
   "outputs": [],
   "source": [
    "import numpy as np\n",
    "import matplotlib.pyplot as plt\n",
    "from definitions import *"
   ]
  },
  {
   "cell_type": "code",
   "execution_count": null,
   "metadata": {},
   "outputs": [],
   "source": [
    "R = 10000e-10 # m\n",
    "z = np.linspace(0,7e-6,1000)\n",
    "xi = z / R\n",
    "G_xi = G(z, R)\n",
    "G_xi_2 = G(z, 2 * R)\n",
    "\n",
    "plt.plot(z*1e6,G_xi)\n",
    "plt.plot(z*1e6,G_xi_2)\n",
    "plt.xlabel('z [um]')\n",
    "plt.ylabel('G(z)')\n",
    "plt.grid()"
   ]
  },
  {
   "cell_type": "code",
   "execution_count": null,
   "metadata": {},
   "outputs": [],
   "source": [
    "R = 10000e-10 # m\n",
    "Rs = [50e-9, 100e-9, 200e-9]\n",
    "for R in Rs:\n",
    "    z = np.linspace(0,500e-9,1000)\n",
    "    G_xi = G_norm(z, R)\n",
    "    # G_xi_2 = G_norm(z, 2 * R)\n",
    "\n",
    "    plt.plot(z*1e9,G_xi, label=rf'$R = {round(R * 1e9)}$ nm')\n",
    "    # plt.plot(z*1e6,G_xi_2)\n",
    "plt.xlabel(r'$\\delta$ [nm]')\n",
    "plt.ylabel(r'$G_0(\\delta)$')\n",
    "plt.xlim((0,500))\n",
    "plt.grid()\n",
    "plt.legend()\n",
    "plt.savefig(\"docs/analytical-G0.eps\",bbox_inches=\"tight\", pad_inches=0, format='eps')"
   ]
  },
  {
   "cell_type": "code",
   "execution_count": null,
   "metadata": {},
   "outputs": [],
   "source": [
    "P = P_analytical(z, R, t=1e-3, wavelength=2.165e-10)\n",
    "plt.plot(z*1e6,P)\n",
    "plt.xlabel('z [um]')\n",
    "plt.ylabel('P(z)')\n",
    "plt.grid()"
   ]
  }
 ],
 "metadata": {
  "kernelspec": {
   "display_name": "bep",
   "language": "python",
   "name": "python3"
  },
  "language_info": {
   "codemirror_mode": {
    "name": "ipython",
    "version": 3
   },
   "file_extension": ".py",
   "mimetype": "text/x-python",
   "name": "python",
   "nbconvert_exporter": "python",
   "pygments_lexer": "ipython3",
   "version": "3.12.3"
  }
 },
 "nbformat": 4,
 "nbformat_minor": 2
}

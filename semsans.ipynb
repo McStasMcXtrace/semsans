{
 "cells": [
  {
   "cell_type": "code",
   "execution_count": 24,
   "id": "b45e5af8-21f0-437f-84e2-ca097727db80",
   "metadata": {},
   "outputs": [],
   "source": [
    "import mcstasscript as ms\n",
    "my_configurator = ms.Configurator()\n",
    "my_configurator.set_mcrun_path(\"/usr/bin/\")\n",
    "my_configurator.set_mcstas_path(\"/usr/share/mcstas/3.4/\")"
   ]
  },
  {
   "cell_type": "code",
   "execution_count": 25,
   "id": "e13007c6-85f5-43c8-b2dd-ea482d67e331",
   "metadata": {},
   "outputs": [],
   "source": [
    "instrument = ms.McStas_instr(\"my_instrument\")\n",
    "L0=2.165\n",
    "DL=0.02\n",
    "By=4.68e-3\n",
    "AnaSign=1"
   ]
  },
  {
   "cell_type": "code",
   "execution_count": 26,
   "id": "52125956-e804-4b13-a342-8c238f418f5d",
   "metadata": {},
   "outputs": [
    {
     "name": "stdout",
     "output_type": "stream",
     "text": [
      "Here are the available component categories:\n",
      " contrib\n",
      " misc\n",
      " monitors\n",
      " obsolete\n",
      " optics\n",
      " samples\n",
      " sources\n",
      " union\n",
      "Call available_components(category_name) to display\n"
     ]
    }
   ],
   "source": [
    "instrument.available_components()"
   ]
  },
  {
   "cell_type": "code",
   "execution_count": 27,
   "id": "627465a5-84c0-447a-a3ae-dfa47621dadd",
   "metadata": {},
   "outputs": [
    {
     "name": "stdout",
     "output_type": "stream",
     "text": [
      " ___ Help Source_simple _____________________________________________________________\n",
      "|\u001b[1moptional parameter\u001b[0m|\u001b[1m\u001b[4mrequired parameter\u001b[0m\u001b[0m|\u001b[1m\u001b[94mdefault value\u001b[0m\u001b[0m|\u001b[1m\u001b[92muser specified value\u001b[0m\u001b[0m|\n",
      "\u001b[1mradius\u001b[0m = \u001b[1m\u001b[94m0.1\u001b[0m\u001b[0m [m] // Radius of circle in (x,y,0) plane where neutrons are \n",
      "                    generated. \n",
      "\u001b[1myheight\u001b[0m = \u001b[1m\u001b[94m0.0\u001b[0m\u001b[0m [m] // Height of rectangle in (x,y,0) plane where neutrons are \n",
      "                     generated. \n",
      "\u001b[1mxwidth\u001b[0m = \u001b[1m\u001b[94m0.0\u001b[0m\u001b[0m [m] // Width of rectangle in (x,y,0) plane where neutrons are \n",
      "                    generated. \n",
      "\u001b[1mdist\u001b[0m = \u001b[1m\u001b[94m0.0\u001b[0m\u001b[0m [m] // Distance to target along z axis.\n",
      "\u001b[1mfocus_xw\u001b[0m = \u001b[1m\u001b[94m0.045\u001b[0m\u001b[0m [m] // Width of target\n",
      "\u001b[1mfocus_yh\u001b[0m = \u001b[1m\u001b[94m0.12\u001b[0m\u001b[0m [m] // Height of target\n",
      "\u001b[1mE0\u001b[0m = \u001b[1m\u001b[94m0.0\u001b[0m\u001b[0m [meV] // Mean energy of neutrons.\n",
      "\u001b[1mdE\u001b[0m = \u001b[1m\u001b[94m0.0\u001b[0m\u001b[0m [meV] // Energy half spread of neutrons (flat or gaussian sigma).\n",
      "\u001b[1mlambda0\u001b[0m = \u001b[1m\u001b[94m0.0\u001b[0m\u001b[0m [AA] // Mean wavelength of neutrons.\n",
      "\u001b[1mdlambda\u001b[0m = \u001b[1m\u001b[94m0.0\u001b[0m\u001b[0m [AA] // Wavelength half spread of neutrons.\n",
      "\u001b[1mflux\u001b[0m = \u001b[1m\u001b[94m1.0\u001b[0m\u001b[0m [1/(s*cm**2*st*energy unit)] // flux per energy unit, Angs or meV if \n",
      "                                           flux=0, the source emits 1 in 4*PI whole \n",
      "                                           space. \n",
      "\u001b[1mgauss\u001b[0m = \u001b[1m\u001b[94m0.0\u001b[0m\u001b[0m [1] // Gaussian (1) or Flat (0) energy/wavelength distribution\n",
      "\u001b[1mtarget_index\u001b[0m = \u001b[1m\u001b[94m1\u001b[0m\u001b[0m [1] // relative index of component to focus at, e.g. next is \n",
      "                        +1 this is used to compute 'dist' automatically. \n",
      "-------------------------------------------------------------------------------------\n"
     ]
    }
   ],
   "source": [
    "source = instrument.add_component(\"source\", \"Source_simple\")\n",
    "source.show_parameters()"
   ]
  },
  {
   "cell_type": "code",
   "execution_count": 28,
   "id": "8e922c42-cb8f-4316-9614-66d211290cb1",
   "metadata": {},
   "outputs": [
    {
     "name": "stdout",
     "output_type": "stream",
     "text": [
      "COMPONENT source = Source_simple(\n",
      "  \u001b[1myheight\u001b[0m = \u001b[1m\u001b[92m0.01\u001b[0m\u001b[0m, // [m]\n",
      "  \u001b[1mxwidth\u001b[0m = \u001b[1m\u001b[92m0.01\u001b[0m\u001b[0m, // [m]\n",
      "  \u001b[1mdist\u001b[0m = \u001b[1m\u001b[92m5\u001b[0m\u001b[0m, // [m]\n",
      "  \u001b[1mfocus_xw\u001b[0m = \u001b[1m\u001b[92m0.01\u001b[0m\u001b[0m, // [m]\n",
      "  \u001b[1mfocus_yh\u001b[0m = \u001b[1m\u001b[92m0.01\u001b[0m\u001b[0m, // [m]\n",
      "  \u001b[1mlambda0\u001b[0m = \u001b[1m\u001b[92m2.165\u001b[0m\u001b[0m, // [AA]\n",
      "  \u001b[1mdlambda\u001b[0m = \u001b[1m\u001b[92m2.2\u001b[0m\u001b[0m, // [AA]\n",
      "  \u001b[1mgauss\u001b[0m = \u001b[1m\u001b[92m1\u001b[0m\u001b[0m // [1]\n",
      ")\n",
      "AT (0, 0, 0) ABSOLUTE\n"
     ]
    }
   ],
   "source": [
    "source.yheight = 0.01\n",
    "source.xwidth = 0.01\n",
    "source.dist = 5\n",
    "source.focus_xw = 0.01\n",
    "source.focus_yh = 0.01\n",
    "source.lambda0 = 2.165\n",
    "source.dlambda = 2.2\n",
    "source.gauss=1\n",
    "print(source)"
   ]
  },
  {
   "cell_type": "code",
   "execution_count": 29,
   "id": "c7c7bdfa-61e0-4c99-9ddc-edea85a741cd",
   "metadata": {},
   "outputs": [
    {
     "name": "stdout",
     "output_type": "stream",
     "text": [
      "COMPONENT source = Source_simple(\n",
      "  \u001b[1myheight\u001b[0m = \u001b[1m\u001b[92m0.01\u001b[0m\u001b[0m, // [m]\n",
      "  \u001b[1mxwidth\u001b[0m = \u001b[1m\u001b[92m0.01\u001b[0m\u001b[0m, // [m]\n",
      "  \u001b[1mdist\u001b[0m = \u001b[1m\u001b[92m5\u001b[0m\u001b[0m, // [m]\n",
      "  \u001b[1mfocus_xw\u001b[0m = \u001b[1m\u001b[92m0.01\u001b[0m\u001b[0m, // [m]\n",
      "  \u001b[1mfocus_yh\u001b[0m = \u001b[1m\u001b[92m0.01\u001b[0m\u001b[0m, // [m]\n",
      "  \u001b[1mlambda0\u001b[0m = \u001b[1m\u001b[92mwavelength\u001b[0m\u001b[0m, // [AA]\n",
      "  \u001b[1mdlambda\u001b[0m = \u001b[1m\u001b[92mdelta_wavelength\u001b[0m\u001b[0m, // [AA]\n",
      "  \u001b[1mgauss\u001b[0m = \u001b[1m\u001b[92m1\u001b[0m\u001b[0m // [1]\n",
      ")\n",
      "AT (0, 0, 0) ABSOLUTE\n"
     ]
    }
   ],
   "source": [
    "wavelength = instrument.add_parameter(\"wavelength\", value=L0, comment=\"Wavelength in AA\")\n",
    "delta_wavelength = instrument.add_parameter(\"delta_wavelength\", value=DL, comment=\"Stdev of Wavelength in AA\")\n",
    "B_field_y = instrument.add_parameter(\"B_field_y\", value=By, comment=\"Flipper field strength in Y direction (?)\")\n",
    "\n",
    "source.lambda0 = wavelength\n",
    "source.dlambda = delta_wavelength\n",
    "print(source)"
   ]
  },
  {
   "cell_type": "code",
   "execution_count": 30,
   "id": "c876b952-52ed-438c-88cc-e6490bdc357d",
   "metadata": {},
   "outputs": [],
   "source": [
    "set_pol = instrument.add_component(\"set_pol\", \"Set_pol\")\n",
    "set_pol.set_parameters(px=1)\n",
    "set_pol.set_AT(0.01, RELATIVE=source)"
   ]
  },
  {
   "cell_type": "code",
   "execution_count": 31,
   "id": "f269b4a6",
   "metadata": {},
   "outputs": [],
   "source": [
    "f1 = instrument.add_component(\"f1\",\"Foil_flipper_magnet\")\n",
    "f1.set_parameters(\n",
    "    xwidth=0.1, \n",
    "    yheight=0.1, \n",
    "    zdepth=0.3, \n",
    "    phi=0.095993, \n",
    "    foilthick=3.0, \n",
    "    Bx=0, \n",
    "    By=B_field_y, \n",
    "    Bz=0, \n",
    "    foil_in=1, verbose=0\n",
    ")\n",
    "f1.set_AT(1.0, RELATIVE=source)"
   ]
  },
  {
   "cell_type": "code",
   "execution_count": 32,
   "id": "bffd1a45",
   "metadata": {},
   "outputs": [],
   "source": [
    "# f2 = instrument.copy_component(\"f1\")\n",
    "\n",
    "f2 = instrument.add_component(\"f2\",\"Foil_flipper_magnet\")\n",
    "f2.set_parameters(\n",
    "    xwidth=0.1, \n",
    "    yheight=0.1, \n",
    "    zdepth=0.3, \n",
    "    phi=0.095993, \n",
    "    foilthick=3.0, \n",
    "    Bx=0, \n",
    "    By=\"2 * B_field_y\", \n",
    "    Bz=0, \n",
    "    foil_in=1, verbose=0\n",
    ")\n",
    "\n",
    "\n",
    "f2.set_AT(3.0, RELATIVE=source)\n",
    "# # Todo: remove this, make it unnecessary\n",
    "\n",
    "# f2.set_parameters(By=\"2 * B_field_y\")\n"
   ]
  },
  {
   "cell_type": "code",
   "execution_count": 33,
   "id": "e7000869",
   "metadata": {},
   "outputs": [],
   "source": [
    "ana = instrument.add_component(\"ana\",\"PolAnalyser_ideal\")\n",
    "ana.set_parameters(mx=AnaSign)\n",
    "ana.set_AT(0.18, RELATIVE=f2)\n"
   ]
  },
  {
   "cell_type": "code",
   "execution_count": 34,
   "id": "c5294b25",
   "metadata": {},
   "outputs": [],
   "source": [
    "sans_spheres = instrument.add_component(\"sans_sample\", \"SANS_spheres2\")"
   ]
  },
  {
   "cell_type": "code",
   "execution_count": 35,
   "id": "15f87c09-67d8-4874-a8b3-19e3a2db5668",
   "metadata": {},
   "outputs": [
    {
     "name": "stdout",
     "output_type": "stream",
     "text": [
      "COMPONENT sans_sample = SANS_spheres2(\n",
      "  \u001b[1mxwidth\u001b[0m = \u001b[1m\u001b[92m0.02\u001b[0m\u001b[0m, // [m]\n",
      "  \u001b[1myheight\u001b[0m = \u001b[1m\u001b[92m0.02\u001b[0m\u001b[0m, // [m]\n",
      "  \u001b[1mzthick\u001b[0m = \u001b[1m\u001b[92m0.001\u001b[0m\u001b[0m, // [m]\n",
      "  \u001b[1mdsdw_inc\u001b[0m = \u001b[1m\u001b[92m0.0\u001b[0m\u001b[0m, // [cm^-1]\n",
      "  \u001b[1msc_aim\u001b[0m = \u001b[1m\u001b[92m0.8\u001b[0m\u001b[0m, // [1]\n",
      "  \u001b[1msans_aim\u001b[0m = \u001b[1m\u001b[92m0.95\u001b[0m\u001b[0m, // [1]\n",
      "  \u001b[1mR\u001b[0m = \u001b[1m\u001b[92m10000\u001b[0m\u001b[0m, // [AA]\n",
      "  \u001b[1mphi\u001b[0m = \u001b[1m\u001b[92m0.015\u001b[0m\u001b[0m, // [1]\n",
      "  \u001b[1msinglesp\u001b[0m = \u001b[1m\u001b[92m0\u001b[0m\u001b[0m, // [1]\n",
      "  \u001b[1mQmind\u001b[0m = \u001b[1m\u001b[92m3e-05\u001b[0m\u001b[0m, // [AA^-1]\n",
      "  \u001b[1mQmaxd\u001b[0m = \u001b[1m\u001b[92m0.001\u001b[0m\u001b[0m // [AA^-1]\n",
      ")\n",
      "AT (0, 0, 0.2) RELATIVE f2\n"
     ]
    }
   ],
   "source": [
    "sans_spheres.set_AT(0.2, RELATIVE=f2)\n",
    "sans_spheres.set_parameters(xwidth=0.02, \n",
    "    yheight=0.02, \n",
    "\tzthick=0.001, \n",
    "\tdsdw_inc=0.0, \n",
    "\tsc_aim=0.8, \n",
    "\tsans_aim=0.95, \n",
    "\tR=10000, \n",
    "\tphi=0.015, \n",
    "\tsinglesp=0,\n",
    "\tQmind = 0.00003,\n",
    "\tQmaxd = 0.001)\n",
    "print(sans_spheres)\n"
   ]
  },
  {
   "cell_type": "code",
   "execution_count": 36,
   "id": "27457b9b-4d8e-42c4-af0f-6dfcc5f57a61",
   "metadata": {},
   "outputs": [],
   "source": [
    "PSD = instrument.add_component(\"PSD\", \"PSD_monitor\")\n",
    "PSD.set_AT([0, 0, 5], RELATIVE=source)\n",
    "PSD.set_parameters(xwidth=0.011, yheight=0.011 ,ny=1001, nx=1, filename='\"PSD.dat\"')"
   ]
  },
  {
   "cell_type": "code",
   "execution_count": 37,
   "id": "3854f085-38bd-486c-ac70-9fb782ceea0d",
   "metadata": {},
   "outputs": [
    {
     "name": "stdout",
     "output_type": "stream",
     "text": [
      " wavelength        = 2.165    // Wavelength in AA\n",
      " delta_wavelength  = 0.02     // Stdev of Wavelength in AA\n",
      " B_field_y         = 0.00468  // Flipper field strength in Y direction (?)\n"
     ]
    }
   ],
   "source": [
    "instrument.show_parameters()"
   ]
  },
  {
   "cell_type": "code",
   "execution_count": 38,
   "id": "34cabc36-8fa0-4ee3-b3f6-b1d6ea3a399c",
   "metadata": {},
   "outputs": [],
   "source": [
    "instrument.settings(mpi=4, ncount=1E6)"
   ]
  },
  {
   "cell_type": "code",
   "execution_count": 39,
   "id": "bdcd7384-a74f-4980-85bf-c02aa838f2b8",
   "metadata": {},
   "outputs": [
    {
     "name": "stdout",
     "output_type": "stream",
     "text": [
      "\n",
      "/usr/share/mcstas/3.4/tools/Python/mcrun/mcrun.py:450: SyntaxWarning: invalid escape sequence '\\w'\n",
      "  params = re.findall('[\\w0-9]+=[^=\\s]+', text)\n",
      "/usr/share/mcstas/3.4/tools/Python/mcrun/mccode.py:328: SyntaxWarning: invalid escape sequence '\\ '\n",
      "  ''' Escape \\ and \" '''\n",
      "INFO: Using directory: \"/home/tbvanderwoude/repos/bep/my_instrument_3\"\n",
      "INFO: Regenerating c-file: my_instrument.c\n",
      "Info:    'Foil_flipper_magnet' is a contributed component.\n",
      "CFLAGS=\n",
      "\n",
      "-----------------------------------------------------------\n",
      "\n",
      "Generating single GPU kernel or single CPU section layout: \n",
      "\n",
      "-----------------------------------------------------------\n",
      "\n",
      "Generating GPU/CPU -DFUNNEL layout:\n",
      "\n",
      "-----------------------------------------------------------\n",
      "INFO: Recompiling: ./my_instrument.out\n",
      "./my_instrument.c: In function ‘Table_Read_Handle’:\n",
      "./my_instrument.c:7220:60: warning: format ‘%i’ expects argument of type ‘int’, but argument 5 has type ‘long int’ [-Wformat=]\n",
      " 7220 |       fprintf(stderr,\"Warning: Read_Table :%s %s Data has %i invalid lines (*****). Ignored.\\n\",\n",
      "      |                                                           ~^\n",
      "      |                                                            |\n",
      "      |                                                            int\n",
      "      |                                                           %li\n",
      "......\n",
      " 7223 |         count_invalid);\n",
      "      |         ~~~~~~~~~~~~~                                       \n",
      "      |         |\n",
      "      |         long int\n",
      "./my_instrument.c: In function ‘class_PSD_monitor_init’:\n",
      "./my_instrument.c:664:33: warning: format not a string literal and no format arguments [-Wformat-security]\n",
      "  664 | #define NAME_CURRENT_COMP (_comp->_name)\n",
      "      |                           ~~~~~~^~~~~~~~\n",
      "./my_instrument.c:10230:48: note: in expansion of macro ‘NAME_CURRENT_COMP’\n",
      "10230 |   if (!strcmp(filename,\"\\0\")) sprintf(filename,NAME_CURRENT_COMP);\n",
      "      |                                                ^~~~~~~~~~~~~~~~~\n",
      "./my_instrument.c: In function ‘detector_import’:\n",
      "./my_instrument.c:2342:57: warning: ‘ ’ directive output may be truncated writing 1 byte into a region of size between 0 and 1023 [-Wformat-truncation=]\n",
      " 2342 |     snprintf(detector.variables, CHAR_BUF_LENGTH, \"%s %s %s_err N\", detector.xvar, c, c);\n",
      "      |                                                         ^\n",
      "In file included from /usr/include/stdio.h:894,\n",
      "                 from ./my_instrument.c:243:\n",
      "/usr/include/x86_64-linux-gnu/bits/stdio2.h:71:10: note: ‘__builtin___snprintf_chk’ output 9 or more bytes (assuming 1032) into a destination of size 1024\n",
      "   71 |   return __builtin___snprintf_chk (__s, __n, __USE_FORTIFY_LEVEL - 1,\n",
      "      |          ^~~~~~~~~~~~~~~~~~~~~~~~~~~~~~~~~~~~~~~~~~~~~~~~~~~~~~~~~~~~\n",
      "   72 |                                    __glibc_objsize (__s), __fmt,\n",
      "      |                                    ~~~~~~~~~~~~~~~~~~~~~~~~~~~~~\n",
      "   73 |                                    __va_arg_pack ());\n",
      "      |                                    ~~~~~~~~~~~~~~~~~\n",
      "./my_instrument.c: In function ‘Open_File’:\n",
      "./my_instrument.c:6781:41: warning: ‘__builtin___snprintf_chk’ output may be truncated before the last format character [-Wformat-truncation=]\n",
      " 6781 |             snprintf(path, 1024, \"%s%c%s\", dir, MC_PATHSEP_C, File);\n",
      "      |                                         ^\n",
      "In file included from /usr/include/stdio.h:894,\n",
      "                 from ./my_instrument.c:243:\n",
      "/usr/include/x86_64-linux-gnu/bits/stdio2.h:71:10: note: ‘__builtin___snprintf_chk’ output 2 or more bytes (assuming 1025) into a destination of size 1024\n",
      "   71 |   return __builtin___snprintf_chk (__s, __n, __USE_FORTIFY_LEVEL - 1,\n",
      "      |          ^~~~~~~~~~~~~~~~~~~~~~~~~~~~~~~~~~~~~~~~~~~~~~~~~~~~~~~~~~~~\n",
      "   72 |                                    __glibc_objsize (__s), __fmt,\n",
      "      |                                    ~~~~~~~~~~~~~~~~~~~~~~~~~~~~~\n",
      "   73 |                                    __va_arg_pack ());\n",
      "      |                                    ~~~~~~~~~~~~~~~~~\n",
      "./my_instrument.c:6796:41: warning: ‘__builtin___snprintf_chk’ output may be truncated before the last format character [-Wformat-truncation=]\n",
      " 6796 |             snprintf(path, 1024, \"%s%c%s\", dir, MC_PATHSEP_C, File);\n",
      "      |                                         ^\n",
      "In file included from /usr/include/stdio.h:894,\n",
      "                 from ./my_instrument.c:243:\n",
      "/usr/include/x86_64-linux-gnu/bits/stdio2.h:71:10: note: ‘__builtin___snprintf_chk’ output 2 or more bytes (assuming 1025) into a destination of size 1024\n",
      "   71 |   return __builtin___snprintf_chk (__s, __n, __USE_FORTIFY_LEVEL - 1,\n",
      "      |          ^~~~~~~~~~~~~~~~~~~~~~~~~~~~~~~~~~~~~~~~~~~~~~~~~~~~~~~~~~~~\n",
      "   72 |                                    __glibc_objsize (__s), __fmt,\n",
      "      |                                    ~~~~~~~~~~~~~~~~~~~~~~~~~~~~~\n",
      "   73 |                                    __va_arg_pack ());\n",
      "      |                                    ~~~~~~~~~~~~~~~~~\n",
      "./my_instrument.c:6804:37: warning: ‘__builtin___snprintf_chk’ output may be truncated before the last format character [-Wformat-truncation=]\n",
      " 6804 |         snprintf(path, 1024, \"%s%c%s\", dir, MC_PATHSEP_C, File);\n",
      "      |                                     ^\n",
      "In file included from /usr/include/stdio.h:894,\n",
      "                 from ./my_instrument.c:243:\n",
      "/usr/include/x86_64-linux-gnu/bits/stdio2.h:71:10: note: ‘__builtin___snprintf_chk’ output 2 or more bytes (assuming 1025) into a destination of size 1024\n",
      "   71 |   return __builtin___snprintf_chk (__s, __n, __USE_FORTIFY_LEVEL - 1,\n",
      "      |          ^~~~~~~~~~~~~~~~~~~~~~~~~~~~~~~~~~~~~~~~~~~~~~~~~~~~~~~~~~~~\n",
      "   72 |                                    __glibc_objsize (__s), __fmt,\n",
      "      |                                    ~~~~~~~~~~~~~~~~~~~~~~~~~~~~~\n",
      "   73 |                                    __va_arg_pack ());\n",
      "      |                                    ~~~~~~~~~~~~~~~~~\n",
      "./my_instrument.c:6810:35: warning: ‘%s’ directive output may be truncated writing 4 bytes into a region of size between 0 and 1023 [-Wformat-truncation=]\n",
      " 6810 |         snprintf(path, 1024, \"%s%c%s%c%s\", dir, MC_PATHSEP_C, \"data\", MC_PATHSEP_C, File);\n",
      "      |                                   ^~                          ~~~~~~\n",
      "In file included from /usr/include/stdio.h:894,\n",
      "                 from ./my_instrument.c:243:\n",
      "/usr/include/x86_64-linux-gnu/bits/stdio2.h:71:10: note: ‘__builtin___snprintf_chk’ output 7 or more bytes (assuming 1030) into a destination of size 1024\n",
      "   71 |   return __builtin___snprintf_chk (__s, __n, __USE_FORTIFY_LEVEL - 1,\n",
      "      |          ^~~~~~~~~~~~~~~~~~~~~~~~~~~~~~~~~~~~~~~~~~~~~~~~~~~~~~~~~~~~\n",
      "   72 |                                    __glibc_objsize (__s), __fmt,\n",
      "      |                                    ~~~~~~~~~~~~~~~~~~~~~~~~~~~~~\n",
      "   73 |                                    __va_arg_pack ());\n",
      "      |                                    ~~~~~~~~~~~~~~~~~\n",
      "./my_instrument.c:6816:35: warning: ‘%s’ directive output may be truncated writing 7 bytes into a region of size between 0 and 1023 [-Wformat-truncation=]\n",
      " 6816 |         snprintf(path, 1024, \"%s%c%s%c%s\", dir, MC_PATHSEP_C, \"contrib\", MC_PATHSEP_C, File);\n",
      "      |                                   ^~                          ~~~~~~~~~\n",
      "In file included from /usr/include/stdio.h:894,\n",
      "                 from ./my_instrument.c:243:\n",
      "/usr/include/x86_64-linux-gnu/bits/stdio2.h:71:10: note: ‘__builtin___snprintf_chk’ output 10 or more bytes (assuming 1033) into a destination of size 1024\n",
      "   71 |   return __builtin___snprintf_chk (__s, __n, __USE_FORTIFY_LEVEL - 1,\n",
      "      |          ^~~~~~~~~~~~~~~~~~~~~~~~~~~~~~~~~~~~~~~~~~~~~~~~~~~~~~~~~~~~\n",
      "   72 |                                    __glibc_objsize (__s), __fmt,\n",
      "      |                                    ~~~~~~~~~~~~~~~~~~~~~~~~~~~~~\n",
      "   73 |                                    __va_arg_pack ());\n",
      "      |                                    ~~~~~~~~~~~~~~~~~\n",
      "./my_instrument.c: In function ‘class_Foil_flipper_magnet_trace’:\n",
      "./my_instrument.c:10577:5: warning: ‘mcmagnet_push’ accessing 64 bytes in a region of size 32 [-Wstringop-overflow=]\n",
      "10577 |     mcmagnet_push(_particle,0,&(ROT_A_CURRENT_COMP),&(POS_A_CURRENT_COMP),0,instray_magnet);\n",
      "      |     ^~~~~~~~~~~~~~~~~~~~~~~~~~~~~~~~~~~~~~~~~~~~~~~~~~~~~~~~~~~~~~~~~~~~~~~~~~~~~~~~~~~~~~~\n",
      "./my_instrument.c:10577:5: note: referencing argument 6 of type ‘double *’\n",
      "./my_instrument.c:8805:7: note: in a call to function ‘mcmagnet_push’\n",
      " 8805 | void *mcmagnet_push(_class_particle *_particle, int func_id, Rotation *magnet_rot, Coords *magnet_pos, int stopbit, double prms[8]){\n",
      "      |       ^~~~~~~~~~~~~\n",
      "./my_instrument.c:10594:3: warning: ‘mcmagnet_push’ accessing 64 bytes in a region of size 24 [-Wstringop-overflow=]\n",
      "10594 |   mcmagnet_push(_particle,constant,&(ROT_A_CURRENT_COMP),&(POS_A_CURRENT_COMP),1,inside_magnet);\n",
      "      |   ^~~~~~~~~~~~~~~~~~~~~~~~~~~~~~~~~~~~~~~~~~~~~~~~~~~~~~~~~~~~~~~~~~~~~~~~~~~~~~~~~~~~~~~~~~~~~\n",
      "./my_instrument.c:10594:3: note: referencing argument 6 of type ‘double *’\n",
      "./my_instrument.c:8805:7: note: in a call to function ‘mcmagnet_push’\n",
      " 8805 | void *mcmagnet_push(_class_particle *_particle, int func_id, Rotation *magnet_rot, Coords *magnet_pos, int stopbit, double prms[8]){\n",
      "      |       ^~~~~~~~~~~~~\n",
      "./my_instrument.c:10635:5: warning: ‘mcmagnet_push’ accessing 64 bytes in a region of size 32 [-Wstringop-overflow=]\n",
      "10635 |     mcmagnet_push(_particle,0,&(ROT_A_CURRENT_COMP),&(POS_A_CURRENT_COMP),0,outstray_magnet);\n",
      "      |     ^~~~~~~~~~~~~~~~~~~~~~~~~~~~~~~~~~~~~~~~~~~~~~~~~~~~~~~~~~~~~~~~~~~~~~~~~~~~~~~~~~~~~~~~\n",
      "./my_instrument.c:10635:5: note: referencing argument 6 of type ‘double *’\n",
      "./my_instrument.c:8805:7: note: in a call to function ‘mcmagnet_push’\n",
      " 8805 | void *mcmagnet_push(_class_particle *_particle, int func_id, Rotation *magnet_rot, Coords *magnet_pos, int stopbit, double prms[8]){\n",
      "      |       ^~~~~~~~~~~~~\n",
      "INFO: ===\n",
      "Simulation 'my_instrument' (my_instrument.instr): running on 4 nodes (master is 'pop-os', MPI version 3.1).\n",
      "INFO: Set_pol(set_pol): Setting polarization to (1.000000, 0.000000, 0.000000)\n",
      "INFO: Set_pol(set_pol): Setting polarization to (1.000000, 0.000000, 0.000000)\n",
      "INFO: Set_pol(set_pol): Setting polarization to (1.000000, 0.000000, 0.000000)\n",
      "INFO: Set_pol(set_pol): Setting polarization to (1.000000, 0.000000, 0.000000)\n",
      "*** TRACE end *** \n",
      "Detector: PSD_I=7.82456e-08 PSD_ERR=1.57273e-10 PSD_N=951942 \"PSD.dat\"\n",
      "INFO: Placing instr file copy my_instrument.instr in dataset /home/tbvanderwoude/repos/bep/my_instrument_3\n",
      "\n"
     ]
    }
   ],
   "source": [
    "data = instrument.backengine()"
   ]
  },
  {
   "cell_type": "code",
   "execution_count": 40,
   "id": "866bc275-2e7f-48f4-b8d8-7f0e76c46589",
   "metadata": {},
   "outputs": [
    {
     "data": {
      "image/png": "[encoded data removed]",
      "text/plain": [
       "<Figure size 700x500 with 1 Axes>"
      ]
     },
     "metadata": {},
     "output_type": "display_data"
    }
   ],
   "source": [
    "ms.make_sub_plot(data, log=False)\n"
   ]
  },
  {
   "cell_type": "code",
   "execution_count": 41,
   "id": "60d830f5-4e41-4ddb-8f68-8263b365f53c",
   "metadata": {},
   "outputs": [
    {
     "name": "stdout",
     "output_type": "stream",
     "text": [
      "[\n",
      "McStasData: PSD type: 1D  I:7.82456e-08 E:1.57273e-10 N:951942.0]\n"
     ]
    }
   ],
   "source": [
    "print(data)"
   ]
  },
  {
   "cell_type": "code",
   "execution_count": 21,
   "id": "95ad9300-867f-4378-aeeb-3a0b566abe0b",
   "metadata": {},
   "outputs": [],
   "source": [
    "PSD_data = ms.name_search(\"PSD\", data)"
   ]
  },
  {
   "cell_type": "code",
   "execution_count": 22,
   "id": "f930fc45-07bb-40da-9c27-64b18a88bbc9",
   "metadata": {},
   "outputs": [
    {
     "data": {
      "text/plain": [
       "array([1.19429580e-14, 1.59607967e-15, 6.07630383e-15, ...,\n",
       "       6.55883375e-14, 8.22755363e-14, 3.23386497e-14])"
      ]
     },
     "execution_count": 22,
     "metadata": {},
     "output_type": "execute_result"
    }
   ],
   "source": [
    "PSD_data.Intensity"
   ]
  }
 ],
 "metadata": {
  "kernelspec": {
   "display_name": "Python 3 (ipykernel)",
   "language": "python",
   "name": "python3"
  },
  "language_info": {
   "codemirror_mode": {
    "name": "ipython",
    "version": 3
   },
   "file_extension": ".py",
   "mimetype": "text/x-python",
   "name": "python",
   "nbconvert_exporter": "python",
   "pygments_lexer": "ipython3",
   "version": "3.12.3"
  }
 },
 "nbformat": 4,
 "nbformat_minor": 5
}

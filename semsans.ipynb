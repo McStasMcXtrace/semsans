{
 "cells": [
  {
   "cell_type": "code",
   "execution_count": null,
   "id": "b45e5af8-21f0-437f-84e2-ca097727db80",
   "metadata": {},
   "outputs": [],
   "source": [
    "import mcstasscript as ms\n",
    "my_configurator = ms.Configurator()\n",
    "my_configurator.set_mcrun_path(\"/usr/bin/\")\n",
    "my_configurator.set_mcstas_path(\"/usr/share/mcstas/3.4/\")"
   ]
  },
  {
   "cell_type": "code",
   "execution_count": null,
   "id": "e13007c6-85f5-43c8-b2dd-ea482d67e331",
   "metadata": {},
   "outputs": [],
   "source": [
    "instrument = ms.McStas_instr(\"my_instrument\")\n",
    "L0=2.165\n",
    "DL=0.02\n",
    "By=4.68e-3\n",
    "AnaSign=1"
   ]
  },
  {
   "cell_type": "code",
   "execution_count": null,
   "id": "52125956-e804-4b13-a342-8c238f418f5d",
   "metadata": {},
   "outputs": [],
   "source": [
    "instrument.available_components()"
   ]
  },
  {
   "cell_type": "code",
   "execution_count": null,
   "id": "627465a5-84c0-447a-a3ae-dfa47621dadd",
   "metadata": {},
   "outputs": [],
   "source": [
    "source = instrument.add_component(\"source\", \"Source_simple\")\n",
    "source.show_parameters()"
   ]
  },
  {
   "cell_type": "code",
   "execution_count": null,
   "id": "8e922c42-cb8f-4316-9614-66d211290cb1",
   "metadata": {},
   "outputs": [],
   "source": [
    "source.yheight = 0.01\n",
    "source.xwidth = 0.01\n",
    "source.dist = 5\n",
    "source.focus_xw = 0.01\n",
    "source.focus_yh = 0.01\n",
    "source.lambda0 = 2.165\n",
    "source.dlambda = 2.2\n",
    "gauss=1\n",
    "print(source)"
   ]
  },
  {
   "cell_type": "code",
   "execution_count": null,
   "id": "c7c7bdfa-61e0-4c99-9ddc-edea85a741cd",
   "metadata": {},
   "outputs": [],
   "source": [
    "wavelength = instrument.add_parameter(\"wavelength\", value=L0, comment=\"Wavelength in AA\")\n",
    "delta_wavelength = instrument.add_parameter(\"delta_wavelength\", value=DL, comment=\"Stdev of Wavelength in AA\")\n",
    "By = instrument.add_parameter(\"By\", value=By, comment=\"Flipper field strength in Y direction (?)\")\n",
    "\n",
    "source.lambda0 = wavelength\n",
    "source.dlambda = delta_wavelength\n",
    "print(source)"
   ]
  },
  {
   "cell_type": "code",
   "execution_count": null,
   "id": "c876b952-52ed-438c-88cc-e6490bdc357d",
   "metadata": {},
   "outputs": [],
   "source": [
    "set_pol = instrument.add_component(\"set_pol\", \"Set_pol\")\n",
    "set_pol.set_parameters(px=1)\n",
    "set_pol.set_AT(0.01, RELATIVE=source)"
   ]
  },
  {
   "cell_type": "code",
   "execution_count": null,
   "id": "f269b4a6",
   "metadata": {},
   "outputs": [],
   "source": [
    "f1 = instrument.add_component(\"f1\",\"Foil_flipper_magnet\")\n",
    "f1.set_parameters(\n",
    "    xwidth=0.1, \n",
    "    yheight=0.1, \n",
    "    zdepth=0.3, \n",
    "    phi=0.095993, \n",
    "    foilthick=3.0, \n",
    "    Bx=0, \n",
    "    By=By, \n",
    "    Bz=0, \n",
    "    foil_in=1, verbose=0\n",
    ")\n",
    "f1.set_AT(1.0, RELATIVE=source)"
   ]
  },
  {
   "cell_type": "code",
   "execution_count": null,
   "id": "bffd1a45",
   "metadata": {},
   "outputs": [],
   "source": [
    "f2 = instrument.copy_component(\"f1\")\n",
    "f2.set_AT(3.0, RELATIVE=source)\n",
    "# Todo: remove this, make it unnecessary\n",
    "By=4.68e-3\n",
    "\n",
    "f2.set_parameters(By=2 * By)\n"
   ]
  },
  {
   "cell_type": "code",
   "execution_count": null,
   "id": "e7000869",
   "metadata": {},
   "outputs": [],
   "source": [
    "ana = instrument.add_component(\"ana\",\"PolAnalyser_ideal\")\n",
    "ana.set_parameters(mx=AnaSign)\n",
    "ana.set_AT(0.18, RELATIVE=f2)\n"
   ]
  },
  {
   "cell_type": "code",
   "execution_count": null,
   "id": "c5294b25",
   "metadata": {},
   "outputs": [],
   "source": [
    "sans_spheres = instrument.add_component(\"sans_sample\", \"SANS_spheres2\")"
   ]
  },
  {
   "cell_type": "code",
   "execution_count": null,
   "id": "15f87c09-67d8-4874-a8b3-19e3a2db5668",
   "metadata": {},
   "outputs": [],
   "source": [
    "sans_spheres.set_AT(0.2, RELATIVE=f2)\n",
    "sans_spheres.set_parameters(xwidth=0.02, \n",
    "    yheight=0.02, \n",
    "\tzthick=0.001, \n",
    "\tdsdw_inc=0.0, \n",
    "\tsc_aim=0.8, \n",
    "\tsans_aim=0.95, \n",
    "\tR=10000, \n",
    "\tphi=0.015, \n",
    "\tsinglesp=0,\n",
    "\tQmind = 0.00003,\n",
    "\tQmaxd = 0.001)\n",
    "print(sans_spheres)\n"
   ]
  },
  {
   "cell_type": "code",
   "execution_count": null,
   "id": "27457b9b-4d8e-42c4-af0f-6dfcc5f57a61",
   "metadata": {},
   "outputs": [],
   "source": [
    "PSD = instrument.add_component(\"PSD\", \"PSD_monitor\")\n",
    "PSD.set_AT([0, 0, 5], RELATIVE=source)\n",
    "PSD.set_parameters(xwidth=0.011, yheight=0.011 ,ny=1001, nx=1, filename='\"PSD.dat\"')"
   ]
  },
  {
   "cell_type": "code",
   "execution_count": null,
   "id": "3854f085-38bd-486c-ac70-9fb782ceea0d",
   "metadata": {},
   "outputs": [],
   "source": [
    "instrument.show_parameters()"
   ]
  },
  {
   "cell_type": "code",
   "execution_count": null,
   "id": "34cabc36-8fa0-4ee3-b3f6-b1d6ea3a399c",
   "metadata": {},
   "outputs": [],
   "source": [
    "instrument.settings(mpi=4, ncount=1E8)"
   ]
  },
  {
   "cell_type": "code",
   "execution_count": null,
   "id": "bdcd7384-a74f-4980-85bf-c02aa838f2b8",
   "metadata": {},
   "outputs": [],
   "source": [
    "data = instrument.backengine()"
   ]
  },
  {
   "cell_type": "code",
   "execution_count": null,
   "id": "866bc275-2e7f-48f4-b8d8-7f0e76c46589",
   "metadata": {},
   "outputs": [],
   "source": [
    "ms.make_sub_plot(data, log=False)\n"
   ]
  },
  {
   "cell_type": "code",
   "execution_count": null,
   "id": "60d830f5-4e41-4ddb-8f68-8263b365f53c",
   "metadata": {},
   "outputs": [],
   "source": [
    "print(data)"
   ]
  },
  {
   "cell_type": "code",
   "execution_count": null,
   "id": "95ad9300-867f-4378-aeeb-3a0b566abe0b",
   "metadata": {},
   "outputs": [],
   "source": [
    "PSD_data = ms.name_search(\"PSD\", data)"
   ]
  },
  {
   "cell_type": "code",
   "execution_count": null,
   "id": "f930fc45-07bb-40da-9c27-64b18a88bbc9",
   "metadata": {},
   "outputs": [],
   "source": [
    "PSD_data.Intensity"
   ]
  }
 ],
 "metadata": {
  "kernelspec": {
   "display_name": "Python 3 (ipykernel)",
   "language": "python",
   "name": "python3"
  },
  "language_info": {
   "codemirror_mode": {
    "name": "ipython",
    "version": 3
   },
   "file_extension": ".py",
   "mimetype": "text/x-python",
   "name": "python",
   "nbconvert_exporter": "python",
   "pygments_lexer": "ipython3",
   "version": "3.12.3"
  }
 },
 "nbformat": 4,
 "nbformat_minor": 5
}
